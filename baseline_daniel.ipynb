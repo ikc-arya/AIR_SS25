{
  "cells": [
    {
      "cell_type": "markdown",
      "metadata": {
        "id": "vpDCfBMouNAL"
      },
      "source": [
        "# 1) Importing data"
      ]
    },
    {
      "cell_type": "code",
      "execution_count": 5,
      "metadata": {
        "id": "rQPqDKP_QHFM"
      },
      "outputs": [],
      "source": [
        "import numpy as np\n",
        "import pandas as pd"
      ]
    },
    {
      "cell_type": "markdown",
      "metadata": {
        "id": "u8N7h9BhQI5m"
      },
      "source": [
        "## 1.a) Import the collection set\n",
        "The collection set contains metadata of CORD-19 academic papers.\n",
        "\n",
        "The preprocessed and filtered CORD-19 dataset is available on the Gitlab repository here: https://gitlab.com/checkthat_lab/clef2025-checkthat-lab/-/tree/main/task4/subtask_4b\n",
        "\n",
        "Participants should first download the file then upload it on the Google Colab session with the following steps.\n"
      ]
    },
    {
      "cell_type": "code",
      "execution_count": 6,
      "metadata": {
        "id": "2GQI4HcKR6hS"
      },
      "outputs": [],
      "source": [
        "# 1) Download the collection set from the Gitlab repository: https://gitlab.com/checkthat_lab/clef2025-checkthat-lab/-/tree/main/task4/subtask_4b\n",
        "# 2) Drag and drop the downloaded file to the \"Files\" section (left vertical menu on Colab)\n",
        "# 3) Modify the path to your local file path\n",
        "PATH_COLLECTION_DATA = 'subtask_4b/subtask4b_collection_data.pkl' #MODIFY PATH"
      ]
    },
    {
      "cell_type": "code",
      "execution_count": 7,
      "metadata": {
        "id": "SYBB3UYbMwTA"
      },
      "outputs": [],
      "source": [
        "df_collection = pd.read_pickle(PATH_COLLECTION_DATA)"
      ]
    },
    {
      "cell_type": "code",
      "execution_count": 8,
      "metadata": {
        "colab": {
          "base_uri": "https://localhost:8080/"
        },
        "id": "4v3lygNOQQSn",
        "outputId": "82625fcd-ce25-44d6-eee3-bd1a84fbbfd8"
      },
      "outputs": [
        {
          "output_type": "stream",
          "name": "stdout",
          "text": [
            "<class 'pandas.core.frame.DataFrame'>\n",
            "Index: 7718 entries, 162 to 1056448\n",
            "Data columns (total 17 columns):\n",
            " #   Column            Non-Null Count  Dtype         \n",
            "---  ------            --------------  -----         \n",
            " 0   cord_uid          7718 non-null   object        \n",
            " 1   source_x          7718 non-null   object        \n",
            " 2   title             7718 non-null   object        \n",
            " 3   doi               7677 non-null   object        \n",
            " 4   pmcid             4959 non-null   object        \n",
            " 5   pubmed_id         6233 non-null   object        \n",
            " 6   license           7718 non-null   object        \n",
            " 7   abstract          7718 non-null   object        \n",
            " 8   publish_time      7715 non-null   object        \n",
            " 9   authors           7674 non-null   object        \n",
            " 10  journal           6668 non-null   object        \n",
            " 11  mag_id            0 non-null      float64       \n",
            " 12  who_covidence_id  528 non-null    object        \n",
            " 13  arxiv_id          20 non-null     object        \n",
            " 14  label             7718 non-null   object        \n",
            " 15  time              7715 non-null   datetime64[ns]\n",
            " 16  timet             7718 non-null   int64         \n",
            "dtypes: datetime64[ns](1), float64(1), int64(1), object(14)\n",
            "memory usage: 1.1+ MB\n"
          ]
        }
      ],
      "source": [
        "df_collection.info()"
      ]
    },
    {
      "cell_type": "code",
      "execution_count": 9,
      "metadata": {
        "colab": {
          "base_uri": "https://localhost:8080/",
          "height": 0
        },
        "id": "9veNFFGDZRx7",
        "outputId": "1c5af230-502e-4dec-f57f-1a119b5324b4"
      },
      "outputs": [
        {
          "output_type": "execute_result",
          "data": {
            "text/plain": [
              "      cord_uid source_x                                              title  \\\n",
              "162   umvrwgaw      PMC  Professional and Home-Made Face Masks Reduce E...   \n",
              "611   spiud6ok      PMC                               The Failure of R (0)   \n",
              "918   aclzp3iy      PMC  Pulmonary sequelae in a patient recovered from...   \n",
              "993   ycxyn2a2      PMC  What was the primary mode of smallpox transmis...   \n",
              "1053  zxe95qy9      PMC  Lessons from the History of Quarantine, from P...   \n",
              "\n",
              "                               doi       pmcid pubmed_id      license  \\\n",
              "162   10.1371/journal.pone.0002618  PMC2440799  18612429        cc-by   \n",
              "611            10.1155/2011/527610  PMC3157160  21860658        cc-by   \n",
              "918        10.4103/0970-2113.99118  PMC3424870  22919170  cc-by-nc-sa   \n",
              "993       10.3389/fcimb.2012.00150  PMC3509329  23226686        cc-by   \n",
              "1053        10.3201/eid1902.120312  PMC3559034  23343512        no-cc   \n",
              "\n",
              "                                               abstract publish_time  \\\n",
              "162   BACKGROUND: Governments are preparing for a po...   2008-07-09   \n",
              "611   The basic reproductive ratio, R (0), is one of...   2011-08-16   \n",
              "918   The pandemic of swine flu (H1N1) influenza spr...         2012   \n",
              "993   The mode of infection transmission has profoun...   2012-11-29   \n",
              "1053  In the new millennium, the centuries-old strat...   2013-02-03   \n",
              "\n",
              "                                                authors  \\\n",
              "162   van der Sande, Marianne; Teunis, Peter; Sabel,...   \n",
              "611       Li, Jing; Blakeley, Daniel; Smith?, Robert J.   \n",
              "918   Singh, Virendra; Sharma, Bharat Bhushan; Patel...   \n",
              "993                                   Milton, Donald K.   \n",
              "1053                                  Tognotti, Eugenia   \n",
              "\n",
              "                          journal  mag_id who_covidence_id arxiv_id     label  \\\n",
              "162                      PLoS One     NaN              NaN      NaN  umvrwgaw   \n",
              "611       Comput Math Methods Med     NaN              NaN      NaN  spiud6ok   \n",
              "918                    Lung India     NaN              NaN      NaN  aclzp3iy   \n",
              "993   Front Cell Infect Microbiol     NaN              NaN      NaN  ycxyn2a2   \n",
              "1053             Emerg Infect Dis     NaN              NaN      NaN  zxe95qy9   \n",
              "\n",
              "           time       timet  \n",
              "162  2008-07-09  1215561600  \n",
              "611  2011-08-16  1313452800  \n",
              "918  2012-01-01  1325376000  \n",
              "993  2012-11-29  1354147200  \n",
              "1053 2013-02-03  1359849600  "
            ],
            "text/html": [
              "\n",
              "  <div id=\"df-2997d8fe-6bcb-4757-ac8d-9a6165a3b8b9\" class=\"colab-df-container\">\n",
              "    <div>\n",
              "<style scoped>\n",
              "    .dataframe tbody tr th:only-of-type {\n",
              "        vertical-align: middle;\n",
              "    }\n",
              "\n",
              "    .dataframe tbody tr th {\n",
              "        vertical-align: top;\n",
              "    }\n",
              "\n",
              "    .dataframe thead th {\n",
              "        text-align: right;\n",
              "    }\n",
              "</style>\n",
              "<table border=\"1\" class=\"dataframe\">\n",
              "  <thead>\n",
              "    <tr style=\"text-align: right;\">\n",
              "      <th></th>\n",
              "      <th>cord_uid</th>\n",
              "      <th>source_x</th>\n",
              "      <th>title</th>\n",
              "      <th>doi</th>\n",
              "      <th>pmcid</th>\n",
              "      <th>pubmed_id</th>\n",
              "      <th>license</th>\n",
              "      <th>abstract</th>\n",
              "      <th>publish_time</th>\n",
              "      <th>authors</th>\n",
              "      <th>journal</th>\n",
              "      <th>mag_id</th>\n",
              "      <th>who_covidence_id</th>\n",
              "      <th>arxiv_id</th>\n",
              "      <th>label</th>\n",
              "      <th>time</th>\n",
              "      <th>timet</th>\n",
              "    </tr>\n",
              "  </thead>\n",
              "  <tbody>\n",
              "    <tr>\n",
              "      <th>162</th>\n",
              "      <td>umvrwgaw</td>\n",
              "      <td>PMC</td>\n",
              "      <td>Professional and Home-Made Face Masks Reduce E...</td>\n",
              "      <td>10.1371/journal.pone.0002618</td>\n",
              "      <td>PMC2440799</td>\n",
              "      <td>18612429</td>\n",
              "      <td>cc-by</td>\n",
              "      <td>BACKGROUND: Governments are preparing for a po...</td>\n",
              "      <td>2008-07-09</td>\n",
              "      <td>van der Sande, Marianne; Teunis, Peter; Sabel,...</td>\n",
              "      <td>PLoS One</td>\n",
              "      <td>NaN</td>\n",
              "      <td>NaN</td>\n",
              "      <td>NaN</td>\n",
              "      <td>umvrwgaw</td>\n",
              "      <td>2008-07-09</td>\n",
              "      <td>1215561600</td>\n",
              "    </tr>\n",
              "    <tr>\n",
              "      <th>611</th>\n",
              "      <td>spiud6ok</td>\n",
              "      <td>PMC</td>\n",
              "      <td>The Failure of R (0)</td>\n",
              "      <td>10.1155/2011/527610</td>\n",
              "      <td>PMC3157160</td>\n",
              "      <td>21860658</td>\n",
              "      <td>cc-by</td>\n",
              "      <td>The basic reproductive ratio, R (0), is one of...</td>\n",
              "      <td>2011-08-16</td>\n",
              "      <td>Li, Jing; Blakeley, Daniel; Smith?, Robert J.</td>\n",
              "      <td>Comput Math Methods Med</td>\n",
              "      <td>NaN</td>\n",
              "      <td>NaN</td>\n",
              "      <td>NaN</td>\n",
              "      <td>spiud6ok</td>\n",
              "      <td>2011-08-16</td>\n",
              "      <td>1313452800</td>\n",
              "    </tr>\n",
              "    <tr>\n",
              "      <th>918</th>\n",
              "      <td>aclzp3iy</td>\n",
              "      <td>PMC</td>\n",
              "      <td>Pulmonary sequelae in a patient recovered from...</td>\n",
              "      <td>10.4103/0970-2113.99118</td>\n",
              "      <td>PMC3424870</td>\n",
              "      <td>22919170</td>\n",
              "      <td>cc-by-nc-sa</td>\n",
              "      <td>The pandemic of swine flu (H1N1) influenza spr...</td>\n",
              "      <td>2012</td>\n",
              "      <td>Singh, Virendra; Sharma, Bharat Bhushan; Patel...</td>\n",
              "      <td>Lung India</td>\n",
              "      <td>NaN</td>\n",
              "      <td>NaN</td>\n",
              "      <td>NaN</td>\n",
              "      <td>aclzp3iy</td>\n",
              "      <td>2012-01-01</td>\n",
              "      <td>1325376000</td>\n",
              "    </tr>\n",
              "    <tr>\n",
              "      <th>993</th>\n",
              "      <td>ycxyn2a2</td>\n",
              "      <td>PMC</td>\n",
              "      <td>What was the primary mode of smallpox transmis...</td>\n",
              "      <td>10.3389/fcimb.2012.00150</td>\n",
              "      <td>PMC3509329</td>\n",
              "      <td>23226686</td>\n",
              "      <td>cc-by</td>\n",
              "      <td>The mode of infection transmission has profoun...</td>\n",
              "      <td>2012-11-29</td>\n",
              "      <td>Milton, Donald K.</td>\n",
              "      <td>Front Cell Infect Microbiol</td>\n",
              "      <td>NaN</td>\n",
              "      <td>NaN</td>\n",
              "      <td>NaN</td>\n",
              "      <td>ycxyn2a2</td>\n",
              "      <td>2012-11-29</td>\n",
              "      <td>1354147200</td>\n",
              "    </tr>\n",
              "    <tr>\n",
              "      <th>1053</th>\n",
              "      <td>zxe95qy9</td>\n",
              "      <td>PMC</td>\n",
              "      <td>Lessons from the History of Quarantine, from P...</td>\n",
              "      <td>10.3201/eid1902.120312</td>\n",
              "      <td>PMC3559034</td>\n",
              "      <td>23343512</td>\n",
              "      <td>no-cc</td>\n",
              "      <td>In the new millennium, the centuries-old strat...</td>\n",
              "      <td>2013-02-03</td>\n",
              "      <td>Tognotti, Eugenia</td>\n",
              "      <td>Emerg Infect Dis</td>\n",
              "      <td>NaN</td>\n",
              "      <td>NaN</td>\n",
              "      <td>NaN</td>\n",
              "      <td>zxe95qy9</td>\n",
              "      <td>2013-02-03</td>\n",
              "      <td>1359849600</td>\n",
              "    </tr>\n",
              "  </tbody>\n",
              "</table>\n",
              "</div>\n",
              "    <div class=\"colab-df-buttons\">\n",
              "\n",
              "  <div class=\"colab-df-container\">\n",
              "    <button class=\"colab-df-convert\" onclick=\"convertToInteractive('df-2997d8fe-6bcb-4757-ac8d-9a6165a3b8b9')\"\n",
              "            title=\"Convert this dataframe to an interactive table.\"\n",
              "            style=\"display:none;\">\n",
              "\n",
              "  <svg xmlns=\"http://www.w3.org/2000/svg\" height=\"24px\" viewBox=\"0 -960 960 960\">\n",
              "    <path d=\"M120-120v-720h720v720H120Zm60-500h600v-160H180v160Zm220 220h160v-160H400v160Zm0 220h160v-160H400v160ZM180-400h160v-160H180v160Zm440 0h160v-160H620v160ZM180-180h160v-160H180v160Zm440 0h160v-160H620v160Z\"/>\n",
              "  </svg>\n",
              "    </button>\n",
              "\n",
              "  <style>\n",
              "    .colab-df-container {\n",
              "      display:flex;\n",
              "      gap: 12px;\n",
              "    }\n",
              "\n",
              "    .colab-df-convert {\n",
              "      background-color: #E8F0FE;\n",
              "      border: none;\n",
              "      border-radius: 50%;\n",
              "      cursor: pointer;\n",
              "      display: none;\n",
              "      fill: #1967D2;\n",
              "      height: 32px;\n",
              "      padding: 0 0 0 0;\n",
              "      width: 32px;\n",
              "    }\n",
              "\n",
              "    .colab-df-convert:hover {\n",
              "      background-color: #E2EBFA;\n",
              "      box-shadow: 0px 1px 2px rgba(60, 64, 67, 0.3), 0px 1px 3px 1px rgba(60, 64, 67, 0.15);\n",
              "      fill: #174EA6;\n",
              "    }\n",
              "\n",
              "    .colab-df-buttons div {\n",
              "      margin-bottom: 4px;\n",
              "    }\n",
              "\n",
              "    [theme=dark] .colab-df-convert {\n",
              "      background-color: #3B4455;\n",
              "      fill: #D2E3FC;\n",
              "    }\n",
              "\n",
              "    [theme=dark] .colab-df-convert:hover {\n",
              "      background-color: #434B5C;\n",
              "      box-shadow: 0px 1px 3px 1px rgba(0, 0, 0, 0.15);\n",
              "      filter: drop-shadow(0px 1px 2px rgba(0, 0, 0, 0.3));\n",
              "      fill: #FFFFFF;\n",
              "    }\n",
              "  </style>\n",
              "\n",
              "    <script>\n",
              "      const buttonEl =\n",
              "        document.querySelector('#df-2997d8fe-6bcb-4757-ac8d-9a6165a3b8b9 button.colab-df-convert');\n",
              "      buttonEl.style.display =\n",
              "        google.colab.kernel.accessAllowed ? 'block' : 'none';\n",
              "\n",
              "      async function convertToInteractive(key) {\n",
              "        const element = document.querySelector('#df-2997d8fe-6bcb-4757-ac8d-9a6165a3b8b9');\n",
              "        const dataTable =\n",
              "          await google.colab.kernel.invokeFunction('convertToInteractive',\n",
              "                                                    [key], {});\n",
              "        if (!dataTable) return;\n",
              "\n",
              "        const docLinkHtml = 'Like what you see? Visit the ' +\n",
              "          '<a target=\"_blank\" href=https://colab.research.google.com/notebooks/data_table.ipynb>data table notebook</a>'\n",
              "          + ' to learn more about interactive tables.';\n",
              "        element.innerHTML = '';\n",
              "        dataTable['output_type'] = 'display_data';\n",
              "        await google.colab.output.renderOutput(dataTable, element);\n",
              "        const docLink = document.createElement('div');\n",
              "        docLink.innerHTML = docLinkHtml;\n",
              "        element.appendChild(docLink);\n",
              "      }\n",
              "    </script>\n",
              "  </div>\n",
              "\n",
              "\n",
              "<div id=\"df-95133e33-02d0-4aad-831c-510ea17674a5\">\n",
              "  <button class=\"colab-df-quickchart\" onclick=\"quickchart('df-95133e33-02d0-4aad-831c-510ea17674a5')\"\n",
              "            title=\"Suggest charts\"\n",
              "            style=\"display:none;\">\n",
              "\n",
              "<svg xmlns=\"http://www.w3.org/2000/svg\" height=\"24px\"viewBox=\"0 0 24 24\"\n",
              "     width=\"24px\">\n",
              "    <g>\n",
              "        <path d=\"M19 3H5c-1.1 0-2 .9-2 2v14c0 1.1.9 2 2 2h14c1.1 0 2-.9 2-2V5c0-1.1-.9-2-2-2zM9 17H7v-7h2v7zm4 0h-2V7h2v10zm4 0h-2v-4h2v4z\"/>\n",
              "    </g>\n",
              "</svg>\n",
              "  </button>\n",
              "\n",
              "<style>\n",
              "  .colab-df-quickchart {\n",
              "      --bg-color: #E8F0FE;\n",
              "      --fill-color: #1967D2;\n",
              "      --hover-bg-color: #E2EBFA;\n",
              "      --hover-fill-color: #174EA6;\n",
              "      --disabled-fill-color: #AAA;\n",
              "      --disabled-bg-color: #DDD;\n",
              "  }\n",
              "\n",
              "  [theme=dark] .colab-df-quickchart {\n",
              "      --bg-color: #3B4455;\n",
              "      --fill-color: #D2E3FC;\n",
              "      --hover-bg-color: #434B5C;\n",
              "      --hover-fill-color: #FFFFFF;\n",
              "      --disabled-bg-color: #3B4455;\n",
              "      --disabled-fill-color: #666;\n",
              "  }\n",
              "\n",
              "  .colab-df-quickchart {\n",
              "    background-color: var(--bg-color);\n",
              "    border: none;\n",
              "    border-radius: 50%;\n",
              "    cursor: pointer;\n",
              "    display: none;\n",
              "    fill: var(--fill-color);\n",
              "    height: 32px;\n",
              "    padding: 0;\n",
              "    width: 32px;\n",
              "  }\n",
              "\n",
              "  .colab-df-quickchart:hover {\n",
              "    background-color: var(--hover-bg-color);\n",
              "    box-shadow: 0 1px 2px rgba(60, 64, 67, 0.3), 0 1px 3px 1px rgba(60, 64, 67, 0.15);\n",
              "    fill: var(--button-hover-fill-color);\n",
              "  }\n",
              "\n",
              "  .colab-df-quickchart-complete:disabled,\n",
              "  .colab-df-quickchart-complete:disabled:hover {\n",
              "    background-color: var(--disabled-bg-color);\n",
              "    fill: var(--disabled-fill-color);\n",
              "    box-shadow: none;\n",
              "  }\n",
              "\n",
              "  .colab-df-spinner {\n",
              "    border: 2px solid var(--fill-color);\n",
              "    border-color: transparent;\n",
              "    border-bottom-color: var(--fill-color);\n",
              "    animation:\n",
              "      spin 1s steps(1) infinite;\n",
              "  }\n",
              "\n",
              "  @keyframes spin {\n",
              "    0% {\n",
              "      border-color: transparent;\n",
              "      border-bottom-color: var(--fill-color);\n",
              "      border-left-color: var(--fill-color);\n",
              "    }\n",
              "    20% {\n",
              "      border-color: transparent;\n",
              "      border-left-color: var(--fill-color);\n",
              "      border-top-color: var(--fill-color);\n",
              "    }\n",
              "    30% {\n",
              "      border-color: transparent;\n",
              "      border-left-color: var(--fill-color);\n",
              "      border-top-color: var(--fill-color);\n",
              "      border-right-color: var(--fill-color);\n",
              "    }\n",
              "    40% {\n",
              "      border-color: transparent;\n",
              "      border-right-color: var(--fill-color);\n",
              "      border-top-color: var(--fill-color);\n",
              "    }\n",
              "    60% {\n",
              "      border-color: transparent;\n",
              "      border-right-color: var(--fill-color);\n",
              "    }\n",
              "    80% {\n",
              "      border-color: transparent;\n",
              "      border-right-color: var(--fill-color);\n",
              "      border-bottom-color: var(--fill-color);\n",
              "    }\n",
              "    90% {\n",
              "      border-color: transparent;\n",
              "      border-bottom-color: var(--fill-color);\n",
              "    }\n",
              "  }\n",
              "</style>\n",
              "\n",
              "  <script>\n",
              "    async function quickchart(key) {\n",
              "      const quickchartButtonEl =\n",
              "        document.querySelector('#' + key + ' button');\n",
              "      quickchartButtonEl.disabled = true;  // To prevent multiple clicks.\n",
              "      quickchartButtonEl.classList.add('colab-df-spinner');\n",
              "      try {\n",
              "        const charts = await google.colab.kernel.invokeFunction(\n",
              "            'suggestCharts', [key], {});\n",
              "      } catch (error) {\n",
              "        console.error('Error during call to suggestCharts:', error);\n",
              "      }\n",
              "      quickchartButtonEl.classList.remove('colab-df-spinner');\n",
              "      quickchartButtonEl.classList.add('colab-df-quickchart-complete');\n",
              "    }\n",
              "    (() => {\n",
              "      let quickchartButtonEl =\n",
              "        document.querySelector('#df-95133e33-02d0-4aad-831c-510ea17674a5 button');\n",
              "      quickchartButtonEl.style.display =\n",
              "        google.colab.kernel.accessAllowed ? 'block' : 'none';\n",
              "    })();\n",
              "  </script>\n",
              "</div>\n",
              "\n",
              "    </div>\n",
              "  </div>\n"
            ],
            "application/vnd.google.colaboratory.intrinsic+json": {
              "type": "dataframe",
              "variable_name": "df_collection",
              "repr_error": "0"
            }
          },
          "metadata": {},
          "execution_count": 9
        }
      ],
      "source": [
        "df_collection.head()"
      ]
    },
    {
      "cell_type": "markdown",
      "metadata": {
        "id": "AAUiDU0xXLBt"
      },
      "source": [
        "## 1.b) Import the query set\n",
        "\n",
        "The query set contains tweets with implicit references to academic papers from the collection set.\n",
        "\n",
        "The preprocessed query set is available on the Gitlab repository here: https://gitlab.com/checkthat_lab/clef2025-checkthat-lab/-/tree/main/task4/subtask_4b\n",
        "\n",
        "Participants should first download the file then upload it on the Google Colab session with the following steps."
      ]
    },
    {
      "cell_type": "code",
      "execution_count": 10,
      "metadata": {
        "id": "v8gwkZDSXPsd"
      },
      "outputs": [],
      "source": [
        "# 1) Download the query tweets from the Gitlab repository: https://gitlab.com/checkthat_lab/clef2025-checkthat-lab/-/tree/main/task4/subtask_4b?ref_type=heads\n",
        "# 2) Drag and drop the downloaded file to the \"Files\" section (left vertical menu on Colab)\n",
        "# 3) Modify the path to your local file path\n",
        "PATH_QUERY_TRAIN_DATA = 'subtask_4b/subtask4b_query_tweets_train.tsv' #MODIFY PATH\n",
        "PATH_QUERY_DEV_DATA = 'subtask_4b/subtask4b_query_tweets_dev.tsv' #MODIFY PATH"
      ]
    },
    {
      "cell_type": "code",
      "execution_count": 11,
      "metadata": {
        "id": "VqxjYq2tYDmE"
      },
      "outputs": [],
      "source": [
        "df_query_train = pd.read_csv(PATH_QUERY_TRAIN_DATA, sep = '\\t')\n",
        "df_query_dev = pd.read_csv(PATH_QUERY_DEV_DATA, sep = '\\t')"
      ]
    },
    {
      "cell_type": "code",
      "execution_count": 12,
      "metadata": {
        "id": "szMEK3OkYLvX",
        "colab": {
          "base_uri": "https://localhost:8080/",
          "height": 0
        },
        "outputId": "9ebf3c25-1bcd-4280-d24d-1345bc2b9341"
      },
      "outputs": [
        {
          "output_type": "execute_result",
          "data": {
            "text/plain": [
              "   post_id                                         tweet_text  cord_uid\n",
              "0        0  Oral care in rehabilitation medicine: oral vul...  htlvpvz5\n",
              "1        1  this study isn't receiving sufficient attentio...  4kfl29ul\n",
              "2        2  thanks, xi jinping. a reminder that this study...  jtwb17u8\n",
              "3        3  Taiwan - a population of 23 million has had ju...  0w9k8iy1\n",
              "4        4  Obtaining a diagnosis of autism in lower incom...  tiqksd69"
            ],
            "text/html": [
              "\n",
              "  <div id=\"df-7536b7e1-aca8-4ba6-af37-6bd060bbd23f\" class=\"colab-df-container\">\n",
              "    <div>\n",
              "<style scoped>\n",
              "    .dataframe tbody tr th:only-of-type {\n",
              "        vertical-align: middle;\n",
              "    }\n",
              "\n",
              "    .dataframe tbody tr th {\n",
              "        vertical-align: top;\n",
              "    }\n",
              "\n",
              "    .dataframe thead th {\n",
              "        text-align: right;\n",
              "    }\n",
              "</style>\n",
              "<table border=\"1\" class=\"dataframe\">\n",
              "  <thead>\n",
              "    <tr style=\"text-align: right;\">\n",
              "      <th></th>\n",
              "      <th>post_id</th>\n",
              "      <th>tweet_text</th>\n",
              "      <th>cord_uid</th>\n",
              "    </tr>\n",
              "  </thead>\n",
              "  <tbody>\n",
              "    <tr>\n",
              "      <th>0</th>\n",
              "      <td>0</td>\n",
              "      <td>Oral care in rehabilitation medicine: oral vul...</td>\n",
              "      <td>htlvpvz5</td>\n",
              "    </tr>\n",
              "    <tr>\n",
              "      <th>1</th>\n",
              "      <td>1</td>\n",
              "      <td>this study isn't receiving sufficient attentio...</td>\n",
              "      <td>4kfl29ul</td>\n",
              "    </tr>\n",
              "    <tr>\n",
              "      <th>2</th>\n",
              "      <td>2</td>\n",
              "      <td>thanks, xi jinping. a reminder that this study...</td>\n",
              "      <td>jtwb17u8</td>\n",
              "    </tr>\n",
              "    <tr>\n",
              "      <th>3</th>\n",
              "      <td>3</td>\n",
              "      <td>Taiwan - a population of 23 million has had ju...</td>\n",
              "      <td>0w9k8iy1</td>\n",
              "    </tr>\n",
              "    <tr>\n",
              "      <th>4</th>\n",
              "      <td>4</td>\n",
              "      <td>Obtaining a diagnosis of autism in lower incom...</td>\n",
              "      <td>tiqksd69</td>\n",
              "    </tr>\n",
              "  </tbody>\n",
              "</table>\n",
              "</div>\n",
              "    <div class=\"colab-df-buttons\">\n",
              "\n",
              "  <div class=\"colab-df-container\">\n",
              "    <button class=\"colab-df-convert\" onclick=\"convertToInteractive('df-7536b7e1-aca8-4ba6-af37-6bd060bbd23f')\"\n",
              "            title=\"Convert this dataframe to an interactive table.\"\n",
              "            style=\"display:none;\">\n",
              "\n",
              "  <svg xmlns=\"http://www.w3.org/2000/svg\" height=\"24px\" viewBox=\"0 -960 960 960\">\n",
              "    <path d=\"M120-120v-720h720v720H120Zm60-500h600v-160H180v160Zm220 220h160v-160H400v160Zm0 220h160v-160H400v160ZM180-400h160v-160H180v160Zm440 0h160v-160H620v160ZM180-180h160v-160H180v160Zm440 0h160v-160H620v160Z\"/>\n",
              "  </svg>\n",
              "    </button>\n",
              "\n",
              "  <style>\n",
              "    .colab-df-container {\n",
              "      display:flex;\n",
              "      gap: 12px;\n",
              "    }\n",
              "\n",
              "    .colab-df-convert {\n",
              "      background-color: #E8F0FE;\n",
              "      border: none;\n",
              "      border-radius: 50%;\n",
              "      cursor: pointer;\n",
              "      display: none;\n",
              "      fill: #1967D2;\n",
              "      height: 32px;\n",
              "      padding: 0 0 0 0;\n",
              "      width: 32px;\n",
              "    }\n",
              "\n",
              "    .colab-df-convert:hover {\n",
              "      background-color: #E2EBFA;\n",
              "      box-shadow: 0px 1px 2px rgba(60, 64, 67, 0.3), 0px 1px 3px 1px rgba(60, 64, 67, 0.15);\n",
              "      fill: #174EA6;\n",
              "    }\n",
              "\n",
              "    .colab-df-buttons div {\n",
              "      margin-bottom: 4px;\n",
              "    }\n",
              "\n",
              "    [theme=dark] .colab-df-convert {\n",
              "      background-color: #3B4455;\n",
              "      fill: #D2E3FC;\n",
              "    }\n",
              "\n",
              "    [theme=dark] .colab-df-convert:hover {\n",
              "      background-color: #434B5C;\n",
              "      box-shadow: 0px 1px 3px 1px rgba(0, 0, 0, 0.15);\n",
              "      filter: drop-shadow(0px 1px 2px rgba(0, 0, 0, 0.3));\n",
              "      fill: #FFFFFF;\n",
              "    }\n",
              "  </style>\n",
              "\n",
              "    <script>\n",
              "      const buttonEl =\n",
              "        document.querySelector('#df-7536b7e1-aca8-4ba6-af37-6bd060bbd23f button.colab-df-convert');\n",
              "      buttonEl.style.display =\n",
              "        google.colab.kernel.accessAllowed ? 'block' : 'none';\n",
              "\n",
              "      async function convertToInteractive(key) {\n",
              "        const element = document.querySelector('#df-7536b7e1-aca8-4ba6-af37-6bd060bbd23f');\n",
              "        const dataTable =\n",
              "          await google.colab.kernel.invokeFunction('convertToInteractive',\n",
              "                                                    [key], {});\n",
              "        if (!dataTable) return;\n",
              "\n",
              "        const docLinkHtml = 'Like what you see? Visit the ' +\n",
              "          '<a target=\"_blank\" href=https://colab.research.google.com/notebooks/data_table.ipynb>data table notebook</a>'\n",
              "          + ' to learn more about interactive tables.';\n",
              "        element.innerHTML = '';\n",
              "        dataTable['output_type'] = 'display_data';\n",
              "        await google.colab.output.renderOutput(dataTable, element);\n",
              "        const docLink = document.createElement('div');\n",
              "        docLink.innerHTML = docLinkHtml;\n",
              "        element.appendChild(docLink);\n",
              "      }\n",
              "    </script>\n",
              "  </div>\n",
              "\n",
              "\n",
              "<div id=\"df-767b3757-45a3-4798-b9ea-12900365c630\">\n",
              "  <button class=\"colab-df-quickchart\" onclick=\"quickchart('df-767b3757-45a3-4798-b9ea-12900365c630')\"\n",
              "            title=\"Suggest charts\"\n",
              "            style=\"display:none;\">\n",
              "\n",
              "<svg xmlns=\"http://www.w3.org/2000/svg\" height=\"24px\"viewBox=\"0 0 24 24\"\n",
              "     width=\"24px\">\n",
              "    <g>\n",
              "        <path d=\"M19 3H5c-1.1 0-2 .9-2 2v14c0 1.1.9 2 2 2h14c1.1 0 2-.9 2-2V5c0-1.1-.9-2-2-2zM9 17H7v-7h2v7zm4 0h-2V7h2v10zm4 0h-2v-4h2v4z\"/>\n",
              "    </g>\n",
              "</svg>\n",
              "  </button>\n",
              "\n",
              "<style>\n",
              "  .colab-df-quickchart {\n",
              "      --bg-color: #E8F0FE;\n",
              "      --fill-color: #1967D2;\n",
              "      --hover-bg-color: #E2EBFA;\n",
              "      --hover-fill-color: #174EA6;\n",
              "      --disabled-fill-color: #AAA;\n",
              "      --disabled-bg-color: #DDD;\n",
              "  }\n",
              "\n",
              "  [theme=dark] .colab-df-quickchart {\n",
              "      --bg-color: #3B4455;\n",
              "      --fill-color: #D2E3FC;\n",
              "      --hover-bg-color: #434B5C;\n",
              "      --hover-fill-color: #FFFFFF;\n",
              "      --disabled-bg-color: #3B4455;\n",
              "      --disabled-fill-color: #666;\n",
              "  }\n",
              "\n",
              "  .colab-df-quickchart {\n",
              "    background-color: var(--bg-color);\n",
              "    border: none;\n",
              "    border-radius: 50%;\n",
              "    cursor: pointer;\n",
              "    display: none;\n",
              "    fill: var(--fill-color);\n",
              "    height: 32px;\n",
              "    padding: 0;\n",
              "    width: 32px;\n",
              "  }\n",
              "\n",
              "  .colab-df-quickchart:hover {\n",
              "    background-color: var(--hover-bg-color);\n",
              "    box-shadow: 0 1px 2px rgba(60, 64, 67, 0.3), 0 1px 3px 1px rgba(60, 64, 67, 0.15);\n",
              "    fill: var(--button-hover-fill-color);\n",
              "  }\n",
              "\n",
              "  .colab-df-quickchart-complete:disabled,\n",
              "  .colab-df-quickchart-complete:disabled:hover {\n",
              "    background-color: var(--disabled-bg-color);\n",
              "    fill: var(--disabled-fill-color);\n",
              "    box-shadow: none;\n",
              "  }\n",
              "\n",
              "  .colab-df-spinner {\n",
              "    border: 2px solid var(--fill-color);\n",
              "    border-color: transparent;\n",
              "    border-bottom-color: var(--fill-color);\n",
              "    animation:\n",
              "      spin 1s steps(1) infinite;\n",
              "  }\n",
              "\n",
              "  @keyframes spin {\n",
              "    0% {\n",
              "      border-color: transparent;\n",
              "      border-bottom-color: var(--fill-color);\n",
              "      border-left-color: var(--fill-color);\n",
              "    }\n",
              "    20% {\n",
              "      border-color: transparent;\n",
              "      border-left-color: var(--fill-color);\n",
              "      border-top-color: var(--fill-color);\n",
              "    }\n",
              "    30% {\n",
              "      border-color: transparent;\n",
              "      border-left-color: var(--fill-color);\n",
              "      border-top-color: var(--fill-color);\n",
              "      border-right-color: var(--fill-color);\n",
              "    }\n",
              "    40% {\n",
              "      border-color: transparent;\n",
              "      border-right-color: var(--fill-color);\n",
              "      border-top-color: var(--fill-color);\n",
              "    }\n",
              "    60% {\n",
              "      border-color: transparent;\n",
              "      border-right-color: var(--fill-color);\n",
              "    }\n",
              "    80% {\n",
              "      border-color: transparent;\n",
              "      border-right-color: var(--fill-color);\n",
              "      border-bottom-color: var(--fill-color);\n",
              "    }\n",
              "    90% {\n",
              "      border-color: transparent;\n",
              "      border-bottom-color: var(--fill-color);\n",
              "    }\n",
              "  }\n",
              "</style>\n",
              "\n",
              "  <script>\n",
              "    async function quickchart(key) {\n",
              "      const quickchartButtonEl =\n",
              "        document.querySelector('#' + key + ' button');\n",
              "      quickchartButtonEl.disabled = true;  // To prevent multiple clicks.\n",
              "      quickchartButtonEl.classList.add('colab-df-spinner');\n",
              "      try {\n",
              "        const charts = await google.colab.kernel.invokeFunction(\n",
              "            'suggestCharts', [key], {});\n",
              "      } catch (error) {\n",
              "        console.error('Error during call to suggestCharts:', error);\n",
              "      }\n",
              "      quickchartButtonEl.classList.remove('colab-df-spinner');\n",
              "      quickchartButtonEl.classList.add('colab-df-quickchart-complete');\n",
              "    }\n",
              "    (() => {\n",
              "      let quickchartButtonEl =\n",
              "        document.querySelector('#df-767b3757-45a3-4798-b9ea-12900365c630 button');\n",
              "      quickchartButtonEl.style.display =\n",
              "        google.colab.kernel.accessAllowed ? 'block' : 'none';\n",
              "    })();\n",
              "  </script>\n",
              "</div>\n",
              "\n",
              "    </div>\n",
              "  </div>\n"
            ],
            "application/vnd.google.colaboratory.intrinsic+json": {
              "type": "dataframe",
              "variable_name": "df_query_train",
              "summary": "{\n  \"name\": \"df_query_train\",\n  \"rows\": 12853,\n  \"fields\": [\n    {\n      \"column\": \"post_id\",\n      \"properties\": {\n        \"dtype\": \"number\",\n        \"std\": 4116,\n        \"min\": 0,\n        \"max\": 14252,\n        \"num_unique_values\": 12853,\n        \"samples\": [\n          13037,\n          8,\n          13886\n        ],\n        \"semantic_type\": \"\",\n        \"description\": \"\"\n      }\n    },\n    {\n      \"column\": \"tweet_text\",\n      \"properties\": {\n        \"dtype\": \"string\",\n        \"num_unique_values\": 12842,\n        \"samples\": [\n          \"Recent research: immunization doesn't stop prolonged covid.  19% of vaccinated healthcare professionals who contracted breakthrough illnesses developed prolonged covid\\u2014about the same percentage as those who aren't vaccinated.\",\n          \"so here\\u2019s the thing\\u2026. fabric masks don\\u2019t really work and medical masks, according to nature magazine, contain tio2 which is a banned substance and carcinogen. educate yourself.\",\n          \"if you take the \\ud83d\\udc89, your body makes spike protein that was designed to replicate the spike of the pathogen.  your body responds the same way to the \\ud83d\\udc89or the pathogen.  many people believe (because of media) that the pathogen is deadly but the \\ud83d\\udc89is harmless.  no!\"\n        ],\n        \"semantic_type\": \"\",\n        \"description\": \"\"\n      }\n    },\n    {\n      \"column\": \"cord_uid\",\n      \"properties\": {\n        \"dtype\": \"string\",\n        \"num_unique_values\": 6946,\n        \"samples\": [\n          \"swaf5pao\",\n          \"bqgifset\",\n          \"p3cxk8gd\"\n        ],\n        \"semantic_type\": \"\",\n        \"description\": \"\"\n      }\n    }\n  ]\n}"
            }
          },
          "metadata": {},
          "execution_count": 12
        }
      ],
      "source": [
        "df_query_train.head()"
      ]
    },
    {
      "cell_type": "code",
      "execution_count": 13,
      "metadata": {
        "id": "aslmTTJQyL2X",
        "colab": {
          "base_uri": "https://localhost:8080/"
        },
        "outputId": "51503329-4964-44f8-c4e9-c9888421c460"
      },
      "outputs": [
        {
          "output_type": "stream",
          "name": "stdout",
          "text": [
            "<class 'pandas.core.frame.DataFrame'>\n",
            "RangeIndex: 12853 entries, 0 to 12852\n",
            "Data columns (total 3 columns):\n",
            " #   Column      Non-Null Count  Dtype \n",
            "---  ------      --------------  ----- \n",
            " 0   post_id     12853 non-null  int64 \n",
            " 1   tweet_text  12853 non-null  object\n",
            " 2   cord_uid    12853 non-null  object\n",
            "dtypes: int64(1), object(2)\n",
            "memory usage: 301.4+ KB\n"
          ]
        }
      ],
      "source": [
        "df_query_train.info()"
      ]
    },
    {
      "cell_type": "code",
      "execution_count": 14,
      "metadata": {
        "colab": {
          "base_uri": "https://localhost:8080/",
          "height": 0
        },
        "id": "B5X8FwLhLY3u",
        "outputId": "ea4c420b-55f5-4b03-c5e5-c7827a85af73"
      },
      "outputs": [
        {
          "output_type": "execute_result",
          "data": {
            "text/plain": [
              "   post_id                                         tweet_text  cord_uid\n",
              "0       16  covid recovery: this study from the usa reveal...  3qvh482o\n",
              "1       69  \"Among 139 clients exposed to two symptomatic ...  r58aohnu\n",
              "2       73  I recall early on reading that researchers who...  sts48u9i\n",
              "3       93  You know you're credible when NIH website has ...  3sr2exq9\n",
              "4       96  Resistance to antifungal medications is a grow...  ybwwmyqy"
            ],
            "text/html": [
              "\n",
              "  <div id=\"df-23c60f32-c30c-47fd-9562-90c53194ad5d\" class=\"colab-df-container\">\n",
              "    <div>\n",
              "<style scoped>\n",
              "    .dataframe tbody tr th:only-of-type {\n",
              "        vertical-align: middle;\n",
              "    }\n",
              "\n",
              "    .dataframe tbody tr th {\n",
              "        vertical-align: top;\n",
              "    }\n",
              "\n",
              "    .dataframe thead th {\n",
              "        text-align: right;\n",
              "    }\n",
              "</style>\n",
              "<table border=\"1\" class=\"dataframe\">\n",
              "  <thead>\n",
              "    <tr style=\"text-align: right;\">\n",
              "      <th></th>\n",
              "      <th>post_id</th>\n",
              "      <th>tweet_text</th>\n",
              "      <th>cord_uid</th>\n",
              "    </tr>\n",
              "  </thead>\n",
              "  <tbody>\n",
              "    <tr>\n",
              "      <th>0</th>\n",
              "      <td>16</td>\n",
              "      <td>covid recovery: this study from the usa reveal...</td>\n",
              "      <td>3qvh482o</td>\n",
              "    </tr>\n",
              "    <tr>\n",
              "      <th>1</th>\n",
              "      <td>69</td>\n",
              "      <td>\"Among 139 clients exposed to two symptomatic ...</td>\n",
              "      <td>r58aohnu</td>\n",
              "    </tr>\n",
              "    <tr>\n",
              "      <th>2</th>\n",
              "      <td>73</td>\n",
              "      <td>I recall early on reading that researchers who...</td>\n",
              "      <td>sts48u9i</td>\n",
              "    </tr>\n",
              "    <tr>\n",
              "      <th>3</th>\n",
              "      <td>93</td>\n",
              "      <td>You know you're credible when NIH website has ...</td>\n",
              "      <td>3sr2exq9</td>\n",
              "    </tr>\n",
              "    <tr>\n",
              "      <th>4</th>\n",
              "      <td>96</td>\n",
              "      <td>Resistance to antifungal medications is a grow...</td>\n",
              "      <td>ybwwmyqy</td>\n",
              "    </tr>\n",
              "  </tbody>\n",
              "</table>\n",
              "</div>\n",
              "    <div class=\"colab-df-buttons\">\n",
              "\n",
              "  <div class=\"colab-df-container\">\n",
              "    <button class=\"colab-df-convert\" onclick=\"convertToInteractive('df-23c60f32-c30c-47fd-9562-90c53194ad5d')\"\n",
              "            title=\"Convert this dataframe to an interactive table.\"\n",
              "            style=\"display:none;\">\n",
              "\n",
              "  <svg xmlns=\"http://www.w3.org/2000/svg\" height=\"24px\" viewBox=\"0 -960 960 960\">\n",
              "    <path d=\"M120-120v-720h720v720H120Zm60-500h600v-160H180v160Zm220 220h160v-160H400v160Zm0 220h160v-160H400v160ZM180-400h160v-160H180v160Zm440 0h160v-160H620v160ZM180-180h160v-160H180v160Zm440 0h160v-160H620v160Z\"/>\n",
              "  </svg>\n",
              "    </button>\n",
              "\n",
              "  <style>\n",
              "    .colab-df-container {\n",
              "      display:flex;\n",
              "      gap: 12px;\n",
              "    }\n",
              "\n",
              "    .colab-df-convert {\n",
              "      background-color: #E8F0FE;\n",
              "      border: none;\n",
              "      border-radius: 50%;\n",
              "      cursor: pointer;\n",
              "      display: none;\n",
              "      fill: #1967D2;\n",
              "      height: 32px;\n",
              "      padding: 0 0 0 0;\n",
              "      width: 32px;\n",
              "    }\n",
              "\n",
              "    .colab-df-convert:hover {\n",
              "      background-color: #E2EBFA;\n",
              "      box-shadow: 0px 1px 2px rgba(60, 64, 67, 0.3), 0px 1px 3px 1px rgba(60, 64, 67, 0.15);\n",
              "      fill: #174EA6;\n",
              "    }\n",
              "\n",
              "    .colab-df-buttons div {\n",
              "      margin-bottom: 4px;\n",
              "    }\n",
              "\n",
              "    [theme=dark] .colab-df-convert {\n",
              "      background-color: #3B4455;\n",
              "      fill: #D2E3FC;\n",
              "    }\n",
              "\n",
              "    [theme=dark] .colab-df-convert:hover {\n",
              "      background-color: #434B5C;\n",
              "      box-shadow: 0px 1px 3px 1px rgba(0, 0, 0, 0.15);\n",
              "      filter: drop-shadow(0px 1px 2px rgba(0, 0, 0, 0.3));\n",
              "      fill: #FFFFFF;\n",
              "    }\n",
              "  </style>\n",
              "\n",
              "    <script>\n",
              "      const buttonEl =\n",
              "        document.querySelector('#df-23c60f32-c30c-47fd-9562-90c53194ad5d button.colab-df-convert');\n",
              "      buttonEl.style.display =\n",
              "        google.colab.kernel.accessAllowed ? 'block' : 'none';\n",
              "\n",
              "      async function convertToInteractive(key) {\n",
              "        const element = document.querySelector('#df-23c60f32-c30c-47fd-9562-90c53194ad5d');\n",
              "        const dataTable =\n",
              "          await google.colab.kernel.invokeFunction('convertToInteractive',\n",
              "                                                    [key], {});\n",
              "        if (!dataTable) return;\n",
              "\n",
              "        const docLinkHtml = 'Like what you see? Visit the ' +\n",
              "          '<a target=\"_blank\" href=https://colab.research.google.com/notebooks/data_table.ipynb>data table notebook</a>'\n",
              "          + ' to learn more about interactive tables.';\n",
              "        element.innerHTML = '';\n",
              "        dataTable['output_type'] = 'display_data';\n",
              "        await google.colab.output.renderOutput(dataTable, element);\n",
              "        const docLink = document.createElement('div');\n",
              "        docLink.innerHTML = docLinkHtml;\n",
              "        element.appendChild(docLink);\n",
              "      }\n",
              "    </script>\n",
              "  </div>\n",
              "\n",
              "\n",
              "<div id=\"df-8dcfdb1f-2f75-4291-a456-802113cd1a34\">\n",
              "  <button class=\"colab-df-quickchart\" onclick=\"quickchart('df-8dcfdb1f-2f75-4291-a456-802113cd1a34')\"\n",
              "            title=\"Suggest charts\"\n",
              "            style=\"display:none;\">\n",
              "\n",
              "<svg xmlns=\"http://www.w3.org/2000/svg\" height=\"24px\"viewBox=\"0 0 24 24\"\n",
              "     width=\"24px\">\n",
              "    <g>\n",
              "        <path d=\"M19 3H5c-1.1 0-2 .9-2 2v14c0 1.1.9 2 2 2h14c1.1 0 2-.9 2-2V5c0-1.1-.9-2-2-2zM9 17H7v-7h2v7zm4 0h-2V7h2v10zm4 0h-2v-4h2v4z\"/>\n",
              "    </g>\n",
              "</svg>\n",
              "  </button>\n",
              "\n",
              "<style>\n",
              "  .colab-df-quickchart {\n",
              "      --bg-color: #E8F0FE;\n",
              "      --fill-color: #1967D2;\n",
              "      --hover-bg-color: #E2EBFA;\n",
              "      --hover-fill-color: #174EA6;\n",
              "      --disabled-fill-color: #AAA;\n",
              "      --disabled-bg-color: #DDD;\n",
              "  }\n",
              "\n",
              "  [theme=dark] .colab-df-quickchart {\n",
              "      --bg-color: #3B4455;\n",
              "      --fill-color: #D2E3FC;\n",
              "      --hover-bg-color: #434B5C;\n",
              "      --hover-fill-color: #FFFFFF;\n",
              "      --disabled-bg-color: #3B4455;\n",
              "      --disabled-fill-color: #666;\n",
              "  }\n",
              "\n",
              "  .colab-df-quickchart {\n",
              "    background-color: var(--bg-color);\n",
              "    border: none;\n",
              "    border-radius: 50%;\n",
              "    cursor: pointer;\n",
              "    display: none;\n",
              "    fill: var(--fill-color);\n",
              "    height: 32px;\n",
              "    padding: 0;\n",
              "    width: 32px;\n",
              "  }\n",
              "\n",
              "  .colab-df-quickchart:hover {\n",
              "    background-color: var(--hover-bg-color);\n",
              "    box-shadow: 0 1px 2px rgba(60, 64, 67, 0.3), 0 1px 3px 1px rgba(60, 64, 67, 0.15);\n",
              "    fill: var(--button-hover-fill-color);\n",
              "  }\n",
              "\n",
              "  .colab-df-quickchart-complete:disabled,\n",
              "  .colab-df-quickchart-complete:disabled:hover {\n",
              "    background-color: var(--disabled-bg-color);\n",
              "    fill: var(--disabled-fill-color);\n",
              "    box-shadow: none;\n",
              "  }\n",
              "\n",
              "  .colab-df-spinner {\n",
              "    border: 2px solid var(--fill-color);\n",
              "    border-color: transparent;\n",
              "    border-bottom-color: var(--fill-color);\n",
              "    animation:\n",
              "      spin 1s steps(1) infinite;\n",
              "  }\n",
              "\n",
              "  @keyframes spin {\n",
              "    0% {\n",
              "      border-color: transparent;\n",
              "      border-bottom-color: var(--fill-color);\n",
              "      border-left-color: var(--fill-color);\n",
              "    }\n",
              "    20% {\n",
              "      border-color: transparent;\n",
              "      border-left-color: var(--fill-color);\n",
              "      border-top-color: var(--fill-color);\n",
              "    }\n",
              "    30% {\n",
              "      border-color: transparent;\n",
              "      border-left-color: var(--fill-color);\n",
              "      border-top-color: var(--fill-color);\n",
              "      border-right-color: var(--fill-color);\n",
              "    }\n",
              "    40% {\n",
              "      border-color: transparent;\n",
              "      border-right-color: var(--fill-color);\n",
              "      border-top-color: var(--fill-color);\n",
              "    }\n",
              "    60% {\n",
              "      border-color: transparent;\n",
              "      border-right-color: var(--fill-color);\n",
              "    }\n",
              "    80% {\n",
              "      border-color: transparent;\n",
              "      border-right-color: var(--fill-color);\n",
              "      border-bottom-color: var(--fill-color);\n",
              "    }\n",
              "    90% {\n",
              "      border-color: transparent;\n",
              "      border-bottom-color: var(--fill-color);\n",
              "    }\n",
              "  }\n",
              "</style>\n",
              "\n",
              "  <script>\n",
              "    async function quickchart(key) {\n",
              "      const quickchartButtonEl =\n",
              "        document.querySelector('#' + key + ' button');\n",
              "      quickchartButtonEl.disabled = true;  // To prevent multiple clicks.\n",
              "      quickchartButtonEl.classList.add('colab-df-spinner');\n",
              "      try {\n",
              "        const charts = await google.colab.kernel.invokeFunction(\n",
              "            'suggestCharts', [key], {});\n",
              "      } catch (error) {\n",
              "        console.error('Error during call to suggestCharts:', error);\n",
              "      }\n",
              "      quickchartButtonEl.classList.remove('colab-df-spinner');\n",
              "      quickchartButtonEl.classList.add('colab-df-quickchart-complete');\n",
              "    }\n",
              "    (() => {\n",
              "      let quickchartButtonEl =\n",
              "        document.querySelector('#df-8dcfdb1f-2f75-4291-a456-802113cd1a34 button');\n",
              "      quickchartButtonEl.style.display =\n",
              "        google.colab.kernel.accessAllowed ? 'block' : 'none';\n",
              "    })();\n",
              "  </script>\n",
              "</div>\n",
              "\n",
              "    </div>\n",
              "  </div>\n"
            ],
            "application/vnd.google.colaboratory.intrinsic+json": {
              "type": "dataframe",
              "variable_name": "df_query_dev",
              "summary": "{\n  \"name\": \"df_query_dev\",\n  \"rows\": 1400,\n  \"fields\": [\n    {\n      \"column\": \"post_id\",\n      \"properties\": {\n        \"dtype\": \"number\",\n        \"std\": 4098,\n        \"min\": 16,\n        \"max\": 14236,\n        \"num_unique_values\": 1400,\n        \"samples\": [\n          6890,\n          6417,\n          1144\n        ],\n        \"semantic_type\": \"\",\n        \"description\": \"\"\n      }\n    },\n    {\n      \"column\": \"tweet_text\",\n      \"properties\": {\n        \"dtype\": \"string\",\n        \"num_unique_values\": 1399,\n        \"samples\": [\n          \"Individuals without symptoms aren't the primary drivers of disease. assuming that the test is a true (+), they might be infected but they present no symptoms most likely due to built up immunity from prior viruses. secondary transmission is minimal with a low viral load.9/n\",\n          \"Covid-19: the pharmaceutical heparin blocks entry of sars-cov-2 in live viral tests. #covid19 #coronavirus #glycotime\",\n          \"A very intriguing study out from acog: the sars-cov-2 infection rate in pregnancy was 19.1/1,000 deliveries compared to 7.3/1,000 in 20-39 year old adults in washington state. the weight of these infections was borne predominantly by people of colour.\"\n        ],\n        \"semantic_type\": \"\",\n        \"description\": \"\"\n      }\n    },\n    {\n      \"column\": \"cord_uid\",\n      \"properties\": {\n        \"dtype\": \"string\",\n        \"num_unique_values\": 772,\n        \"samples\": [\n          \"fa05sovj\",\n          \"01h205jf\",\n          \"4hog76lx\"\n        ],\n        \"semantic_type\": \"\",\n        \"description\": \"\"\n      }\n    }\n  ]\n}"
            }
          },
          "metadata": {},
          "execution_count": 14
        }
      ],
      "source": [
        "df_query_dev.head()"
      ]
    },
    {
      "cell_type": "code",
      "execution_count": 15,
      "metadata": {
        "colab": {
          "base_uri": "https://localhost:8080/"
        },
        "id": "t6gDlBZnLcdH",
        "outputId": "b36405a3-7ad4-4e9f-bd8d-9c75ecf9784d"
      },
      "outputs": [
        {
          "output_type": "stream",
          "name": "stdout",
          "text": [
            "<class 'pandas.core.frame.DataFrame'>\n",
            "RangeIndex: 1400 entries, 0 to 1399\n",
            "Data columns (total 3 columns):\n",
            " #   Column      Non-Null Count  Dtype \n",
            "---  ------      --------------  ----- \n",
            " 0   post_id     1400 non-null   int64 \n",
            " 1   tweet_text  1400 non-null   object\n",
            " 2   cord_uid    1400 non-null   object\n",
            "dtypes: int64(1), object(2)\n",
            "memory usage: 32.9+ KB\n"
          ]
        }
      ],
      "source": [
        "df_query_dev.info()"
      ]
    },
    {
      "cell_type": "markdown",
      "metadata": {
        "id": "jr_BDzufPmmP"
      },
      "source": [
        "# 2) BM25 Baseline\n"
      ]
    },
    {
      "cell_type": "code",
      "execution_count": 17,
      "metadata": {
        "id": "BHfJ7ItxO8u8"
      },
      "outputs": [],
      "source": [
        "#!pip install rank_bm25\n",
        "from rank_bm25 import BM25Okapi\n",
        "from tqdm import tqdm"
      ]
    },
    {
      "cell_type": "code",
      "execution_count": 18,
      "metadata": {
        "id": "jXCC7K_ZPQL2"
      },
      "outputs": [],
      "source": [
        "# Create the BM25 corpus\n",
        "corpus = df_collection[:][['title', 'abstract']].apply(lambda x: f\"{x['title']} {x['abstract']}\", axis=1).tolist()\n",
        "cord_uids = df_collection[:]['cord_uid'].tolist()\n",
        "tokenized_corpus = [doc.split(' ') for doc in corpus]\n",
        "bm25 = BM25Okapi(tokenized_corpus)"
      ]
    },
    {
      "cell_type": "code",
      "execution_count": 19,
      "metadata": {
        "id": "e8NeJWGYPQZG"
      },
      "outputs": [],
      "source": [
        "text2bm25top = {}\n",
        "def get_top_cord_uids(query):\n",
        "  if query in text2bm25top.keys():\n",
        "      return text2bm25top[query]\n",
        "  else:\n",
        "      tokenized_query = query.split(' ')\n",
        "      doc_scores = bm25.get_scores(tokenized_query)\n",
        "      indices = np.argsort(-doc_scores)[:100]\n",
        "      bm25_topk = [cord_uids[x] for x in indices]\n",
        "\n",
        "      text2bm25top[query] = bm25_topk\n",
        "      return bm25_topk\n"
      ]
    },
    {
      "cell_type": "code",
      "execution_count": 16,
      "metadata": {
        "id": "Fk4-BqEtTgUj"
      },
      "outputs": [],
      "source": [
        "# Retrieve topk candidates using the BM25 model\n",
        "# df_query_train['bm25_topk'] = df_query_train['tweet_text'].apply(lambda x: get_top_cord_uids(x))\n",
        "# df_query_dev['bm25_topk'] = df_query_dev['tweet_text'].apply(lambda x: get_top_cord_uids(x))"
      ]
    },
    {
      "cell_type": "code",
      "execution_count": 17,
      "metadata": {
        "colab": {
          "base_uri": "https://localhost:8080/",
          "height": 382
        },
        "id": "ERYHnRB4HYIs",
        "outputId": "ffdce628-2298-4186-8b72-6670bdde67de"
      },
      "outputs": [
        {
          "output_type": "stream",
          "name": "stderr",
          "text": [
            "  0%|          | 28/12853 [00:05<39:33,  5.40it/s]\n"
          ]
        },
        {
          "output_type": "error",
          "ename": "KeyboardInterrupt",
          "evalue": "",
          "traceback": [
            "\u001b[0;31m---------------------------------------------------------------------------\u001b[0m",
            "\u001b[0;31mKeyboardInterrupt\u001b[0m                         Traceback (most recent call last)",
            "\u001b[0;32m<ipython-input-17-db67842171ff>\u001b[0m in \u001b[0;36m<cell line: 0>\u001b[0;34m()\u001b[0m\n\u001b[1;32m      2\u001b[0m \u001b[0mbm25_results\u001b[0m \u001b[0;34m=\u001b[0m \u001b[0;34m[\u001b[0m\u001b[0;34m]\u001b[0m\u001b[0;34m\u001b[0m\u001b[0;34m\u001b[0m\u001b[0m\n\u001b[1;32m      3\u001b[0m \u001b[0;32mfor\u001b[0m \u001b[0mtext\u001b[0m \u001b[0;32min\u001b[0m \u001b[0mtqdm\u001b[0m\u001b[0;34m(\u001b[0m\u001b[0mdf_query_train\u001b[0m\u001b[0;34m[\u001b[0m\u001b[0;34m'tweet_text'\u001b[0m\u001b[0;34m]\u001b[0m\u001b[0;34m)\u001b[0m\u001b[0;34m:\u001b[0m\u001b[0;34m\u001b[0m\u001b[0;34m\u001b[0m\u001b[0m\n\u001b[0;32m----> 4\u001b[0;31m     \u001b[0mbm25_results\u001b[0m\u001b[0;34m.\u001b[0m\u001b[0mappend\u001b[0m\u001b[0;34m(\u001b[0m\u001b[0mget_top_cord_uids\u001b[0m\u001b[0;34m(\u001b[0m\u001b[0mtext\u001b[0m\u001b[0;34m)\u001b[0m\u001b[0;34m)\u001b[0m\u001b[0;34m\u001b[0m\u001b[0;34m\u001b[0m\u001b[0m\n\u001b[0m\u001b[1;32m      5\u001b[0m \u001b[0;34m\u001b[0m\u001b[0m\n\u001b[1;32m      6\u001b[0m \u001b[0mdf_query_train\u001b[0m\u001b[0;34m[\u001b[0m\u001b[0;34m'bm25_topk'\u001b[0m\u001b[0;34m]\u001b[0m \u001b[0;34m=\u001b[0m \u001b[0mbm25_results\u001b[0m\u001b[0;34m\u001b[0m\u001b[0;34m\u001b[0m\u001b[0m\n",
            "\u001b[0;32m<ipython-input-15-f8d9e9fe0d7b>\u001b[0m in \u001b[0;36mget_top_cord_uids\u001b[0;34m(query)\u001b[0m\n\u001b[1;32m      5\u001b[0m   \u001b[0;32melse\u001b[0m\u001b[0;34m:\u001b[0m\u001b[0;34m\u001b[0m\u001b[0;34m\u001b[0m\u001b[0m\n\u001b[1;32m      6\u001b[0m       \u001b[0mtokenized_query\u001b[0m \u001b[0;34m=\u001b[0m \u001b[0mquery\u001b[0m\u001b[0;34m.\u001b[0m\u001b[0msplit\u001b[0m\u001b[0;34m(\u001b[0m\u001b[0;34m' '\u001b[0m\u001b[0;34m)\u001b[0m\u001b[0;34m\u001b[0m\u001b[0;34m\u001b[0m\u001b[0m\n\u001b[0;32m----> 7\u001b[0;31m       \u001b[0mdoc_scores\u001b[0m \u001b[0;34m=\u001b[0m \u001b[0mbm25\u001b[0m\u001b[0;34m.\u001b[0m\u001b[0mget_scores\u001b[0m\u001b[0;34m(\u001b[0m\u001b[0mtokenized_query\u001b[0m\u001b[0;34m)\u001b[0m\u001b[0;34m\u001b[0m\u001b[0;34m\u001b[0m\u001b[0m\n\u001b[0m\u001b[1;32m      8\u001b[0m       \u001b[0mindices\u001b[0m \u001b[0;34m=\u001b[0m \u001b[0mnp\u001b[0m\u001b[0;34m.\u001b[0m\u001b[0margsort\u001b[0m\u001b[0;34m(\u001b[0m\u001b[0;34m-\u001b[0m\u001b[0mdoc_scores\u001b[0m\u001b[0;34m)\u001b[0m\u001b[0;34m[\u001b[0m\u001b[0;34m:\u001b[0m\u001b[0;36m100\u001b[0m\u001b[0;34m]\u001b[0m\u001b[0;34m\u001b[0m\u001b[0;34m\u001b[0m\u001b[0m\n\u001b[1;32m      9\u001b[0m       \u001b[0mbm25_topk\u001b[0m \u001b[0;34m=\u001b[0m \u001b[0;34m[\u001b[0m\u001b[0mcord_uids\u001b[0m\u001b[0;34m[\u001b[0m\u001b[0mx\u001b[0m\u001b[0;34m]\u001b[0m \u001b[0;32mfor\u001b[0m \u001b[0mx\u001b[0m \u001b[0;32min\u001b[0m \u001b[0mindices\u001b[0m\u001b[0;34m]\u001b[0m\u001b[0;34m\u001b[0m\u001b[0;34m\u001b[0m\u001b[0m\n",
            "\u001b[0;32m/usr/local/lib/python3.11/dist-packages/rank_bm25.py\u001b[0m in \u001b[0;36mget_scores\u001b[0;34m(self, query)\u001b[0m\n\u001b[1;32m    116\u001b[0m         \u001b[0mdoc_len\u001b[0m \u001b[0;34m=\u001b[0m \u001b[0mnp\u001b[0m\u001b[0;34m.\u001b[0m\u001b[0marray\u001b[0m\u001b[0;34m(\u001b[0m\u001b[0mself\u001b[0m\u001b[0;34m.\u001b[0m\u001b[0mdoc_len\u001b[0m\u001b[0;34m)\u001b[0m\u001b[0;34m\u001b[0m\u001b[0;34m\u001b[0m\u001b[0m\n\u001b[1;32m    117\u001b[0m         \u001b[0;32mfor\u001b[0m \u001b[0mq\u001b[0m \u001b[0;32min\u001b[0m \u001b[0mquery\u001b[0m\u001b[0;34m:\u001b[0m\u001b[0;34m\u001b[0m\u001b[0;34m\u001b[0m\u001b[0m\n\u001b[0;32m--> 118\u001b[0;31m             \u001b[0mq_freq\u001b[0m \u001b[0;34m=\u001b[0m \u001b[0mnp\u001b[0m\u001b[0;34m.\u001b[0m\u001b[0marray\u001b[0m\u001b[0;34m(\u001b[0m\u001b[0;34m[\u001b[0m\u001b[0;34m(\u001b[0m\u001b[0mdoc\u001b[0m\u001b[0;34m.\u001b[0m\u001b[0mget\u001b[0m\u001b[0;34m(\u001b[0m\u001b[0mq\u001b[0m\u001b[0;34m)\u001b[0m \u001b[0;32mor\u001b[0m \u001b[0;36m0\u001b[0m\u001b[0;34m)\u001b[0m \u001b[0;32mfor\u001b[0m \u001b[0mdoc\u001b[0m \u001b[0;32min\u001b[0m \u001b[0mself\u001b[0m\u001b[0;34m.\u001b[0m\u001b[0mdoc_freqs\u001b[0m\u001b[0;34m]\u001b[0m\u001b[0;34m)\u001b[0m\u001b[0;34m\u001b[0m\u001b[0;34m\u001b[0m\u001b[0m\n\u001b[0m\u001b[1;32m    119\u001b[0m             score += (self.idf.get(q) or 0) * (q_freq * (self.k1 + 1) /\n\u001b[1;32m    120\u001b[0m                                                (q_freq + self.k1 * (1 - self.b + self.b * doc_len / self.avgdl)))\n",
            "\u001b[0;32m/usr/local/lib/python3.11/dist-packages/rank_bm25.py\u001b[0m in \u001b[0;36m<listcomp>\u001b[0;34m(.0)\u001b[0m\n\u001b[1;32m    116\u001b[0m         \u001b[0mdoc_len\u001b[0m \u001b[0;34m=\u001b[0m \u001b[0mnp\u001b[0m\u001b[0;34m.\u001b[0m\u001b[0marray\u001b[0m\u001b[0;34m(\u001b[0m\u001b[0mself\u001b[0m\u001b[0;34m.\u001b[0m\u001b[0mdoc_len\u001b[0m\u001b[0;34m)\u001b[0m\u001b[0;34m\u001b[0m\u001b[0;34m\u001b[0m\u001b[0m\n\u001b[1;32m    117\u001b[0m         \u001b[0;32mfor\u001b[0m \u001b[0mq\u001b[0m \u001b[0;32min\u001b[0m \u001b[0mquery\u001b[0m\u001b[0;34m:\u001b[0m\u001b[0;34m\u001b[0m\u001b[0;34m\u001b[0m\u001b[0m\n\u001b[0;32m--> 118\u001b[0;31m             \u001b[0mq_freq\u001b[0m \u001b[0;34m=\u001b[0m \u001b[0mnp\u001b[0m\u001b[0;34m.\u001b[0m\u001b[0marray\u001b[0m\u001b[0;34m(\u001b[0m\u001b[0;34m[\u001b[0m\u001b[0;34m(\u001b[0m\u001b[0mdoc\u001b[0m\u001b[0;34m.\u001b[0m\u001b[0mget\u001b[0m\u001b[0;34m(\u001b[0m\u001b[0mq\u001b[0m\u001b[0;34m)\u001b[0m \u001b[0;32mor\u001b[0m \u001b[0;36m0\u001b[0m\u001b[0;34m)\u001b[0m \u001b[0;32mfor\u001b[0m \u001b[0mdoc\u001b[0m \u001b[0;32min\u001b[0m \u001b[0mself\u001b[0m\u001b[0;34m.\u001b[0m\u001b[0mdoc_freqs\u001b[0m\u001b[0;34m]\u001b[0m\u001b[0;34m)\u001b[0m\u001b[0;34m\u001b[0m\u001b[0;34m\u001b[0m\u001b[0m\n\u001b[0m\u001b[1;32m    119\u001b[0m             score += (self.idf.get(q) or 0) * (q_freq * (self.k1 + 1) /\n\u001b[1;32m    120\u001b[0m                                                (q_freq + self.k1 * (1 - self.b + self.b * doc_len / self.avgdl)))\n",
            "\u001b[0;31mKeyboardInterrupt\u001b[0m: "
          ]
        }
      ],
      "source": [
        "# Retrieve topk candidates using the BM25 model\n",
        "bm25_results = []\n",
        "for text in tqdm(df_query_train['tweet_text']):\n",
        "    bm25_results.append(get_top_cord_uids(text))\n",
        "\n",
        "df_query_train['bm25_topk'] = bm25_results\n",
        "\n",
        "bm25_results = []\n",
        "for text in tqdm(df_query_dev['tweet_text']):\n",
        "    bm25_results.append(get_top_cord_uids(text))\n",
        "\n",
        "df_query_dev['bm25_topk'] = bm25_results"
      ]
    },
    {
      "cell_type": "markdown",
      "source": [
        "# 2.2) Execution of BM25 on modified tweets"
      ],
      "metadata": {
        "id": "4qIRES8HTK55"
      }
    },
    {
      "cell_type": "code",
      "source": [
        "# In case of compatibility issues between spacy and numpy - run the following reinstallation and restart the runtime of the colab\n",
        "# !pip uninstall -y numpy spacy\n",
        "# !pip install numpy==1.23.5\n",
        "# !pip install spacy==3.4.4\n",
        "# !python -m spacy download en_core_web_sm"
      ],
      "metadata": {
        "colab": {
          "base_uri": "https://localhost:8080/",
          "height": 1000
        },
        "id": "AxVkWwmfHn-5",
        "outputId": "07cf1ba9-90a7-4210-a2a5-b962dc7ee226"
      },
      "execution_count": 21,
      "outputs": [
        {
          "output_type": "stream",
          "name": "stdout",
          "text": [
            "Found existing installation: numpy 2.2.4\n",
            "Uninstalling numpy-2.2.4:\n",
            "  Successfully uninstalled numpy-2.2.4\n",
            "Found existing installation: spacy 3.4.4\n",
            "Uninstalling spacy-3.4.4:\n",
            "  Successfully uninstalled spacy-3.4.4\n",
            "Collecting numpy==1.23.5\n",
            "  Using cached numpy-1.23.5-cp311-cp311-manylinux_2_17_x86_64.manylinux2014_x86_64.whl.metadata (2.3 kB)\n",
            "Using cached numpy-1.23.5-cp311-cp311-manylinux_2_17_x86_64.manylinux2014_x86_64.whl (17.1 MB)\n",
            "Installing collected packages: numpy\n",
            "\u001b[31mERROR: pip's dependency resolver does not currently take into account all the packages that are installed. This behaviour is the source of the following dependency conflicts.\n",
            "scispacy 0.5.5 requires spacy<3.8.0,>=3.7.0, which is not installed.\n",
            "fastai 2.7.19 requires spacy<4, which is not installed.\n",
            "xarray 2025.1.2 requires numpy>=1.24, but you have numpy 1.23.5 which is incompatible.\n",
            "bigframes 1.42.0 requires numpy>=1.24.0, but you have numpy 1.23.5 which is incompatible.\n",
            "chex 0.1.89 requires numpy>=1.24.1, but you have numpy 1.23.5 which is incompatible.\n",
            "albumentations 2.0.5 requires numpy>=1.24.4, but you have numpy 1.23.5 which is incompatible.\n",
            "albumentations 2.0.5 requires pydantic>=2.9.2, but you have pydantic 1.10.21 which is incompatible.\n",
            "pymc 5.21.2 requires numpy>=1.25.0, but you have numpy 1.23.5 which is incompatible.\n",
            "tensorflow 2.18.0 requires numpy<2.1.0,>=1.26.0, but you have numpy 1.23.5 which is incompatible.\n",
            "treescope 0.1.9 requires numpy>=1.25.2, but you have numpy 1.23.5 which is incompatible.\n",
            "albucore 0.0.23 requires numpy>=1.24.4, but you have numpy 1.23.5 which is incompatible.\n",
            "jax 0.5.2 requires numpy>=1.25, but you have numpy 1.23.5 which is incompatible.\n",
            "scikit-image 0.25.2 requires numpy>=1.24, but you have numpy 1.23.5 which is incompatible.\n",
            "blosc2 3.3.0 requires numpy>=1.26, but you have numpy 1.23.5 which is incompatible.\n",
            "jaxlib 0.5.1 requires numpy>=1.25, but you have numpy 1.23.5 which is incompatible.\n",
            "imbalanced-learn 0.13.0 requires numpy<3,>=1.24.3, but you have numpy 1.23.5 which is incompatible.\u001b[0m\u001b[31m\n",
            "\u001b[0mSuccessfully installed numpy-1.23.5\n"
          ]
        },
        {
          "output_type": "display_data",
          "data": {
            "application/vnd.colab-display-data+json": {
              "pip_warning": {
                "packages": [
                  "numpy"
                ]
              },
              "id": "7330a64b47444b1cb2b2a16c04bd31e5"
            }
          },
          "metadata": {}
        },
        {
          "output_type": "stream",
          "name": "stdout",
          "text": [
            "Collecting spacy==3.4.4\n",
            "  Using cached spacy-3.4.4-cp311-cp311-manylinux_2_17_x86_64.manylinux2014_x86_64.whl.metadata (24 kB)\n",
            "Requirement already satisfied: spacy-legacy<3.1.0,>=3.0.10 in /usr/local/lib/python3.11/dist-packages (from spacy==3.4.4) (3.0.12)\n",
            "Requirement already satisfied: spacy-loggers<2.0.0,>=1.0.0 in /usr/local/lib/python3.11/dist-packages (from spacy==3.4.4) (1.0.5)\n",
            "Requirement already satisfied: murmurhash<1.1.0,>=0.28.0 in /usr/local/lib/python3.11/dist-packages (from spacy==3.4.4) (1.0.12)\n",
            "Requirement already satisfied: cymem<2.1.0,>=2.0.2 in /usr/local/lib/python3.11/dist-packages (from spacy==3.4.4) (2.0.11)\n",
            "Requirement already satisfied: preshed<3.1.0,>=3.0.2 in /usr/local/lib/python3.11/dist-packages (from spacy==3.4.4) (3.0.9)\n",
            "Requirement already satisfied: thinc<8.2.0,>=8.1.0 in /usr/local/lib/python3.11/dist-packages (from spacy==3.4.4) (8.1.12)\n",
            "Requirement already satisfied: wasabi<1.1.0,>=0.9.1 in /usr/local/lib/python3.11/dist-packages (from spacy==3.4.4) (0.10.1)\n",
            "Requirement already satisfied: srsly<3.0.0,>=2.4.3 in /usr/local/lib/python3.11/dist-packages (from spacy==3.4.4) (2.5.1)\n",
            "Requirement already satisfied: catalogue<2.1.0,>=2.0.6 in /usr/local/lib/python3.11/dist-packages (from spacy==3.4.4) (2.0.10)\n",
            "Requirement already satisfied: typer<0.8.0,>=0.3.0 in /usr/local/lib/python3.11/dist-packages (from spacy==3.4.4) (0.7.0)\n",
            "Requirement already satisfied: pathy>=0.3.5 in /usr/local/lib/python3.11/dist-packages (from spacy==3.4.4) (0.11.0)\n",
            "Requirement already satisfied: smart-open<7.0.0,>=5.2.1 in /usr/local/lib/python3.11/dist-packages (from spacy==3.4.4) (6.4.0)\n",
            "Requirement already satisfied: tqdm<5.0.0,>=4.38.0 in /usr/local/lib/python3.11/dist-packages (from spacy==3.4.4) (4.67.1)\n",
            "Requirement already satisfied: numpy>=1.15.0 in /usr/local/lib/python3.11/dist-packages (from spacy==3.4.4) (1.23.5)\n",
            "Requirement already satisfied: requests<3.0.0,>=2.13.0 in /usr/local/lib/python3.11/dist-packages (from spacy==3.4.4) (2.32.3)\n",
            "Requirement already satisfied: pydantic!=1.8,!=1.8.1,<1.11.0,>=1.7.4 in /usr/local/lib/python3.11/dist-packages (from spacy==3.4.4) (1.10.21)\n",
            "Requirement already satisfied: jinja2 in /usr/local/lib/python3.11/dist-packages (from spacy==3.4.4) (3.1.6)\n",
            "Requirement already satisfied: setuptools in /usr/local/lib/python3.11/dist-packages (from spacy==3.4.4) (78.1.0)\n",
            "Requirement already satisfied: packaging>=20.0 in /usr/local/lib/python3.11/dist-packages (from spacy==3.4.4) (24.2)\n",
            "Requirement already satisfied: langcodes<4.0.0,>=3.2.0 in /usr/local/lib/python3.11/dist-packages (from spacy==3.4.4) (3.5.0)\n",
            "Requirement already satisfied: language-data>=1.2 in /usr/local/lib/python3.11/dist-packages (from langcodes<4.0.0,>=3.2.0->spacy==3.4.4) (1.3.0)\n",
            "Requirement already satisfied: pathlib-abc==0.1.1 in /usr/local/lib/python3.11/dist-packages (from pathy>=0.3.5->spacy==3.4.4) (0.1.1)\n",
            "Requirement already satisfied: typing-extensions>=4.2.0 in /usr/local/lib/python3.11/dist-packages (from pydantic!=1.8,!=1.8.1,<1.11.0,>=1.7.4->spacy==3.4.4) (4.13.2)\n",
            "Requirement already satisfied: charset-normalizer<4,>=2 in /usr/local/lib/python3.11/dist-packages (from requests<3.0.0,>=2.13.0->spacy==3.4.4) (3.4.1)\n",
            "Requirement already satisfied: idna<4,>=2.5 in /usr/local/lib/python3.11/dist-packages (from requests<3.0.0,>=2.13.0->spacy==3.4.4) (3.10)\n",
            "Requirement already satisfied: urllib3<3,>=1.21.1 in /usr/local/lib/python3.11/dist-packages (from requests<3.0.0,>=2.13.0->spacy==3.4.4) (2.4.0)\n",
            "Requirement already satisfied: certifi>=2017.4.17 in /usr/local/lib/python3.11/dist-packages (from requests<3.0.0,>=2.13.0->spacy==3.4.4) (2025.1.31)\n",
            "Requirement already satisfied: blis<0.8.0,>=0.7.8 in /usr/local/lib/python3.11/dist-packages (from thinc<8.2.0,>=8.1.0->spacy==3.4.4) (0.7.11)\n",
            "Requirement already satisfied: confection<1.0.0,>=0.0.1 in /usr/local/lib/python3.11/dist-packages (from thinc<8.2.0,>=8.1.0->spacy==3.4.4) (0.1.5)\n",
            "Requirement already satisfied: click<9.0.0,>=7.1.1 in /usr/local/lib/python3.11/dist-packages (from typer<0.8.0,>=0.3.0->spacy==3.4.4) (8.1.8)\n",
            "Requirement already satisfied: MarkupSafe>=2.0 in /usr/local/lib/python3.11/dist-packages (from jinja2->spacy==3.4.4) (3.0.2)\n",
            "Requirement already satisfied: marisa-trie>=1.1.0 in /usr/local/lib/python3.11/dist-packages (from language-data>=1.2->langcodes<4.0.0,>=3.2.0->spacy==3.4.4) (1.2.1)\n",
            "Using cached spacy-3.4.4-cp311-cp311-manylinux_2_17_x86_64.manylinux2014_x86_64.whl (6.4 MB)\n",
            "Installing collected packages: spacy\n",
            "\u001b[31mERROR: pip's dependency resolver does not currently take into account all the packages that are installed. This behaviour is the source of the following dependency conflicts.\n",
            "en-ner-bionlp13cg-md 0.5.4 requires spacy<3.8.0,>=3.7.4, but you have spacy 3.4.4 which is incompatible.\n",
            "scispacy 0.5.5 requires spacy<3.8.0,>=3.7.0, but you have spacy 3.4.4 which is incompatible.\u001b[0m\u001b[31m\n",
            "\u001b[0mSuccessfully installed spacy-3.4.4\n",
            "2025-04-16 07:45:00.300225: E external/local_xla/xla/stream_executor/cuda/cuda_fft.cc:477] Unable to register cuFFT factory: Attempting to register factory for plugin cuFFT when one has already been registered\n",
            "WARNING: All log messages before absl::InitializeLog() is called are written to STDERR\n",
            "E0000 00:00:1744789500.328834   35297 cuda_dnn.cc:8310] Unable to register cuDNN factory: Attempting to register factory for plugin cuDNN when one has already been registered\n",
            "E0000 00:00:1744789500.337593   35297 cuda_blas.cc:1418] Unable to register cuBLAS factory: Attempting to register factory for plugin cuBLAS when one has already been registered\n",
            "Traceback (most recent call last):\n",
            "  File \"<frozen runpy>\", line 189, in _run_module_as_main\n",
            "  File \"<frozen runpy>\", line 148, in _get_module_details\n",
            "  File \"<frozen runpy>\", line 112, in _get_module_details\n",
            "  File \"/usr/local/lib/python3.11/dist-packages/spacy/__init__.py\", line 6, in <module>\n",
            "    from .errors import setup_default_warnings\n",
            "  File \"/usr/local/lib/python3.11/dist-packages/spacy/errors.py\", line 2, in <module>\n",
            "    from .compat import Literal\n",
            "  File \"/usr/local/lib/python3.11/dist-packages/spacy/compat.py\", line 3, in <module>\n",
            "    from thinc.util import copy_array\n",
            "  File \"/usr/local/lib/python3.11/dist-packages/thinc/__init__.py\", line 5, in <module>\n",
            "    from .config import registry\n",
            "  File \"/usr/local/lib/python3.11/dist-packages/thinc/config.py\", line 5, in <module>\n",
            "    from .types import Decorator\n",
            "  File \"/usr/local/lib/python3.11/dist-packages/thinc/types.py\", line 25, in <module>\n",
            "    from .compat import cupy, has_cupy\n",
            "  File \"/usr/local/lib/python3.11/dist-packages/thinc/compat.py\", line 54, in <module>\n",
            "    import tensorflow\n",
            "  File \"/usr/local/lib/python3.11/dist-packages/tensorflow/__init__.py\", line 55, in <module>\n",
            "    from tensorflow._api.v2 import compat\n",
            "  File \"/usr/local/lib/python3.11/dist-packages/tensorflow/_api/v2/compat/__init__.py\", line 8, in <module>\n",
            "    from tensorflow._api.v2.compat import v1\n",
            "  File \"/usr/local/lib/python3.11/dist-packages/tensorflow/_api/v2/compat/v1/__init__.py\", line 30, in <module>\n",
            "    from tensorflow._api.v2.compat.v1 import compat\n",
            "  File \"/usr/local/lib/python3.11/dist-packages/tensorflow/_api/v2/compat/v1/compat/__init__.py\", line 8, in <module>\n",
            "    from tensorflow._api.v2.compat.v1.compat import v1\n",
            "  File \"/usr/local/lib/python3.11/dist-packages/tensorflow/_api/v2/compat/v1/compat/v1/__init__.py\", line 47, in <module>\n",
            "    from tensorflow._api.v2.compat.v1 import lite\n",
            "  File \"/usr/local/lib/python3.11/dist-packages/tensorflow/_api/v2/compat/v1/lite/__init__.py\", line 9, in <module>\n",
            "    from tensorflow._api.v2.compat.v1.lite import experimental\n",
            "  File \"/usr/local/lib/python3.11/dist-packages/tensorflow/_api/v2/compat/v1/lite/experimental/__init__.py\", line 8, in <module>\n",
            "    from tensorflow._api.v2.compat.v1.lite.experimental import authoring\n",
            "  File \"/usr/local/lib/python3.11/dist-packages/tensorflow/_api/v2/compat/v1/lite/experimental/authoring/__init__.py\", line 8, in <module>\n",
            "    from tensorflow.lite.python.authoring.authoring import compatible # line: 263\n",
            "    ^^^^^^^^^^^^^^^^^^^^^^^^^^^^^^^^^^^^^^^^^^^^^^^^^^^^^^^^^^^^^^^^^\n",
            "  File \"/usr/local/lib/python3.11/dist-packages/tensorflow/lite/python/authoring/authoring.py\", line 42, in <module>\n",
            "    from tensorflow.lite.python import convert\n",
            "  File \"/usr/local/lib/python3.11/dist-packages/tensorflow/lite/python/convert.py\", line 35, in <module>\n",
            "    from tensorflow.lite.python import util\n",
            "  File \"/usr/local/lib/python3.11/dist-packages/tensorflow/lite/python/util.py\", line 53, in <module>\n",
            "    from jax import jit as _jit\n",
            "  File \"/usr/local/lib/python3.11/dist-packages/jax/__init__.py\", line 37, in <module>\n",
            "    import jax.core as _core\n",
            "  File \"/usr/local/lib/python3.11/dist-packages/jax/core.py\", line 18, in <module>\n",
            "    from jax._src.core import (\n",
            "  File \"/usr/local/lib/python3.11/dist-packages/jax/_src/core.py\", line 37, in <module>\n",
            "    from jax._src import dtypes\n",
            "  File \"/usr/local/lib/python3.11/dist-packages/jax/_src/dtypes.py\", line 521, in <module>\n",
            "    if hasattr(np.dtypes, 'StringDType') and xla_extension_version >= 311:\n",
            "               ^^^^^^^^^\n",
            "  File \"/usr/local/lib/python3.11/dist-packages/numpy/__init__.py\", line 311, in __getattr__\n",
            "    raise AttributeError(\"module {!r} has no attribute \"\n",
            "AttributeError: module 'numpy' has no attribute 'dtypes'. Did you mean: 'dtype'?\n",
            "^C\n"
          ]
        }
      ]
    },
    {
      "cell_type": "markdown",
      "source": [
        "Import required modules (use en_ner_bionlp13cg_md model that focuses on biomedical named entity recognition).\n",
        "Download nltk Wordnet"
      ],
      "metadata": {
        "id": "aMzesnQmTVaU"
      }
    },
    {
      "cell_type": "code",
      "source": [
        "# !pip install -q spacy scispacy https://s3-us-west-2.amazonaws.com/ai2-s2-scispacy/releases/v0.5.4/en_ner_bionlp13cg_md-0.5.4.tar.gz"
      ],
      "metadata": {
        "colab": {
          "base_uri": "https://localhost:8080/"
        },
        "id": "qltRFMQ4TY83",
        "outputId": "f11773b2-2be5-4423-8ad9-8bb6c5d4e09d"
      },
      "execution_count": 17,
      "outputs": [
        {
          "output_type": "stream",
          "name": "stdout",
          "text": [
            "  Preparing metadata (setup.py) ... \u001b[?25l\u001b[?25hdone\n"
          ]
        }
      ]
    },
    {
      "cell_type": "code",
      "source": [
        "import nltk\n",
        "nltk.download('wordnet')"
      ],
      "metadata": {
        "colab": {
          "base_uri": "https://localhost:8080/"
        },
        "id": "N35_IBXIIXMT",
        "outputId": "0addd9f7-43f8-4104-df3f-1bc344f0aa73"
      },
      "execution_count": 23,
      "outputs": [
        {
          "output_type": "stream",
          "name": "stderr",
          "text": [
            "[nltk_data] Downloading package wordnet to /root/nltk_data...\n",
            "[nltk_data]   Package wordnet is already up-to-date!\n"
          ]
        },
        {
          "output_type": "execute_result",
          "data": {
            "text/plain": [
              "True"
            ]
          },
          "metadata": {},
          "execution_count": 23
        }
      ]
    },
    {
      "cell_type": "markdown",
      "source": [
        "Now import the required libraries"
      ],
      "metadata": {
        "id": "p1NTZvmvUrOq"
      }
    },
    {
      "cell_type": "code",
      "source": [
        "import re\n",
        "import spacy\n",
        "from nltk.corpus import wordnet as wn\n",
        "\n",
        "nlp = spacy.load(\"en_ner_bionlp13cg_md\")"
      ],
      "metadata": {
        "colab": {
          "base_uri": "https://localhost:8080/"
        },
        "id": "3Y2wup0YUOz6",
        "outputId": "ac813e7d-414d-424a-c91a-62b60e76a2c4"
      },
      "execution_count": 24,
      "outputs": [
        {
          "output_type": "stream",
          "name": "stderr",
          "text": [
            "/usr/local/lib/python3.11/dist-packages/spacy/language.py:2195: FutureWarning: Possible set union at position 6328\n",
            "  deserializers[\"tokenizer\"] = lambda p: self.tokenizer.from_disk(  # type: ignore[union-attr]\n"
          ]
        }
      ]
    },
    {
      "cell_type": "markdown",
      "source": [
        "Define tweets processing functions"
      ],
      "metadata": {
        "id": "y8eJsDc6UwUr"
      }
    },
    {
      "cell_type": "code",
      "source": [
        "# lowercase, remove mentions and hashtags\n",
        "def clean_tweet(text):\n",
        "    text = text.lower()\n",
        "    text = re.sub(r\"@\\w+\", \"\", text)\n",
        "    text = re.sub(r\"#\\w+\", \"\", text)\n",
        "    return text.strip()\n",
        "\n",
        "# extract scientific terms using SciSpacy\n",
        "def extract_terms(text):\n",
        "    doc = nlp(text)\n",
        "    return list(set(ent.text for ent in doc.ents))\n",
        "\n",
        "# extract WordNet synonyms (not specific to biomedical)\n",
        "def get_synonyms(term):\n",
        "    synonyms = set()\n",
        "    for syn in wn.synsets(term.replace(\" \", \"_\")):\n",
        "        for lemma in syn.lemmas():\n",
        "            synonyms.add(lemma.name().replace(\"_\", \" \"))\n",
        "    return list(synonyms)\n",
        "\n",
        "# reformulate a tweet: clean, extract terms, expand with synonyms\n",
        "def reformulate(tweet):\n",
        "    cleaned = clean_tweet(tweet)\n",
        "    terms = extract_terms(cleaned)\n",
        "    synonyms = []\n",
        "    for term in terms:\n",
        "        synonyms.extend(get_synonyms(term))\n",
        "    expansion = ' '.join(set(synonyms))\n",
        "    return f\"{cleaned} {expansion}\".strip()\n"
      ],
      "metadata": {
        "id": "L9TOmQgbUveM"
      },
      "execution_count": 21,
      "outputs": []
    },
    {
      "cell_type": "markdown",
      "source": [
        "Prepare the dataframes"
      ],
      "metadata": {
        "id": "O4FRfPhSVHjk"
      }
    },
    {
      "cell_type": "code",
      "source": [
        "tqdm.pandas()\n",
        "df_query_train['expanded_tweet_text'] = df_query_train['tweet_text'].progress_apply(reformulate)\n",
        "df_query_dev['expanded_tweet_text'] = df_query_dev['tweet_text'].progress_apply(reformulate)"
      ],
      "metadata": {
        "colab": {
          "base_uri": "https://localhost:8080/"
        },
        "id": "Hmhxk5gfVLfh",
        "outputId": "214e31c5-dc66-4b04-8f05-b7a01dfc8aec"
      },
      "execution_count": 25,
      "outputs": [
        {
          "output_type": "stream",
          "name": "stderr",
          "text": [
            "100%|██████████| 12853/12853 [03:45<00:00, 56.92it/s]\n",
            "100%|██████████| 1400/1400 [00:21<00:00, 66.43it/s]\n"
          ]
        }
      ]
    },
    {
      "cell_type": "markdown",
      "source": [
        "Observe the expanded tweets"
      ],
      "metadata": {
        "id": "TbsI7ha5J7F2"
      }
    },
    {
      "cell_type": "code",
      "source": [
        "def wrapped_print(tweet):\n",
        "    for j in range(0, len(tweet), 120):\n",
        "        print(tweet[j:j+100])\n",
        "\n",
        "for i, (tweet, expanded_tweet) in enumerate(zip(df_query_train['tweet_text'].head(5), df_query_train['expanded_tweet_text'].head(5)), 1):\n",
        "    print(f\"\\n--- Tweet {i} ---\\n\")\n",
        "    wrapped_print(tweet)\n",
        "    print(f\"\\n--- Expanded Tweet {i} ---\\n\")\n",
        "    wrapped_print(expanded_tweet)"
      ],
      "metadata": {
        "colab": {
          "base_uri": "https://localhost:8080/"
        },
        "id": "v282F-kZJ9Em",
        "outputId": "a1f87c4a-852f-4bbb-dd06-523d147ba618"
      },
      "execution_count": 26,
      "outputs": [
        {
          "output_type": "stream",
          "name": "stdout",
          "text": [
            "\n",
            "--- Tweet 1 ---\n",
            "\n",
            "Oral care in rehabilitation medicine: oral vulnerability, oral muscle wasting, and hospital-associat\n",
            "\n",
            "--- Expanded Tweet 1 ---\n",
            "\n",
            "oral care in rehabilitation medicine: oral vulnerability, oral muscle wasting, and hospital-associat\n",
            "oral exam oral examination unwritten viva voce oral\n",
            "\n",
            "--- Tweet 2 ---\n",
            "\n",
            "this study isn't receiving sufficient attention. it reveals black/latino/indigenous individuals aren\n",
            "o covid at higher rates than whites but are also passing away *earlier*.   90% of white fatalities o\n",
            "0% of black fatalities occur in those 55+,  89% of indigenous fatalities occur in those 45+\n",
            "\n",
            "--- Expanded Tweet 2 ---\n",
            "\n",
            "this study isn't receiving sufficient attention. it reveals black/latino/indigenous individuals aren\n",
            "o covid at higher rates than whites but are also passing away *earlier*.   90% of white fatalities o\n",
            "0% of black fatalities occur in those 55+,  89% of indigenous fatalities occur in those 45+\n",
            "\n",
            "--- Tweet 3 ---\n",
            "\n",
            "thanks, xi jinping. a reminder that this study concludes that if non-pharmaceutical interventions ha\n",
            "hree weeks earlier by china (ie not covered up) spread could have been reduced by 95%\n",
            "\n",
            "--- Expanded Tweet 3 ---\n",
            "\n",
            "thanks, xi jinping. a reminder that this study concludes that if non-pharmaceutical interventions ha\n",
            "hree weeks earlier by china (ie not covered up) spread could have been reduced by 95%\n",
            "\n",
            "--- Tweet 4 ---\n",
            "\n",
            "Taiwan - a population of 23 million has had just 600 cases &amp; 7 deaths. widespread mask use &amp;\n",
            "easures stand out. eradication is possible but requires determination &amp; a commitment to caring f\n",
            " the chosen few arbitrarily considered essential to society\n",
            "\n",
            "--- Expanded Tweet 4 ---\n",
            "\n",
            "taiwan - a population of 23 million has had just 600 cases &amp; 7 deaths. widespread mask use &amp;\n",
            "easures stand out. eradication is possible but requires determination &amp; a commitment to caring f\n",
            " the chosen few arbitrarily considered essential to society\n",
            "\n",
            "--- Tweet 5 ---\n",
            "\n",
            "Obtaining a diagnosis of autism in lower income countries can take a lengthy period. Our new study m\n",
            "tool, the Q-Chat, for use in regular health check-ups in Chile. We discovered proof this enhances au\n",
            "low-income nation.\n",
            "\n",
            "--- Expanded Tweet 5 ---\n",
            "\n",
            "obtaining a diagnosis of autism in lower income countries can take a lengthy period. our new study m\n",
            "tool, the q-chat, for use in regular health check-ups in chile. we discovered proof this enhances au\n",
            "low-income nation.\n"
          ]
        }
      ]
    },
    {
      "cell_type": "code",
      "source": [
        "bm25_train_results = []\n",
        "bm25_dev_results = []"
      ],
      "metadata": {
        "id": "VnlgFlLAvZjQ"
      },
      "execution_count": 27,
      "outputs": []
    },
    {
      "cell_type": "code",
      "source": [
        "# Retrieve topk candidates using the BM25 model\n",
        "for text in tqdm(df_query_train['expanded_tweet_text']):\n",
        "    bm25_train_results.append(get_top_cord_uids(text))\n",
        "\n",
        "df_query_train['bm25_expanded_topk'] = bm25_train_results\n",
        "\n",
        "for text in tqdm(df_query_dev['expanded_tweet_text']):\n",
        "    bm25_dev_results.append(get_top_cord_uids(text))\n",
        "\n",
        "df_query_dev['bm25_expanded_topk'] = bm25_dev_results"
      ],
      "metadata": {
        "colab": {
          "base_uri": "https://localhost:8080/"
        },
        "id": "8u8xyjObVrWZ",
        "outputId": "c8b1061d-2d5e-4dd0-8252-a4d410e709ab"
      },
      "execution_count": 28,
      "outputs": [
        {
          "output_type": "stream",
          "name": "stderr",
          "text": [
            "100%|██████████| 12853/12853 [33:17<00:00,  6.43it/s]\n",
            "100%|██████████| 1400/1400 [03:39<00:00,  6.37it/s]\n"
          ]
        }
      ]
    },
    {
      "cell_type": "code",
      "source": [
        "df_query_train['bm25_expanded_topk'].shape\n",
        "df_query_dev['bm25_expanded_topk'].shape"
      ],
      "metadata": {
        "id": "3lbjCC7mvLdn",
        "outputId": "e9863cf7-0e5a-4a25-b04d-7b3ed38281e9",
        "colab": {
          "base_uri": "https://localhost:8080/"
        }
      },
      "execution_count": 31,
      "outputs": [
        {
          "output_type": "execute_result",
          "data": {
            "text/plain": [
              "(1400,)"
            ]
          },
          "metadata": {},
          "execution_count": 31
        }
      ]
    },
    {
      "cell_type": "markdown",
      "metadata": {
        "id": "QVKBlTCZUMSc"
      },
      "source": [
        "# 3) Evaluating BM25 baseline with MRR@5"
      ]
    },
    {
      "cell_type": "code",
      "execution_count": 32,
      "metadata": {
        "id": "c-vdGWXXTgjZ"
      },
      "outputs": [],
      "source": [
        "# Evaluate retrieved candidates using MRR@k\n",
        "def get_performance_mrr(data, col_gold, col_pred, list_k = [1, 5, 10]):\n",
        "    d_performance = {}\n",
        "    for k in list_k:\n",
        "        data[\"in_topx\"] = data.apply(lambda x: (1/([i for i in x[col_pred][:k]].index(x[col_gold]) + 1) if x[col_gold] in [i for i in x[col_pred][:k]] else 0), axis=1)\n",
        "        #performances.append(data[\"in_topx\"].mean())\n",
        "        d_performance[k] = data[\"in_topx\"].mean()\n",
        "    return d_performance"
      ]
    },
    {
      "cell_type": "code",
      "execution_count": 38,
      "metadata": {
        "colab": {
          "base_uri": "https://localhost:8080/"
        },
        "id": "xLX9SMg5USkH",
        "outputId": "1c6ac330-8876-48ba-c10c-e86d7f112318"
      },
      "outputs": [
        {
          "output_type": "stream",
          "name": "stdout",
          "text": [
            "Results on the train set: {1: np.float64(0.5081303975725512), 5: np.float64(0.5509777224513084), 10: np.float64(0.5559614579512657)}\n",
            "Results on the dev set: {1: np.float64(0.5057142857142857), 5: np.float64(0.5522738095238094), 10: np.float64(0.557658163265306)}\n"
          ]
        }
      ],
      "source": [
        "results_train = get_performance_mrr(df_query_train, 'cord_uid', 'bm25_topk')\n",
        "results_dev = get_performance_mrr(df_query_dev, 'cord_uid', 'bm25_topk')\n",
        "# Printed MRR@k results in the following format: {k: MRR@k}\n",
        "print(f\"Results on the train set: {results_train}\")\n",
        "print(f\"Results on the dev set: {results_dev}\")"
      ]
    },
    {
      "cell_type": "markdown",
      "source": [
        "# 3.2) Evaluating expanded BM25 with MRR@5"
      ],
      "metadata": {
        "id": "6XX4sdUOJUrw"
      }
    },
    {
      "cell_type": "code",
      "source": [
        "results_train = get_performance_mrr(df_query_train, 'cord_uid', 'bm25_expanded_topk')\n",
        "results_dev = get_performance_mrr(df_query_dev, 'cord_uid', 'bm25_expanded_topk')\n",
        "# Printed MRR@k results in the following format: {k: MRR@k}\n",
        "print(f\"Expanded BM25: Results on the train set: {results_train}\")\n",
        "print(f\"Expanded BM25: Results on the dev set: {results_dev}\")"
      ],
      "metadata": {
        "colab": {
          "base_uri": "https://localhost:8080/"
        },
        "id": "e8efQDEDJfLb",
        "outputId": "400b9c7e-7eb0-4542-b1e3-8057c7a2c340"
      },
      "execution_count": 33,
      "outputs": [
        {
          "output_type": "stream",
          "name": "stdout",
          "text": [
            "Expanded BM25: Results on the train set: {1: 0.4654166342488135, 5: 0.5104865271402267, 10: 0.5160982118929679}\n",
            "Expanded BM25: Results on the dev set: {1: 0.4657142857142857, 5: 0.5149404761904761, 10: 0.5205538548752834}\n"
          ]
        }
      ]
    },
    {
      "cell_type": "markdown",
      "metadata": {
        "id": "RazcRTV84KQC"
      },
      "source": [
        "# 4) Exporting results to prepare the submission on Codalab"
      ]
    },
    {
      "cell_type": "code",
      "execution_count": null,
      "metadata": {
        "id": "DFng4ocDw3Hk"
      },
      "outputs": [],
      "source": [
        "df_query_dev['preds'] = df_query_dev['bm25_topk'].apply(lambda x: x[:5])"
      ]
    },
    {
      "cell_type": "code",
      "execution_count": null,
      "metadata": {
        "id": "nAVBQYh_xP8O"
      },
      "outputs": [],
      "source": [
        "df_query_dev[['post_id', 'preds']].to_csv('predictions.tsv', index=None, sep='\\t')"
      ]
    },
    {
      "cell_type": "markdown",
      "metadata": {
        "id": "lQICHhyMHYI1"
      },
      "source": [
        "# Results documentation:\n",
        "#### Baseline BM25:\n",
        "Results on the train set: {1: 0.5081303975725512, 5: 0.5509777224513084, 10: np.0.5559614579512657}\\\n",
        "Results on the dev set: {1: 0.5057142857142857, 5: 0.5522738095238094, 10: 0.557658163265306}\n",
        "#### Expanded BM25: (cleaned and enriched tweets)\n",
        "Results on the train set: {1: 0.4654166342488135, 5: 0.5104865271402267, 10: 0.5160982118929679}\\\n",
        "Results on the dev set: {1: 0.4657142857142857, 5: 0.5149404761904761, 10: 0.5205538548752834}\n"
      ]
    }
  ],
  "metadata": {
    "colab": {
      "provenance": []
    },
    "kernelspec": {
      "display_name": "bm25_env",
      "language": "python",
      "name": "python3"
    },
    "language_info": {
      "codemirror_mode": {
        "name": "ipython",
        "version": 3
      },
      "file_extension": ".py",
      "mimetype": "text/x-python",
      "name": "python",
      "nbconvert_exporter": "python",
      "pygments_lexer": "ipython3",
      "version": "3.8.20"
    }
  },
  "nbformat": 4,
  "nbformat_minor": 0
}