{
 "cells": [
  {
   "cell_type": "markdown",
   "metadata": {
    "id": "MfnQvGfvtH1w"
   },
   "source": [
    "# Getting started\n",
    "\n",
    "### CLEF 2025 - CheckThat! Lab  - Task 4 Scientific Web Discourse - Subtask 4b (Scientific Claim Source Retrieval)\n",
    "\n"
   ]
  },
  {
   "cell_type": "markdown",
   "metadata": {},
   "source": [
    "- **https://www.nltk.org/**\n",
    "- **https://spacy.io/docs**"
   ]
  },
  {
   "cell_type": "code",
   "metadata": {
    "ExecuteTime": {
     "end_time": "2025-04-16T19:05:05.851277Z",
     "start_time": "2025-04-16T19:05:04.828695Z"
    }
   },
   "source": "!pip install nltk spacy pandarallel ipywidgets rank_bm25",
   "outputs": [
    {
     "name": "stdout",
     "output_type": "stream",
     "text": [
      "Requirement already satisfied: nltk in ./venv/lib/python3.11/site-packages (3.9.1)\r\n",
      "Requirement already satisfied: spacy in ./venv/lib/python3.11/site-packages (3.7.5)\r\n",
      "Requirement already satisfied: pandarallel in ./venv/lib/python3.11/site-packages (1.6.5)\r\n",
      "Requirement already satisfied: ipywidgets in ./venv/lib/python3.11/site-packages (8.1.6)\r\n",
      "Requirement already satisfied: rank_bm25 in ./venv/lib/python3.11/site-packages (0.2.2)\r\n",
      "Requirement already satisfied: click in ./venv/lib/python3.11/site-packages (from nltk) (8.1.8)\r\n",
      "Requirement already satisfied: joblib in ./venv/lib/python3.11/site-packages (from nltk) (1.4.2)\r\n",
      "Requirement already satisfied: regex>=2021.8.3 in ./venv/lib/python3.11/site-packages (from nltk) (2024.11.6)\r\n",
      "Requirement already satisfied: tqdm in ./venv/lib/python3.11/site-packages (from nltk) (4.67.1)\r\n",
      "Requirement already satisfied: spacy-legacy<3.1.0,>=3.0.11 in ./venv/lib/python3.11/site-packages (from spacy) (3.0.12)\r\n",
      "Requirement already satisfied: spacy-loggers<2.0.0,>=1.0.0 in ./venv/lib/python3.11/site-packages (from spacy) (1.0.5)\r\n",
      "Requirement already satisfied: murmurhash<1.1.0,>=0.28.0 in ./venv/lib/python3.11/site-packages (from spacy) (1.0.12)\r\n",
      "Requirement already satisfied: cymem<2.1.0,>=2.0.2 in ./venv/lib/python3.11/site-packages (from spacy) (2.0.11)\r\n",
      "Requirement already satisfied: preshed<3.1.0,>=3.0.2 in ./venv/lib/python3.11/site-packages (from spacy) (3.0.9)\r\n",
      "Requirement already satisfied: thinc<8.3.0,>=8.2.2 in ./venv/lib/python3.11/site-packages (from spacy) (8.2.5)\r\n",
      "Requirement already satisfied: wasabi<1.2.0,>=0.9.1 in ./venv/lib/python3.11/site-packages (from spacy) (1.1.3)\r\n",
      "Requirement already satisfied: srsly<3.0.0,>=2.4.3 in ./venv/lib/python3.11/site-packages (from spacy) (2.5.1)\r\n",
      "Requirement already satisfied: catalogue<2.1.0,>=2.0.6 in ./venv/lib/python3.11/site-packages (from spacy) (2.0.10)\r\n",
      "Requirement already satisfied: weasel<0.5.0,>=0.1.0 in ./venv/lib/python3.11/site-packages (from spacy) (0.4.1)\r\n",
      "Requirement already satisfied: typer<1.0.0,>=0.3.0 in ./venv/lib/python3.11/site-packages (from spacy) (0.15.2)\r\n",
      "Requirement already satisfied: requests<3.0.0,>=2.13.0 in ./venv/lib/python3.11/site-packages (from spacy) (2.32.3)\r\n",
      "Requirement already satisfied: pydantic!=1.8,!=1.8.1,<3.0.0,>=1.7.4 in ./venv/lib/python3.11/site-packages (from spacy) (2.11.3)\r\n",
      "Requirement already satisfied: jinja2 in ./venv/lib/python3.11/site-packages (from spacy) (3.1.6)\r\n",
      "Requirement already satisfied: setuptools in ./venv/lib/python3.11/site-packages (from spacy) (75.6.0)\r\n",
      "Requirement already satisfied: packaging>=20.0 in ./venv/lib/python3.11/site-packages (from spacy) (24.2)\r\n",
      "Requirement already satisfied: langcodes<4.0.0,>=3.2.0 in ./venv/lib/python3.11/site-packages (from spacy) (3.5.0)\r\n",
      "Requirement already satisfied: numpy>=1.19.0 in ./venv/lib/python3.11/site-packages (from spacy) (1.26.4)\r\n",
      "Requirement already satisfied: dill>=0.3.1 in ./venv/lib/python3.11/site-packages (from pandarallel) (0.4.0)\r\n",
      "Requirement already satisfied: pandas>=1 in ./venv/lib/python3.11/site-packages (from pandarallel) (2.2.2)\r\n",
      "Requirement already satisfied: psutil in ./venv/lib/python3.11/site-packages (from pandarallel) (7.0.0)\r\n",
      "Requirement already satisfied: comm>=0.1.3 in ./venv/lib/python3.11/site-packages (from ipywidgets) (0.2.2)\r\n",
      "Requirement already satisfied: ipython>=6.1.0 in ./venv/lib/python3.11/site-packages (from ipywidgets) (9.1.0)\r\n",
      "Requirement already satisfied: traitlets>=4.3.1 in ./venv/lib/python3.11/site-packages (from ipywidgets) (5.14.3)\r\n",
      "Requirement already satisfied: widgetsnbextension~=4.0.14 in ./venv/lib/python3.11/site-packages (from ipywidgets) (4.0.14)\r\n",
      "Requirement already satisfied: jupyterlab_widgets~=3.0.14 in ./venv/lib/python3.11/site-packages (from ipywidgets) (3.0.14)\r\n",
      "Requirement already satisfied: decorator in ./venv/lib/python3.11/site-packages (from ipython>=6.1.0->ipywidgets) (5.2.1)\r\n",
      "Requirement already satisfied: ipython-pygments-lexers in ./venv/lib/python3.11/site-packages (from ipython>=6.1.0->ipywidgets) (1.1.1)\r\n",
      "Requirement already satisfied: jedi>=0.16 in ./venv/lib/python3.11/site-packages (from ipython>=6.1.0->ipywidgets) (0.19.2)\r\n",
      "Requirement already satisfied: matplotlib-inline in ./venv/lib/python3.11/site-packages (from ipython>=6.1.0->ipywidgets) (0.1.7)\r\n",
      "Requirement already satisfied: pexpect>4.3 in ./venv/lib/python3.11/site-packages (from ipython>=6.1.0->ipywidgets) (4.9.0)\r\n",
      "Requirement already satisfied: prompt_toolkit<3.1.0,>=3.0.41 in ./venv/lib/python3.11/site-packages (from ipython>=6.1.0->ipywidgets) (3.0.51)\r\n",
      "Requirement already satisfied: pygments>=2.4.0 in ./venv/lib/python3.11/site-packages (from ipython>=6.1.0->ipywidgets) (2.19.1)\r\n",
      "Requirement already satisfied: stack_data in ./venv/lib/python3.11/site-packages (from ipython>=6.1.0->ipywidgets) (0.6.3)\r\n",
      "Requirement already satisfied: typing_extensions>=4.6 in ./venv/lib/python3.11/site-packages (from ipython>=6.1.0->ipywidgets) (4.13.2)\r\n",
      "Requirement already satisfied: language-data>=1.2 in ./venv/lib/python3.11/site-packages (from langcodes<4.0.0,>=3.2.0->spacy) (1.3.0)\r\n",
      "Requirement already satisfied: python-dateutil>=2.8.2 in ./venv/lib/python3.11/site-packages (from pandas>=1->pandarallel) (2.9.0.post0)\r\n",
      "Requirement already satisfied: pytz>=2020.1 in ./venv/lib/python3.11/site-packages (from pandas>=1->pandarallel) (2025.2)\r\n",
      "Requirement already satisfied: tzdata>=2022.7 in ./venv/lib/python3.11/site-packages (from pandas>=1->pandarallel) (2025.2)\r\n",
      "Requirement already satisfied: annotated-types>=0.6.0 in ./venv/lib/python3.11/site-packages (from pydantic!=1.8,!=1.8.1,<3.0.0,>=1.7.4->spacy) (0.7.0)\r\n",
      "Requirement already satisfied: pydantic-core==2.33.1 in ./venv/lib/python3.11/site-packages (from pydantic!=1.8,!=1.8.1,<3.0.0,>=1.7.4->spacy) (2.33.1)\r\n",
      "Requirement already satisfied: typing-inspection>=0.4.0 in ./venv/lib/python3.11/site-packages (from pydantic!=1.8,!=1.8.1,<3.0.0,>=1.7.4->spacy) (0.4.0)\r\n",
      "Requirement already satisfied: charset-normalizer<4,>=2 in ./venv/lib/python3.11/site-packages (from requests<3.0.0,>=2.13.0->spacy) (3.4.1)\r\n",
      "Requirement already satisfied: idna<4,>=2.5 in ./venv/lib/python3.11/site-packages (from requests<3.0.0,>=2.13.0->spacy) (3.10)\r\n",
      "Requirement already satisfied: urllib3<3,>=1.21.1 in ./venv/lib/python3.11/site-packages (from requests<3.0.0,>=2.13.0->spacy) (2.4.0)\r\n",
      "Requirement already satisfied: certifi>=2017.4.17 in ./venv/lib/python3.11/site-packages (from requests<3.0.0,>=2.13.0->spacy) (2025.1.31)\r\n",
      "Requirement already satisfied: blis<0.8.0,>=0.7.8 in ./venv/lib/python3.11/site-packages (from thinc<8.3.0,>=8.2.2->spacy) (0.7.11)\r\n",
      "Requirement already satisfied: confection<1.0.0,>=0.0.1 in ./venv/lib/python3.11/site-packages (from thinc<8.3.0,>=8.2.2->spacy) (0.1.5)\r\n",
      "Requirement already satisfied: shellingham>=1.3.0 in ./venv/lib/python3.11/site-packages (from typer<1.0.0,>=0.3.0->spacy) (1.5.4)\r\n",
      "Requirement already satisfied: rich>=10.11.0 in ./venv/lib/python3.11/site-packages (from typer<1.0.0,>=0.3.0->spacy) (14.0.0)\r\n",
      "Requirement already satisfied: cloudpathlib<1.0.0,>=0.7.0 in ./venv/lib/python3.11/site-packages (from weasel<0.5.0,>=0.1.0->spacy) (0.21.0)\r\n",
      "Requirement already satisfied: smart-open<8.0.0,>=5.2.1 in ./venv/lib/python3.11/site-packages (from weasel<0.5.0,>=0.1.0->spacy) (7.1.0)\r\n",
      "Requirement already satisfied: MarkupSafe>=2.0 in ./venv/lib/python3.11/site-packages (from jinja2->spacy) (3.0.2)\r\n",
      "Requirement already satisfied: parso<0.9.0,>=0.8.4 in ./venv/lib/python3.11/site-packages (from jedi>=0.16->ipython>=6.1.0->ipywidgets) (0.8.4)\r\n",
      "Requirement already satisfied: marisa-trie>=1.1.0 in ./venv/lib/python3.11/site-packages (from language-data>=1.2->langcodes<4.0.0,>=3.2.0->spacy) (1.2.1)\r\n",
      "Requirement already satisfied: ptyprocess>=0.5 in ./venv/lib/python3.11/site-packages (from pexpect>4.3->ipython>=6.1.0->ipywidgets) (0.7.0)\r\n",
      "Requirement already satisfied: wcwidth in ./venv/lib/python3.11/site-packages (from prompt_toolkit<3.1.0,>=3.0.41->ipython>=6.1.0->ipywidgets) (0.2.13)\r\n",
      "Requirement already satisfied: six>=1.5 in ./venv/lib/python3.11/site-packages (from python-dateutil>=2.8.2->pandas>=1->pandarallel) (1.17.0)\r\n",
      "Requirement already satisfied: markdown-it-py>=2.2.0 in ./venv/lib/python3.11/site-packages (from rich>=10.11.0->typer<1.0.0,>=0.3.0->spacy) (3.0.0)\r\n",
      "Requirement already satisfied: wrapt in ./venv/lib/python3.11/site-packages (from smart-open<8.0.0,>=5.2.1->weasel<0.5.0,>=0.1.0->spacy) (1.17.2)\r\n",
      "Requirement already satisfied: executing>=1.2.0 in ./venv/lib/python3.11/site-packages (from stack_data->ipython>=6.1.0->ipywidgets) (2.2.0)\r\n",
      "Requirement already satisfied: asttokens>=2.1.0 in ./venv/lib/python3.11/site-packages (from stack_data->ipython>=6.1.0->ipywidgets) (3.0.0)\r\n",
      "Requirement already satisfied: pure-eval in ./venv/lib/python3.11/site-packages (from stack_data->ipython>=6.1.0->ipywidgets) (0.2.3)\r\n",
      "Requirement already satisfied: mdurl~=0.1 in ./venv/lib/python3.11/site-packages (from markdown-it-py>=2.2.0->rich>=10.11.0->typer<1.0.0,>=0.3.0->spacy) (0.1.2)\r\n",
      "\r\n",
      "\u001B[1m[\u001B[0m\u001B[34;49mnotice\u001B[0m\u001B[1;39;49m]\u001B[0m\u001B[39;49m A new release of pip is available: \u001B[0m\u001B[31;49m24.3.1\u001B[0m\u001B[39;49m -> \u001B[0m\u001B[32;49m25.0.1\u001B[0m\r\n",
      "\u001B[1m[\u001B[0m\u001B[34;49mnotice\u001B[0m\u001B[1;39;49m]\u001B[0m\u001B[39;49m To update, run: \u001B[0m\u001B[32;49mpip install --upgrade pip\u001B[0m\r\n"
     ]
    }
   ],
   "execution_count": 51
  },
  {
   "metadata": {},
   "cell_type": "code",
   "outputs": [],
   "execution_count": null,
   "source": "!python -m spacy download en_core_web_sm"
  },
  {
   "cell_type": "code",
   "metadata": {
    "executionInfo": {
     "elapsed": 403,
     "status": "ok",
     "timestamp": 1742975967136,
     "user": {
      "displayName": "Yavuz",
      "userId": "01318046262282431930"
     },
     "user_tz": -60
    },
    "id": "rQPqDKP_QHFM",
    "ExecuteTime": {
     "end_time": "2025-04-16T18:20:42.497322Z",
     "start_time": "2025-04-16T18:20:41.754443Z"
    }
   },
   "source": [
    "import numpy as np\n",
    "import pandas as pd"
   ],
   "outputs": [],
   "execution_count": 3
  },
  {
   "cell_type": "markdown",
   "metadata": {
    "id": "u8N7h9BhQI5m"
   },
   "source": [
    "## 1.a) Import the collection set\n",
    "The collection set contains metadata of CORD-19 academic papers.\n",
    "\n",
    "The preprocessed and filtered CORD-19 dataset is available on the Gitlab repository here: https://gitlab.com/checkthat_lab/clef2025-checkthat-lab/-/tree/main/task4/subtask_4b\n",
    "\n",
    "Participants should first download the file then upload it on the Google Colab session with the following steps.\n"
   ]
  },
  {
   "cell_type": "code",
   "metadata": {
    "executionInfo": {
     "elapsed": 7,
     "status": "ok",
     "timestamp": 1742975971100,
     "user": {
      "displayName": "Yavuz",
      "userId": "01318046262282431930"
     },
     "user_tz": -60
    },
    "id": "2GQI4HcKR6hS",
    "ExecuteTime": {
     "end_time": "2025-04-16T18:20:46.515040Z",
     "start_time": "2025-04-16T18:20:46.510327Z"
    }
   },
   "source": [
    "# 1) Download the collection set from the Gitlab repository: https://gitlab.com/checkthat_lab/clef2025-checkthat-lab/-/tree/main/task4/subtask_4b\n",
    "# 2) Drag and drop the downloaded file to the \"Files\" section (left vertical menu on Colab)\n",
    "# 3) Modify the path to your local file path\n",
    "PATH_COLLECTION_DATA = 'subtask_4b/subtask4b_collection_data.pkl' "
   ],
   "outputs": [],
   "execution_count": 4
  },
  {
   "cell_type": "code",
   "metadata": {
    "executionInfo": {
     "elapsed": 42,
     "status": "ok",
     "timestamp": 1742975975524,
     "user": {
      "displayName": "Yavuz",
      "userId": "01318046262282431930"
     },
     "user_tz": -60
    },
    "id": "SYBB3UYbMwTA",
    "ExecuteTime": {
     "end_time": "2025-04-16T18:20:48.028988Z",
     "start_time": "2025-04-16T18:20:47.989475Z"
    }
   },
   "source": [
    "df_collection = pd.read_pickle(PATH_COLLECTION_DATA)"
   ],
   "outputs": [],
   "execution_count": 5
  },
  {
   "cell_type": "markdown",
   "metadata": {},
   "source": [
    "### Dataframe Information (`df_collection.info()`):\n",
    "\n",
    "The dataframe `df_collection` contains **7,718 entries** (rows) and **17 columns**. This is the metadata for **7,718 papers** in the CORD-19 dataset.\n"
   ]
  },
  {
   "cell_type": "code",
   "metadata": {
    "colab": {
     "base_uri": "https://localhost:8080/"
    },
    "executionInfo": {
     "elapsed": 37,
     "status": "ok",
     "timestamp": 1742975976305,
     "user": {
      "displayName": "Yavuz",
      "userId": "01318046262282431930"
     },
     "user_tz": -60
    },
    "id": "4v3lygNOQQSn",
    "outputId": "ee5b9abd-f889-4a4e-ce11-32d2691433cb",
    "ExecuteTime": {
     "end_time": "2025-04-16T18:20:50.468170Z",
     "start_time": "2025-04-16T18:20:50.451741Z"
    }
   },
   "source": [
    "df_collection.info()"
   ],
   "outputs": [
    {
     "name": "stdout",
     "output_type": "stream",
     "text": [
      "<class 'pandas.core.frame.DataFrame'>\n",
      "Index: 7718 entries, 162 to 1056448\n",
      "Data columns (total 17 columns):\n",
      " #   Column            Non-Null Count  Dtype         \n",
      "---  ------            --------------  -----         \n",
      " 0   cord_uid          7718 non-null   object        \n",
      " 1   source_x          7718 non-null   object        \n",
      " 2   title             7718 non-null   object        \n",
      " 3   doi               7677 non-null   object        \n",
      " 4   pmcid             4959 non-null   object        \n",
      " 5   pubmed_id         6233 non-null   object        \n",
      " 6   license           7718 non-null   object        \n",
      " 7   abstract          7718 non-null   object        \n",
      " 8   publish_time      7715 non-null   object        \n",
      " 9   authors           7674 non-null   object        \n",
      " 10  journal           6668 non-null   object        \n",
      " 11  mag_id            0 non-null      float64       \n",
      " 12  who_covidence_id  528 non-null    object        \n",
      " 13  arxiv_id          20 non-null     object        \n",
      " 14  label             7718 non-null   object        \n",
      " 15  time              7715 non-null   datetime64[ns]\n",
      " 16  timet             7718 non-null   int64         \n",
      "dtypes: datetime64[ns](1), float64(1), int64(1), object(14)\n",
      "memory usage: 1.1+ MB\n"
     ]
    }
   ],
   "execution_count": 6
  },
  {
   "cell_type": "code",
   "metadata": {
    "colab": {
     "base_uri": "https://localhost:8080/",
     "height": 608
    },
    "executionInfo": {
     "elapsed": 211,
     "status": "ok",
     "timestamp": 1742975978238,
     "user": {
      "displayName": "Yavuz",
      "userId": "01318046262282431930"
     },
     "user_tz": -60
    },
    "id": "9veNFFGDZRx7",
    "outputId": "5eec7f85-7d20-44d7-8986-a85cb00533d8",
    "ExecuteTime": {
     "end_time": "2025-04-16T18:20:52.828817Z",
     "start_time": "2025-04-16T18:20:52.816659Z"
    }
   },
   "source": [
    "df_collection.head()"
   ],
   "outputs": [
    {
     "data": {
      "text/plain": [
       "      cord_uid source_x                                              title  \\\n",
       "162   umvrwgaw      PMC  Professional and Home-Made Face Masks Reduce E...   \n",
       "611   spiud6ok      PMC                               The Failure of R (0)   \n",
       "918   aclzp3iy      PMC  Pulmonary sequelae in a patient recovered from...   \n",
       "993   ycxyn2a2      PMC  What was the primary mode of smallpox transmis...   \n",
       "1053  zxe95qy9      PMC  Lessons from the History of Quarantine, from P...   \n",
       "\n",
       "                               doi       pmcid pubmed_id      license  \\\n",
       "162   10.1371/journal.pone.0002618  PMC2440799  18612429        cc-by   \n",
       "611            10.1155/2011/527610  PMC3157160  21860658        cc-by   \n",
       "918        10.4103/0970-2113.99118  PMC3424870  22919170  cc-by-nc-sa   \n",
       "993       10.3389/fcimb.2012.00150  PMC3509329  23226686        cc-by   \n",
       "1053        10.3201/eid1902.120312  PMC3559034  23343512        no-cc   \n",
       "\n",
       "                                               abstract publish_time  \\\n",
       "162   BACKGROUND: Governments are preparing for a po...   2008-07-09   \n",
       "611   The basic reproductive ratio, R (0), is one of...   2011-08-16   \n",
       "918   The pandemic of swine flu (H1N1) influenza spr...         2012   \n",
       "993   The mode of infection transmission has profoun...   2012-11-29   \n",
       "1053  In the new millennium, the centuries-old strat...   2013-02-03   \n",
       "\n",
       "                                                authors  \\\n",
       "162   van der Sande, Marianne; Teunis, Peter; Sabel,...   \n",
       "611       Li, Jing; Blakeley, Daniel; Smith?, Robert J.   \n",
       "918   Singh, Virendra; Sharma, Bharat Bhushan; Patel...   \n",
       "993                                   Milton, Donald K.   \n",
       "1053                                  Tognotti, Eugenia   \n",
       "\n",
       "                          journal  mag_id who_covidence_id arxiv_id     label  \\\n",
       "162                      PLoS One     NaN              NaN      NaN  umvrwgaw   \n",
       "611       Comput Math Methods Med     NaN              NaN      NaN  spiud6ok   \n",
       "918                    Lung India     NaN              NaN      NaN  aclzp3iy   \n",
       "993   Front Cell Infect Microbiol     NaN              NaN      NaN  ycxyn2a2   \n",
       "1053             Emerg Infect Dis     NaN              NaN      NaN  zxe95qy9   \n",
       "\n",
       "           time       timet  \n",
       "162  2008-07-09  1215561600  \n",
       "611  2011-08-16  1313452800  \n",
       "918  2012-01-01  1325376000  \n",
       "993  2012-11-29  1354147200  \n",
       "1053 2013-02-03  1359849600  "
      ],
      "text/html": [
       "<div>\n",
       "<style scoped>\n",
       "    .dataframe tbody tr th:only-of-type {\n",
       "        vertical-align: middle;\n",
       "    }\n",
       "\n",
       "    .dataframe tbody tr th {\n",
       "        vertical-align: top;\n",
       "    }\n",
       "\n",
       "    .dataframe thead th {\n",
       "        text-align: right;\n",
       "    }\n",
       "</style>\n",
       "<table border=\"1\" class=\"dataframe\">\n",
       "  <thead>\n",
       "    <tr style=\"text-align: right;\">\n",
       "      <th></th>\n",
       "      <th>cord_uid</th>\n",
       "      <th>source_x</th>\n",
       "      <th>title</th>\n",
       "      <th>doi</th>\n",
       "      <th>pmcid</th>\n",
       "      <th>pubmed_id</th>\n",
       "      <th>license</th>\n",
       "      <th>abstract</th>\n",
       "      <th>publish_time</th>\n",
       "      <th>authors</th>\n",
       "      <th>journal</th>\n",
       "      <th>mag_id</th>\n",
       "      <th>who_covidence_id</th>\n",
       "      <th>arxiv_id</th>\n",
       "      <th>label</th>\n",
       "      <th>time</th>\n",
       "      <th>timet</th>\n",
       "    </tr>\n",
       "  </thead>\n",
       "  <tbody>\n",
       "    <tr>\n",
       "      <th>162</th>\n",
       "      <td>umvrwgaw</td>\n",
       "      <td>PMC</td>\n",
       "      <td>Professional and Home-Made Face Masks Reduce E...</td>\n",
       "      <td>10.1371/journal.pone.0002618</td>\n",
       "      <td>PMC2440799</td>\n",
       "      <td>18612429</td>\n",
       "      <td>cc-by</td>\n",
       "      <td>BACKGROUND: Governments are preparing for a po...</td>\n",
       "      <td>2008-07-09</td>\n",
       "      <td>van der Sande, Marianne; Teunis, Peter; Sabel,...</td>\n",
       "      <td>PLoS One</td>\n",
       "      <td>NaN</td>\n",
       "      <td>NaN</td>\n",
       "      <td>NaN</td>\n",
       "      <td>umvrwgaw</td>\n",
       "      <td>2008-07-09</td>\n",
       "      <td>1215561600</td>\n",
       "    </tr>\n",
       "    <tr>\n",
       "      <th>611</th>\n",
       "      <td>spiud6ok</td>\n",
       "      <td>PMC</td>\n",
       "      <td>The Failure of R (0)</td>\n",
       "      <td>10.1155/2011/527610</td>\n",
       "      <td>PMC3157160</td>\n",
       "      <td>21860658</td>\n",
       "      <td>cc-by</td>\n",
       "      <td>The basic reproductive ratio, R (0), is one of...</td>\n",
       "      <td>2011-08-16</td>\n",
       "      <td>Li, Jing; Blakeley, Daniel; Smith?, Robert J.</td>\n",
       "      <td>Comput Math Methods Med</td>\n",
       "      <td>NaN</td>\n",
       "      <td>NaN</td>\n",
       "      <td>NaN</td>\n",
       "      <td>spiud6ok</td>\n",
       "      <td>2011-08-16</td>\n",
       "      <td>1313452800</td>\n",
       "    </tr>\n",
       "    <tr>\n",
       "      <th>918</th>\n",
       "      <td>aclzp3iy</td>\n",
       "      <td>PMC</td>\n",
       "      <td>Pulmonary sequelae in a patient recovered from...</td>\n",
       "      <td>10.4103/0970-2113.99118</td>\n",
       "      <td>PMC3424870</td>\n",
       "      <td>22919170</td>\n",
       "      <td>cc-by-nc-sa</td>\n",
       "      <td>The pandemic of swine flu (H1N1) influenza spr...</td>\n",
       "      <td>2012</td>\n",
       "      <td>Singh, Virendra; Sharma, Bharat Bhushan; Patel...</td>\n",
       "      <td>Lung India</td>\n",
       "      <td>NaN</td>\n",
       "      <td>NaN</td>\n",
       "      <td>NaN</td>\n",
       "      <td>aclzp3iy</td>\n",
       "      <td>2012-01-01</td>\n",
       "      <td>1325376000</td>\n",
       "    </tr>\n",
       "    <tr>\n",
       "      <th>993</th>\n",
       "      <td>ycxyn2a2</td>\n",
       "      <td>PMC</td>\n",
       "      <td>What was the primary mode of smallpox transmis...</td>\n",
       "      <td>10.3389/fcimb.2012.00150</td>\n",
       "      <td>PMC3509329</td>\n",
       "      <td>23226686</td>\n",
       "      <td>cc-by</td>\n",
       "      <td>The mode of infection transmission has profoun...</td>\n",
       "      <td>2012-11-29</td>\n",
       "      <td>Milton, Donald K.</td>\n",
       "      <td>Front Cell Infect Microbiol</td>\n",
       "      <td>NaN</td>\n",
       "      <td>NaN</td>\n",
       "      <td>NaN</td>\n",
       "      <td>ycxyn2a2</td>\n",
       "      <td>2012-11-29</td>\n",
       "      <td>1354147200</td>\n",
       "    </tr>\n",
       "    <tr>\n",
       "      <th>1053</th>\n",
       "      <td>zxe95qy9</td>\n",
       "      <td>PMC</td>\n",
       "      <td>Lessons from the History of Quarantine, from P...</td>\n",
       "      <td>10.3201/eid1902.120312</td>\n",
       "      <td>PMC3559034</td>\n",
       "      <td>23343512</td>\n",
       "      <td>no-cc</td>\n",
       "      <td>In the new millennium, the centuries-old strat...</td>\n",
       "      <td>2013-02-03</td>\n",
       "      <td>Tognotti, Eugenia</td>\n",
       "      <td>Emerg Infect Dis</td>\n",
       "      <td>NaN</td>\n",
       "      <td>NaN</td>\n",
       "      <td>NaN</td>\n",
       "      <td>zxe95qy9</td>\n",
       "      <td>2013-02-03</td>\n",
       "      <td>1359849600</td>\n",
       "    </tr>\n",
       "  </tbody>\n",
       "</table>\n",
       "</div>"
      ]
     },
     "execution_count": 7,
     "metadata": {},
     "output_type": "execute_result"
    }
   ],
   "execution_count": 7
  },
  {
   "cell_type": "markdown",
   "metadata": {},
   "source": [
    "In this process, I performed several text preprocessing steps on the title and abstract columns of the dataset df_collection** First, I removed any URLs using a regular expression. I then removed punctuation and digits, converted the text to lowercase, and eliminated common stopwords, except for those found in the important_terms list, which includes relevant medical terms like disease names . To further lemmatization the text, I applied stemming to all words, except for those in the important_terms list. Additionally, I used the **spaCy** library to extract named entities from both the title and abstract columns. I also cleaned up extra spaces by reducing multiple spaces to a single one . As a result of these preprocessing steps, I created new columns for the cleaned title** and abstract, as well as for the extracted entities from both columns."
   ]
  },
  {
   "cell_type": "code",
   "metadata": {
    "ExecuteTime": {
     "end_time": "2025-04-16T20:44:58.916599Z",
     "start_time": "2025-04-16T20:44:58.177235Z"
    }
   },
   "source": [
    "import re\n",
    "import string\n",
    "import html\n",
    "from nltk.corpus import stopwords\n",
    "from nltk.stem import PorterStemmer\n",
    "import spacy\n",
    "from pandarallel import pandarallel\n",
    "pandarallel.initialize(progress_bar=True)\n",
    "\n",
    "stop_words = set(stopwords.words('english'))\n",
    "stemmer = PorterStemmer()\n",
    "nlp = spacy.load(\"en_core_web_md\")\n",
    "\n",
    "\n",
    "important_terms = {\n",
    "    'covid', 'covid-19', 'hiv', 'rna', 'sars', 'r0', 'h1n1', 'who', 'cdc', \n",
    "    'micro', 'kg', 'm/s', 'flu', 'cancer', 'aids', 'diabetes', 'malaria', \n",
    "    'tuberculosis', 'hepatitis', 'pneumonia', 'leprosy', 'arthritis', 'asthma', \n",
    "    'hypertension', 'obesity', 'influenza', 'hiv', 'hepatitis-b', 'coronavirus', \n",
    "    'outbreak', 'pandemic', 'endemic', 'vaccine', 'antiviral', 'antibiotic', \n",
    "    'surgical', 'gene', 'genome', 'mutation', 'pathogen'\n",
    "}\n",
    "\n",
    "def preprocess_text(text, terms_extractor=nlp):\n",
    "    \n",
    "    text = re.sub(r'http\\S+|www\\S+', '', text)\n",
    "\n",
    "    text = html.unescape(text)\n",
    "\n",
    "    text = text.lower()\n",
    "     \n",
    "    text = ' '.join([word if word in important_terms else re.sub(r'\\d+', '', word) for word in text.split()])\n",
    "     \n",
    "    text = re.sub(r'\\s+', ' ', text).strip()\n",
    "\n",
    "    text = text.translate(str.maketrans('', '', string.punctuation))\n",
    "\n",
    "    text = ' '.join([word for word in text.split() if word not in stop_words or word in important_terms])\n",
    "    \n",
    "    text = ' '.join([stemmer.stem(word) if word not in important_terms else word for word in text.split()])\n",
    "    \n",
    "    doc = terms_extractor(text)\n",
    "    entities = ' '.join(ent.text for ent in doc.ents)\n",
    "\n",
    "    return text, entities"
   ],
   "outputs": [
    {
     "name": "stdout",
     "output_type": "stream",
     "text": [
      "INFO: Pandarallel will run on 8 workers.\n",
      "INFO: Pandarallel will use standard multiprocessing data transfer (pipe) to transfer data between the main process and workers.\n"
     ]
    }
   ],
   "execution_count": 84
  },
  {
   "metadata": {
    "ExecuteTime": {
     "end_time": "2025-04-16T20:46:04.045144Z",
     "start_time": "2025-04-16T20:44:59.836195Z"
    }
   },
   "cell_type": "code",
   "source": [
    "df_collection['cleaned_title'], df_collection['entities_in_title'] = zip(*df_collection['title'].parallel_apply(preprocess_text))\n",
    "df_collection['cleaned_abstract'], df_collection['entities_in_abstract'] = zip(*df_collection['abstract'].parallel_apply(preprocess_text))\n",
    "\n",
    "filtered_df = df_collection[['title', 'cleaned_title', 'entities_in_title', 'abstract', 'cleaned_abstract', 'entities_in_abstract']]\n",
    "filtered_df.head(10)"
   ],
   "outputs": [
    {
     "name": "stderr",
     "output_type": "stream",
     "text": [
      "Python(97851) MallocStackLogging: can't turn off malloc stack logging because it was not enabled.\n"
     ]
    },
    {
     "data": {
      "text/plain": [
       "VBox(children=(HBox(children=(IntProgress(value=0, description='0.00%', max=965), Label(value='0 / 965'))), HB…"
      ],
      "application/vnd.jupyter.widget-view+json": {
       "version_major": 2,
       "version_minor": 0,
       "model_id": "cecaa3b64bb34570a893b103a9e223ef"
      }
     },
     "metadata": {},
     "output_type": "display_data"
    },
    {
     "name": "stderr",
     "output_type": "stream",
     "text": [
      "Python(97852) MallocStackLogging: can't turn off malloc stack logging because it was not enabled.\n",
      "Python(97853) MallocStackLogging: can't turn off malloc stack logging because it was not enabled.\n",
      "Python(97854) MallocStackLogging: can't turn off malloc stack logging because it was not enabled.\n",
      "Python(97855) MallocStackLogging: can't turn off malloc stack logging because it was not enabled.\n",
      "Python(97856) MallocStackLogging: can't turn off malloc stack logging because it was not enabled.\n",
      "Python(97857) MallocStackLogging: can't turn off malloc stack logging because it was not enabled.\n",
      "Python(97858) MallocStackLogging: can't turn off malloc stack logging because it was not enabled.\n",
      "Python(97859) MallocStackLogging: can't turn off malloc stack logging because it was not enabled.\n",
      "Python(97867) MallocStackLogging: can't turn off malloc stack logging because it was not enabled.\n"
     ]
    },
    {
     "data": {
      "text/plain": [
       "VBox(children=(HBox(children=(IntProgress(value=0, description='0.00%', max=965), Label(value='0 / 965'))), HB…"
      ],
      "application/vnd.jupyter.widget-view+json": {
       "version_major": 2,
       "version_minor": 0,
       "model_id": "a0f4a60cab9e4f77967d09d985e43ff7"
      }
     },
     "metadata": {},
     "output_type": "display_data"
    },
    {
     "name": "stderr",
     "output_type": "stream",
     "text": [
      "Python(97868) MallocStackLogging: can't turn off malloc stack logging because it was not enabled.\n",
      "Python(97869) MallocStackLogging: can't turn off malloc stack logging because it was not enabled.\n",
      "Python(97870) MallocStackLogging: can't turn off malloc stack logging because it was not enabled.\n",
      "Python(97871) MallocStackLogging: can't turn off malloc stack logging because it was not enabled.\n",
      "Python(97872) MallocStackLogging: can't turn off malloc stack logging because it was not enabled.\n",
      "Python(97873) MallocStackLogging: can't turn off malloc stack logging because it was not enabled.\n",
      "Python(97874) MallocStackLogging: can't turn off malloc stack logging because it was not enabled.\n",
      "Python(97875) MallocStackLogging: can't turn off malloc stack logging because it was not enabled.\n"
     ]
    },
    {
     "data": {
      "text/plain": [
       "                                                  title  \\\n",
       "162   Professional and Home-Made Face Masks Reduce E...   \n",
       "611                                The Failure of R (0)   \n",
       "918   Pulmonary sequelae in a patient recovered from...   \n",
       "993   What was the primary mode of smallpox transmis...   \n",
       "1053  Lessons from the History of Quarantine, from P...   \n",
       "1589  Anxiety and Depression: Linkages with Viral Di...   \n",
       "2069  Effects of Ultraviolet Germicidal Irradiation ...   \n",
       "2843  Secretome of Intestinal Bacilli: A Natural Gua...   \n",
       "2952  Long term outcomes in survivors of epidemic In...   \n",
       "3044  Far-UVC light: A new tool to control the sprea...   \n",
       "\n",
       "                                          cleaned_title  \\\n",
       "162   profession homemad face mask reduc exposur res...   \n",
       "611                                            failur r   \n",
       "918           pulmonari sequela patient recov swine flu   \n",
       "993    primari mode smallpox transmiss implic biodefens   \n",
       "1053           lesson histori quarantin plagu influenza   \n",
       "1589                anxieti depress linkag viral diseas   \n",
       "2069  effect ultraviolet germicid irradi uvgi n resp...   \n",
       "2843     secretom intestin bacilli natur guard patholog   \n",
       "2952  long term outcom survivor epidem influenza hn ...   \n",
       "3044  faruvc light new tool control spread airbornem...   \n",
       "\n",
       "                                      entities_in_title  \\\n",
       "162   profession homemad mask reduc exposur gener popul   \n",
       "611                                            failur r   \n",
       "918                                   pulmonari sequela   \n",
       "993                            primari implic biodefens   \n",
       "1053                           lesson histori quarantin   \n",
       "1589                      anxieti depress linkag diseas   \n",
       "2069                                     respir filtrat   \n",
       "2843                          secretom intestin bacilli   \n",
       "2952                         outcom epidem influenza hn   \n",
       "3044                                     microbi diseas   \n",
       "\n",
       "                                               abstract  \\\n",
       "162   BACKGROUND: Governments are preparing for a po...   \n",
       "611   The basic reproductive ratio, R (0), is one of...   \n",
       "918   The pandemic of swine flu (H1N1) influenza spr...   \n",
       "993   The mode of infection transmission has profoun...   \n",
       "1053  In the new millennium, the centuries-old strat...   \n",
       "1589  Anxiety and mood disorders are common in the g...   \n",
       "2069  The ability to disinfect and reuse disposable ...   \n",
       "2843  Current studies of human gut microbiome usuall...   \n",
       "2952  Patients who survive influenza A (H7N9) virus ...   \n",
       "3044  Airborne-mediated microbial diseases such as i...   \n",
       "\n",
       "                                       cleaned_abstract  \\\n",
       "162   background govern prepar potenti influenza pan...   \n",
       "611   basic reproduct ratio r one fundament concept ...   \n",
       "918   pandemic swine flu hn influenza spread involv ...   \n",
       "993   mode infect transmiss profound implic effect c...   \n",
       "1053  new millennium centuriesold strategi quarantin...   \n",
       "1589  anxieti mood disord common gener popul countri...   \n",
       "2069  abil disinfect reus dispos n filter facepiec r...   \n",
       "2843  current studi human gut microbiom usual consid...   \n",
       "2952  patient who surviv influenza hn viru infect ri...   \n",
       "3044  airbornemedi microbi diseas influenza tubercul...   \n",
       "\n",
       "                                   entities_in_abstract  \n",
       "162   potenti possibl gener popul routin circumst me...  \n",
       "611   reproduct ratio one mathemat biolog threshold ...  \n",
       "918   involv diseas groundglass opac highresolut com...  \n",
       "993   transmiss gener primari second resolv review e...  \n",
       "1053  quarantin becom infecti diseas quarantin borde...  \n",
       "1589  anxieti mood disord common gener popul literat...  \n",
       "2069  abil disinfect reus dispos n facepiec respir i...  \n",
       "2843  substanc two repres bacillu lactobacillu colon...  \n",
       "2952  psycholog complic lung injuri multiorgan dysfu...  \n",
       "3044  airbornemedi microbi diseas tuberculosis repre...  "
      ],
      "text/html": [
       "<div>\n",
       "<style scoped>\n",
       "    .dataframe tbody tr th:only-of-type {\n",
       "        vertical-align: middle;\n",
       "    }\n",
       "\n",
       "    .dataframe tbody tr th {\n",
       "        vertical-align: top;\n",
       "    }\n",
       "\n",
       "    .dataframe thead th {\n",
       "        text-align: right;\n",
       "    }\n",
       "</style>\n",
       "<table border=\"1\" class=\"dataframe\">\n",
       "  <thead>\n",
       "    <tr style=\"text-align: right;\">\n",
       "      <th></th>\n",
       "      <th>title</th>\n",
       "      <th>cleaned_title</th>\n",
       "      <th>entities_in_title</th>\n",
       "      <th>abstract</th>\n",
       "      <th>cleaned_abstract</th>\n",
       "      <th>entities_in_abstract</th>\n",
       "    </tr>\n",
       "  </thead>\n",
       "  <tbody>\n",
       "    <tr>\n",
       "      <th>162</th>\n",
       "      <td>Professional and Home-Made Face Masks Reduce E...</td>\n",
       "      <td>profession homemad face mask reduc exposur res...</td>\n",
       "      <td>profession homemad mask reduc exposur gener popul</td>\n",
       "      <td>BACKGROUND: Governments are preparing for a po...</td>\n",
       "      <td>background govern prepar potenti influenza pan...</td>\n",
       "      <td>potenti possibl gener popul routin circumst me...</td>\n",
       "    </tr>\n",
       "    <tr>\n",
       "      <th>611</th>\n",
       "      <td>The Failure of R (0)</td>\n",
       "      <td>failur r</td>\n",
       "      <td>failur r</td>\n",
       "      <td>The basic reproductive ratio, R (0), is one of...</td>\n",
       "      <td>basic reproduct ratio r one fundament concept ...</td>\n",
       "      <td>reproduct ratio one mathemat biolog threshold ...</td>\n",
       "    </tr>\n",
       "    <tr>\n",
       "      <th>918</th>\n",
       "      <td>Pulmonary sequelae in a patient recovered from...</td>\n",
       "      <td>pulmonari sequela patient recov swine flu</td>\n",
       "      <td>pulmonari sequela</td>\n",
       "      <td>The pandemic of swine flu (H1N1) influenza spr...</td>\n",
       "      <td>pandemic swine flu hn influenza spread involv ...</td>\n",
       "      <td>involv diseas groundglass opac highresolut com...</td>\n",
       "    </tr>\n",
       "    <tr>\n",
       "      <th>993</th>\n",
       "      <td>What was the primary mode of smallpox transmis...</td>\n",
       "      <td>primari mode smallpox transmiss implic biodefens</td>\n",
       "      <td>primari implic biodefens</td>\n",
       "      <td>The mode of infection transmission has profoun...</td>\n",
       "      <td>mode infect transmiss profound implic effect c...</td>\n",
       "      <td>transmiss gener primari second resolv review e...</td>\n",
       "    </tr>\n",
       "    <tr>\n",
       "      <th>1053</th>\n",
       "      <td>Lessons from the History of Quarantine, from P...</td>\n",
       "      <td>lesson histori quarantin plagu influenza</td>\n",
       "      <td>lesson histori quarantin</td>\n",
       "      <td>In the new millennium, the centuries-old strat...</td>\n",
       "      <td>new millennium centuriesold strategi quarantin...</td>\n",
       "      <td>quarantin becom infecti diseas quarantin borde...</td>\n",
       "    </tr>\n",
       "    <tr>\n",
       "      <th>1589</th>\n",
       "      <td>Anxiety and Depression: Linkages with Viral Di...</td>\n",
       "      <td>anxieti depress linkag viral diseas</td>\n",
       "      <td>anxieti depress linkag diseas</td>\n",
       "      <td>Anxiety and mood disorders are common in the g...</td>\n",
       "      <td>anxieti mood disord common gener popul countri...</td>\n",
       "      <td>anxieti mood disord common gener popul literat...</td>\n",
       "    </tr>\n",
       "    <tr>\n",
       "      <th>2069</th>\n",
       "      <td>Effects of Ultraviolet Germicidal Irradiation ...</td>\n",
       "      <td>effect ultraviolet germicid irradi uvgi n resp...</td>\n",
       "      <td>respir filtrat</td>\n",
       "      <td>The ability to disinfect and reuse disposable ...</td>\n",
       "      <td>abil disinfect reus dispos n filter facepiec r...</td>\n",
       "      <td>abil disinfect reus dispos n facepiec respir i...</td>\n",
       "    </tr>\n",
       "    <tr>\n",
       "      <th>2843</th>\n",
       "      <td>Secretome of Intestinal Bacilli: A Natural Gua...</td>\n",
       "      <td>secretom intestin bacilli natur guard patholog</td>\n",
       "      <td>secretom intestin bacilli</td>\n",
       "      <td>Current studies of human gut microbiome usuall...</td>\n",
       "      <td>current studi human gut microbiom usual consid...</td>\n",
       "      <td>substanc two repres bacillu lactobacillu colon...</td>\n",
       "    </tr>\n",
       "    <tr>\n",
       "      <th>2952</th>\n",
       "      <td>Long term outcomes in survivors of epidemic In...</td>\n",
       "      <td>long term outcom survivor epidem influenza hn ...</td>\n",
       "      <td>outcom epidem influenza hn</td>\n",
       "      <td>Patients who survive influenza A (H7N9) virus ...</td>\n",
       "      <td>patient who surviv influenza hn viru infect ri...</td>\n",
       "      <td>psycholog complic lung injuri multiorgan dysfu...</td>\n",
       "    </tr>\n",
       "    <tr>\n",
       "      <th>3044</th>\n",
       "      <td>Far-UVC light: A new tool to control the sprea...</td>\n",
       "      <td>faruvc light new tool control spread airbornem...</td>\n",
       "      <td>microbi diseas</td>\n",
       "      <td>Airborne-mediated microbial diseases such as i...</td>\n",
       "      <td>airbornemedi microbi diseas influenza tubercul...</td>\n",
       "      <td>airbornemedi microbi diseas tuberculosis repre...</td>\n",
       "    </tr>\n",
       "  </tbody>\n",
       "</table>\n",
       "</div>"
      ]
     },
     "execution_count": 85,
     "metadata": {},
     "output_type": "execute_result"
    }
   ],
   "execution_count": 85
  },
  {
   "cell_type": "markdown",
   "metadata": {
    "id": "AAUiDU0xXLBt"
   },
   "source": [
    "## 1.b) Import the query set\n",
    "\n",
    "The query set contains tweets with implicit references to academic papers from the collection set.\n",
    "\n",
    "The preprocessed query set is available on the Gitlab repository here: https://gitlab.com/checkthat_lab/clef2025-checkthat-lab/-/tree/main/task4/subtask_4b\n",
    "\n",
    "Participants should first download the file then upload it on the Google Colab session with the following steps."
   ]
  },
  {
   "cell_type": "code",
   "metadata": {
    "executionInfo": {
     "elapsed": 11,
     "status": "ok",
     "timestamp": 1742975982410,
     "user": {
      "displayName": "Yavuz",
      "userId": "01318046262282431930"
     },
     "user_tz": -60
    },
    "id": "v8gwkZDSXPsd",
    "ExecuteTime": {
     "end_time": "2025-04-16T20:46:32.474140Z",
     "start_time": "2025-04-16T20:46:32.471366Z"
    }
   },
   "source": [
    "PATH_QUERY_TRAIN_DATA = 'subtask_4b/subtask4b_query_tweets_train.tsv'\n",
    "PATH_QUERY_DEV_DATA = 'subtask_4b/subtask4b_query_tweets_dev.tsv' "
   ],
   "outputs": [],
   "execution_count": 86
  },
  {
   "cell_type": "code",
   "metadata": {
    "executionInfo": {
     "elapsed": 17,
     "status": "ok",
     "timestamp": 1742976006985,
     "user": {
      "displayName": "Yavuz",
      "userId": "01318046262282431930"
     },
     "user_tz": -60
    },
    "id": "VqxjYq2tYDmE",
    "ExecuteTime": {
     "end_time": "2025-04-16T20:46:33.341031Z",
     "start_time": "2025-04-16T20:46:33.238867Z"
    }
   },
   "source": [
    "df_query_train = pd.read_csv(PATH_QUERY_TRAIN_DATA, sep = '\\t')\n",
    "df_query_dev = pd.read_csv(PATH_QUERY_DEV_DATA, sep = '\\t')"
   ],
   "outputs": [],
   "execution_count": 87
  },
  {
   "cell_type": "code",
   "metadata": {
    "ExecuteTime": {
     "end_time": "2025-04-16T20:47:04.198430Z",
     "start_time": "2025-04-16T20:46:35.503967Z"
    }
   },
   "source": [
    "df_query_train['cleaned_tweet_text'], df_query_train['entities_in_tweet_text_train'] = zip(*df_query_train['tweet_text'].parallel_apply(preprocess_text))\n",
    "df_query_train['cleaned_tweet_text'] = df_query_train['cleaned_tweet_text'].fillna('').astype(str)\n",
    "\n",
    "df_query_dev['cleaned_tweet_text'], df_query_dev['entities_in_tweet_text_dev'] = zip(*df_query_dev['tweet_text'].parallel_apply(preprocess_text))\n",
    "df_query_dev['cleaned_tweet_text'] = df_query_dev['cleaned_tweet_text'].fillna('').astype(str)\n"
   ],
   "outputs": [
    {
     "name": "stderr",
     "output_type": "stream",
     "text": [
      "Python(97932) MallocStackLogging: can't turn off malloc stack logging because it was not enabled.\n"
     ]
    },
    {
     "data": {
      "text/plain": [
       "VBox(children=(HBox(children=(IntProgress(value=0, description='0.00%', max=1607), Label(value='0 / 1607'))), …"
      ],
      "application/vnd.jupyter.widget-view+json": {
       "version_major": 2,
       "version_minor": 0,
       "model_id": "0b50462826964ce6820212d6dc079f09"
      }
     },
     "metadata": {},
     "output_type": "display_data"
    },
    {
     "name": "stderr",
     "output_type": "stream",
     "text": [
      "Python(97933) MallocStackLogging: can't turn off malloc stack logging because it was not enabled.\n",
      "Python(97934) MallocStackLogging: can't turn off malloc stack logging because it was not enabled.\n",
      "Python(97935) MallocStackLogging: can't turn off malloc stack logging because it was not enabled.\n",
      "Python(97936) MallocStackLogging: can't turn off malloc stack logging because it was not enabled.\n",
      "Python(97937) MallocStackLogging: can't turn off malloc stack logging because it was not enabled.\n",
      "Python(97938) MallocStackLogging: can't turn off malloc stack logging because it was not enabled.\n",
      "Python(97939) MallocStackLogging: can't turn off malloc stack logging because it was not enabled.\n",
      "Python(97940) MallocStackLogging: can't turn off malloc stack logging because it was not enabled.\n",
      "Python(97946) MallocStackLogging: can't turn off malloc stack logging because it was not enabled.\n"
     ]
    },
    {
     "data": {
      "text/plain": [
       "VBox(children=(HBox(children=(IntProgress(value=0, description='0.00%', max=175), Label(value='0 / 175'))), HB…"
      ],
      "application/vnd.jupyter.widget-view+json": {
       "version_major": 2,
       "version_minor": 0,
       "model_id": "b8454b84f7d74fd09b152632283513e6"
      }
     },
     "metadata": {},
     "output_type": "display_data"
    },
    {
     "name": "stderr",
     "output_type": "stream",
     "text": [
      "Python(97947) MallocStackLogging: can't turn off malloc stack logging because it was not enabled.\n",
      "Python(97948) MallocStackLogging: can't turn off malloc stack logging because it was not enabled.\n",
      "Python(97949) MallocStackLogging: can't turn off malloc stack logging because it was not enabled.\n",
      "Python(97950) MallocStackLogging: can't turn off malloc stack logging because it was not enabled.\n",
      "Python(97951) MallocStackLogging: can't turn off malloc stack logging because it was not enabled.\n",
      "Python(97952) MallocStackLogging: can't turn off malloc stack logging because it was not enabled.\n",
      "Python(97953) MallocStackLogging: can't turn off malloc stack logging because it was not enabled.\n",
      "Python(97954) MallocStackLogging: can't turn off malloc stack logging because it was not enabled.\n"
     ]
    }
   ],
   "execution_count": 88
  },
  {
   "metadata": {
    "ExecuteTime": {
     "end_time": "2025-04-16T20:47:04.224258Z",
     "start_time": "2025-04-16T20:47:04.215714Z"
    }
   },
   "cell_type": "code",
   "source": "df_query_train.head()",
   "outputs": [
    {
     "data": {
      "text/plain": [
       "   post_id                                         tweet_text  cord_uid  \\\n",
       "0        0  Oral care in rehabilitation medicine: oral vul...  htlvpvz5   \n",
       "1        1  this study isn't receiving sufficient attentio...  4kfl29ul   \n",
       "2        2  thanks, xi jinping. a reminder that this study...  jtwb17u8   \n",
       "3        3  Taiwan - a population of 23 million has had ju...  0w9k8iy1   \n",
       "4        4  Obtaining a diagnosis of autism in lower incom...  tiqksd69   \n",
       "\n",
       "                                  cleaned_tweet_text  \\\n",
       "0  oral care rehabilit medicin oral vulner oral m...   \n",
       "1  studi isnt receiv suffici attent reveal blackl...   \n",
       "2  thank xi jinp remind studi conclud nonpharmace...   \n",
       "3  taiwan popul million case death widespread mas...   \n",
       "4  obtain diagnosi autism lower incom countri tak...   \n",
       "\n",
       "                        entities_in_tweet_text_train  \n",
       "0   rehabilit medicin muscl wast hospitalassoci oral  \n",
       "1                  receiv suffici blacklatinoindigen  \n",
       "2  conclud nonpharmaceut intervent three week ear...  \n",
       "3  taiwan popul million quarantin measur erad pos...  \n",
       "4            lengthi modifi screen diagnosi lowincom  "
      ],
      "text/html": [
       "<div>\n",
       "<style scoped>\n",
       "    .dataframe tbody tr th:only-of-type {\n",
       "        vertical-align: middle;\n",
       "    }\n",
       "\n",
       "    .dataframe tbody tr th {\n",
       "        vertical-align: top;\n",
       "    }\n",
       "\n",
       "    .dataframe thead th {\n",
       "        text-align: right;\n",
       "    }\n",
       "</style>\n",
       "<table border=\"1\" class=\"dataframe\">\n",
       "  <thead>\n",
       "    <tr style=\"text-align: right;\">\n",
       "      <th></th>\n",
       "      <th>post_id</th>\n",
       "      <th>tweet_text</th>\n",
       "      <th>cord_uid</th>\n",
       "      <th>cleaned_tweet_text</th>\n",
       "      <th>entities_in_tweet_text_train</th>\n",
       "    </tr>\n",
       "  </thead>\n",
       "  <tbody>\n",
       "    <tr>\n",
       "      <th>0</th>\n",
       "      <td>0</td>\n",
       "      <td>Oral care in rehabilitation medicine: oral vul...</td>\n",
       "      <td>htlvpvz5</td>\n",
       "      <td>oral care rehabilit medicin oral vulner oral m...</td>\n",
       "      <td>rehabilit medicin muscl wast hospitalassoci oral</td>\n",
       "    </tr>\n",
       "    <tr>\n",
       "      <th>1</th>\n",
       "      <td>1</td>\n",
       "      <td>this study isn't receiving sufficient attentio...</td>\n",
       "      <td>4kfl29ul</td>\n",
       "      <td>studi isnt receiv suffici attent reveal blackl...</td>\n",
       "      <td>receiv suffici blacklatinoindigen</td>\n",
       "    </tr>\n",
       "    <tr>\n",
       "      <th>2</th>\n",
       "      <td>2</td>\n",
       "      <td>thanks, xi jinping. a reminder that this study...</td>\n",
       "      <td>jtwb17u8</td>\n",
       "      <td>thank xi jinp remind studi conclud nonpharmace...</td>\n",
       "      <td>conclud nonpharmaceut intervent three week ear...</td>\n",
       "    </tr>\n",
       "    <tr>\n",
       "      <th>3</th>\n",
       "      <td>3</td>\n",
       "      <td>Taiwan - a population of 23 million has had ju...</td>\n",
       "      <td>0w9k8iy1</td>\n",
       "      <td>taiwan popul million case death widespread mas...</td>\n",
       "      <td>taiwan popul million quarantin measur erad pos...</td>\n",
       "    </tr>\n",
       "    <tr>\n",
       "      <th>4</th>\n",
       "      <td>4</td>\n",
       "      <td>Obtaining a diagnosis of autism in lower incom...</td>\n",
       "      <td>tiqksd69</td>\n",
       "      <td>obtain diagnosi autism lower incom countri tak...</td>\n",
       "      <td>lengthi modifi screen diagnosi lowincom</td>\n",
       "    </tr>\n",
       "  </tbody>\n",
       "</table>\n",
       "</div>"
      ]
     },
     "execution_count": 89,
     "metadata": {},
     "output_type": "execute_result"
    }
   ],
   "execution_count": 89
  },
  {
   "cell_type": "markdown",
   "metadata": {
    "id": "jr_BDzufPmmP"
   },
   "source": [
    "# 2)The following code runs a BM25 after preprcoessing \n",
    "\n"
   ]
  },
  {
   "cell_type": "code",
   "metadata": {
    "executionInfo": {
     "elapsed": 1414,
     "status": "ok",
     "timestamp": 1742976047296,
     "user": {
      "displayName": "Yavuz",
      "userId": "01318046262282431930"
     },
     "user_tz": -60
    },
    "id": "jXCC7K_ZPQL2",
    "ExecuteTime": {
     "end_time": "2025-04-16T20:47:21.081095Z",
     "start_time": "2025-04-16T20:47:20.101790Z"
    }
   },
   "source": [
    "from rank_bm25 import BM25Okapi\n",
    "\n",
    "corpus = df_collection[['cleaned_title', 'cleaned_abstract', 'entities_in_title', 'entities_in_abstract']].parallel_apply(\n",
    "    lambda x: f\"{x['cleaned_title']} {x['cleaned_abstract']} {' '.join(x['entities_in_title'])} {' '.join(x['entities_in_abstract'])}\",\n",
    "    axis=1\n",
    ").tolist()\n",
    "\n",
    "cord_uids = df_collection[:]['cord_uid'].tolist()\n",
    "\n",
    "tokenized_corpus = [doc.split(' ') for doc in corpus]\n",
    "\n",
    "bm25 = BM25Okapi(tokenized_corpus)"
   ],
   "outputs": [
    {
     "name": "stderr",
     "output_type": "stream",
     "text": [
      "Python(97970) MallocStackLogging: can't turn off malloc stack logging because it was not enabled.\n"
     ]
    },
    {
     "data": {
      "text/plain": [
       "VBox(children=(HBox(children=(IntProgress(value=0, description='0.00%', max=965), Label(value='0 / 965'))), HB…"
      ],
      "application/vnd.jupyter.widget-view+json": {
       "version_major": 2,
       "version_minor": 0,
       "model_id": "ca6351f15e9b450e9e0cbb84313cbce2"
      }
     },
     "metadata": {},
     "output_type": "display_data"
    },
    {
     "name": "stderr",
     "output_type": "stream",
     "text": [
      "Python(97971) MallocStackLogging: can't turn off malloc stack logging because it was not enabled.\n",
      "Python(97972) MallocStackLogging: can't turn off malloc stack logging because it was not enabled.\n",
      "Python(97973) MallocStackLogging: can't turn off malloc stack logging because it was not enabled.\n",
      "Python(97974) MallocStackLogging: can't turn off malloc stack logging because it was not enabled.\n",
      "Python(97975) MallocStackLogging: can't turn off malloc stack logging because it was not enabled.\n",
      "Python(97976) MallocStackLogging: can't turn off malloc stack logging because it was not enabled.\n",
      "Python(97977) MallocStackLogging: can't turn off malloc stack logging because it was not enabled.\n",
      "Python(97978) MallocStackLogging: can't turn off malloc stack logging because it was not enabled.\n"
     ]
    }
   ],
   "execution_count": 90
  },
  {
   "metadata": {
    "ExecuteTime": {
     "end_time": "2025-04-16T20:47:23.333427Z",
     "start_time": "2025-04-16T20:47:23.328979Z"
    }
   },
   "cell_type": "code",
   "source": "tokenized_corpus[0][:5]",
   "outputs": [
    {
     "data": {
      "text/plain": [
       "['profession', 'homemad', 'face', 'mask', 'reduc']"
      ]
     },
     "execution_count": 91,
     "metadata": {},
     "output_type": "execute_result"
    }
   ],
   "execution_count": 91
  },
  {
   "cell_type": "code",
   "metadata": {
    "executionInfo": {
     "elapsed": 6,
     "status": "ok",
     "timestamp": 1742976047304,
     "user": {
      "displayName": "Yavuz",
      "userId": "01318046262282431930"
     },
     "user_tz": -60
    },
    "id": "e8NeJWGYPQZG",
    "ExecuteTime": {
     "end_time": "2025-04-16T20:47:27.554232Z",
     "start_time": "2025-04-16T20:47:27.550986Z"
    }
   },
   "source": [
    "text2bm25top = {}\n",
    "def get_top_cord_uids(query):\n",
    "  if query in text2bm25top.keys():\n",
    "      return text2bm25top[query]\n",
    "  else:\n",
    "      tokenized_query = query.split(' ')\n",
    "    \n",
    "\n",
    "      #based on the tokenized query we call the BM25 to compute the relevance score for each document relevant to the query \n",
    "      doc_scores = bm25.get_scores(tokenized_query)\n",
    "      # it sort the doc scores in descending order \n",
    "      indices = np.argsort(-doc_scores)[:5]\n",
    "      #This line uses the indices from the previous step to retrieve the actual document IDs \n",
    "      bm25_topk = [cord_uids[x] for x in indices]\n",
    "      \n",
    "\n",
    "      text2bm25top[query] = bm25_topk\n",
    "      return bm25_topk"
   ],
   "outputs": [],
   "execution_count": 92
  },
  {
   "metadata": {
    "ExecuteTime": {
     "end_time": "2025-04-16T20:47:28.813620Z",
     "start_time": "2025-04-16T20:47:28.809291Z"
    }
   },
   "cell_type": "code",
   "source": "len(text2bm25top)",
   "outputs": [
    {
     "data": {
      "text/plain": [
       "0"
      ]
     },
     "execution_count": 93,
     "metadata": {},
     "output_type": "execute_result"
    }
   ],
   "execution_count": 93
  },
  {
   "cell_type": "code",
   "metadata": {
    "ExecuteTime": {
     "end_time": "2025-04-16T20:48:08.138807Z",
     "start_time": "2025-04-16T20:48:08.126422Z"
    }
   },
   "source": [
    "df_query_train['final_query'] = df_query_train['cleaned_tweet_text'] + ' ' + df_query_train['entities_in_tweet_text_train']\n",
    "df_query_dev['final_query'] = df_query_dev['cleaned_tweet_text'] + ' ' + df_query_dev['entities_in_tweet_text_dev']\n",
    "\n",
    "df_query_train.head()"
   ],
   "outputs": [
    {
     "data": {
      "text/plain": [
       "   post_id                                         tweet_text  cord_uid  \\\n",
       "0        0  Oral care in rehabilitation medicine: oral vul...  htlvpvz5   \n",
       "1        1  this study isn't receiving sufficient attentio...  4kfl29ul   \n",
       "2        2  thanks, xi jinping. a reminder that this study...  jtwb17u8   \n",
       "3        3  Taiwan - a population of 23 million has had ju...  0w9k8iy1   \n",
       "4        4  Obtaining a diagnosis of autism in lower incom...  tiqksd69   \n",
       "\n",
       "                                  cleaned_tweet_text  \\\n",
       "0  oral care rehabilit medicin oral vulner oral m...   \n",
       "1  studi isnt receiv suffici attent reveal blackl...   \n",
       "2  thank xi jinp remind studi conclud nonpharmace...   \n",
       "3  taiwan popul million case death widespread mas...   \n",
       "4  obtain diagnosi autism lower incom countri tak...   \n",
       "\n",
       "                        entities_in_tweet_text_train  \\\n",
       "0   rehabilit medicin muscl wast hospitalassoci oral   \n",
       "1                  receiv suffici blacklatinoindigen   \n",
       "2  conclud nonpharmaceut intervent three week ear...   \n",
       "3  taiwan popul million quarantin measur erad pos...   \n",
       "4            lengthi modifi screen diagnosi lowincom   \n",
       "\n",
       "                                         final_query  \n",
       "0  oral care rehabilit medicin oral vulner oral m...  \n",
       "1  studi isnt receiv suffici attent reveal blackl...  \n",
       "2  thank xi jinp remind studi conclud nonpharmace...  \n",
       "3  taiwan popul million case death widespread mas...  \n",
       "4  obtain diagnosi autism lower incom countri tak...  "
      ],
      "text/html": [
       "<div>\n",
       "<style scoped>\n",
       "    .dataframe tbody tr th:only-of-type {\n",
       "        vertical-align: middle;\n",
       "    }\n",
       "\n",
       "    .dataframe tbody tr th {\n",
       "        vertical-align: top;\n",
       "    }\n",
       "\n",
       "    .dataframe thead th {\n",
       "        text-align: right;\n",
       "    }\n",
       "</style>\n",
       "<table border=\"1\" class=\"dataframe\">\n",
       "  <thead>\n",
       "    <tr style=\"text-align: right;\">\n",
       "      <th></th>\n",
       "      <th>post_id</th>\n",
       "      <th>tweet_text</th>\n",
       "      <th>cord_uid</th>\n",
       "      <th>cleaned_tweet_text</th>\n",
       "      <th>entities_in_tweet_text_train</th>\n",
       "      <th>final_query</th>\n",
       "    </tr>\n",
       "  </thead>\n",
       "  <tbody>\n",
       "    <tr>\n",
       "      <th>0</th>\n",
       "      <td>0</td>\n",
       "      <td>Oral care in rehabilitation medicine: oral vul...</td>\n",
       "      <td>htlvpvz5</td>\n",
       "      <td>oral care rehabilit medicin oral vulner oral m...</td>\n",
       "      <td>rehabilit medicin muscl wast hospitalassoci oral</td>\n",
       "      <td>oral care rehabilit medicin oral vulner oral m...</td>\n",
       "    </tr>\n",
       "    <tr>\n",
       "      <th>1</th>\n",
       "      <td>1</td>\n",
       "      <td>this study isn't receiving sufficient attentio...</td>\n",
       "      <td>4kfl29ul</td>\n",
       "      <td>studi isnt receiv suffici attent reveal blackl...</td>\n",
       "      <td>receiv suffici blacklatinoindigen</td>\n",
       "      <td>studi isnt receiv suffici attent reveal blackl...</td>\n",
       "    </tr>\n",
       "    <tr>\n",
       "      <th>2</th>\n",
       "      <td>2</td>\n",
       "      <td>thanks, xi jinping. a reminder that this study...</td>\n",
       "      <td>jtwb17u8</td>\n",
       "      <td>thank xi jinp remind studi conclud nonpharmace...</td>\n",
       "      <td>conclud nonpharmaceut intervent three week ear...</td>\n",
       "      <td>thank xi jinp remind studi conclud nonpharmace...</td>\n",
       "    </tr>\n",
       "    <tr>\n",
       "      <th>3</th>\n",
       "      <td>3</td>\n",
       "      <td>Taiwan - a population of 23 million has had ju...</td>\n",
       "      <td>0w9k8iy1</td>\n",
       "      <td>taiwan popul million case death widespread mas...</td>\n",
       "      <td>taiwan popul million quarantin measur erad pos...</td>\n",
       "      <td>taiwan popul million case death widespread mas...</td>\n",
       "    </tr>\n",
       "    <tr>\n",
       "      <th>4</th>\n",
       "      <td>4</td>\n",
       "      <td>Obtaining a diagnosis of autism in lower incom...</td>\n",
       "      <td>tiqksd69</td>\n",
       "      <td>obtain diagnosi autism lower incom countri tak...</td>\n",
       "      <td>lengthi modifi screen diagnosi lowincom</td>\n",
       "      <td>obtain diagnosi autism lower incom countri tak...</td>\n",
       "    </tr>\n",
       "  </tbody>\n",
       "</table>\n",
       "</div>"
      ]
     },
     "execution_count": 95,
     "metadata": {},
     "output_type": "execute_result"
    }
   ],
   "execution_count": 95
  },
  {
   "metadata": {
    "ExecuteTime": {
     "end_time": "2025-04-16T20:49:32.912545Z",
     "start_time": "2025-04-16T20:48:10.535983Z"
    }
   },
   "cell_type": "code",
   "source": [
    "df_query_train['bm25_topk'] = df_query_train['final_query'].parallel_apply(lambda x: get_top_cord_uids(x))\n",
    "df_query_dev['bm25_topk'] = df_query_dev['final_query'].parallel_apply(lambda x: get_top_cord_uids(x))"
   ],
   "outputs": [
    {
     "name": "stderr",
     "output_type": "stream",
     "text": [
      "Python(98061) MallocStackLogging: can't turn off malloc stack logging because it was not enabled.\n"
     ]
    },
    {
     "data": {
      "text/plain": [
       "VBox(children=(HBox(children=(IntProgress(value=0, description='0.00%', max=1607), Label(value='0 / 1607'))), …"
      ],
      "application/vnd.jupyter.widget-view+json": {
       "version_major": 2,
       "version_minor": 0,
       "model_id": "4a48bc9cdd5c44d3a4603e7c9ea743eb"
      }
     },
     "metadata": {},
     "output_type": "display_data"
    },
    {
     "name": "stderr",
     "output_type": "stream",
     "text": [
      "Python(98062) MallocStackLogging: can't turn off malloc stack logging because it was not enabled.\n",
      "Python(98063) MallocStackLogging: can't turn off malloc stack logging because it was not enabled.\n",
      "Python(98064) MallocStackLogging: can't turn off malloc stack logging because it was not enabled.\n",
      "Python(98065) MallocStackLogging: can't turn off malloc stack logging because it was not enabled.\n",
      "Python(98066) MallocStackLogging: can't turn off malloc stack logging because it was not enabled.\n",
      "Python(98067) MallocStackLogging: can't turn off malloc stack logging because it was not enabled.\n",
      "Python(98068) MallocStackLogging: can't turn off malloc stack logging because it was not enabled.\n",
      "Python(98069) MallocStackLogging: can't turn off malloc stack logging because it was not enabled.\n",
      "Python(98092) MallocStackLogging: can't turn off malloc stack logging because it was not enabled.\n"
     ]
    },
    {
     "data": {
      "text/plain": [
       "VBox(children=(HBox(children=(IntProgress(value=0, description='0.00%', max=175), Label(value='0 / 175'))), HB…"
      ],
      "application/vnd.jupyter.widget-view+json": {
       "version_major": 2,
       "version_minor": 0,
       "model_id": "8bdb18ab346f488d8bf0ffb4ace41c37"
      }
     },
     "metadata": {},
     "output_type": "display_data"
    },
    {
     "name": "stderr",
     "output_type": "stream",
     "text": [
      "Python(98093) MallocStackLogging: can't turn off malloc stack logging because it was not enabled.\n",
      "Python(98094) MallocStackLogging: can't turn off malloc stack logging because it was not enabled.\n",
      "Python(98095) MallocStackLogging: can't turn off malloc stack logging because it was not enabled.\n",
      "Python(98096) MallocStackLogging: can't turn off malloc stack logging because it was not enabled.\n",
      "Python(98097) MallocStackLogging: can't turn off malloc stack logging because it was not enabled.\n",
      "Python(98098) MallocStackLogging: can't turn off malloc stack logging because it was not enabled.\n",
      "Python(98099) MallocStackLogging: can't turn off malloc stack logging because it was not enabled.\n",
      "Python(98100) MallocStackLogging: can't turn off malloc stack logging because it was not enabled.\n"
     ]
    }
   ],
   "execution_count": 96
  },
  {
   "cell_type": "markdown",
   "metadata": {
    "id": "QVKBlTCZUMSc"
   },
   "source": [
    "# 3) Evaluating the baseline\n",
    "The following code evaluates the BM25 retrieval baseline on the query set using the Mean Reciprocal Rank score (MRR@5)."
   ]
  },
  {
   "cell_type": "code",
   "metadata": {
    "executionInfo": {
     "elapsed": 3,
     "status": "ok",
     "timestamp": 1742976555898,
     "user": {
      "displayName": "Yavuz",
      "userId": "01318046262282431930"
     },
     "user_tz": -60
    },
    "id": "c-vdGWXXTgjZ",
    "ExecuteTime": {
     "end_time": "2025-04-16T20:50:58.380150Z",
     "start_time": "2025-04-16T20:50:58.375499Z"
    }
   },
   "source": [
    "# Evaluate retrieved candidates using MRR@k\n",
    "def get_performance_mrr(data, col_gold, col_pred, list_k = [1, 5, 10]):\n",
    "    d_performance = {}\n",
    "    for k in list_k:\n",
    "        data[\"in_topx\"] = data.apply(lambda x: (1/([i for i in x[col_pred][:k]].index(x[col_gold]) + 1) if x[col_gold] in [i for i in x[col_pred][:k]] else 0), axis=1)\n",
    "        #performances.append(data[\"in_topx\"].mean())\n",
    "        d_performance[k] = data[\"in_topx\"].mean()\n",
    "    return d_performance"
   ],
   "outputs": [],
   "execution_count": 100
  },
  {
   "cell_type": "code",
   "metadata": {
    "colab": {
     "base_uri": "https://localhost:8080/"
    },
    "executionInfo": {
     "elapsed": 44,
     "status": "ok",
     "timestamp": 1742976568622,
     "user": {
      "displayName": "Yavuz",
      "userId": "01318046262282431930"
     },
     "user_tz": -60
    },
    "id": "xLX9SMg5USkH",
    "outputId": "7c414679-6486-4e08-dffe-23d8cffbddf0",
    "ExecuteTime": {
     "end_time": "2025-04-16T20:52:15.358961Z",
     "start_time": "2025-04-16T20:52:15.150277Z"
    }
   },
   "source": [
    "# Evaluate retrieved candidates using MRR@k\n",
    "results_train = get_performance_mrr(df_query_train, 'cord_uid', 'bm25_topk')\n",
    "results_dev = get_performance_mrr(df_query_dev, 'cord_uid', 'bm25_topk')\n",
    "\n",
    "# Printed MRR@k results\n",
    "print(f\"Results on the train set: {results_train}\")\n",
    "print(f\"Results on the dev set: {results_dev}\")\n"
   ],
   "outputs": [
    {
     "name": "stdout",
     "output_type": "stream",
     "text": [
      "Results on the train set: {1: 0.5258694468217536, 5: 0.581183381311756, 10: 0.581183381311756}\n",
      "Results on the dev set: {1: 0.5185714285714286, 5: 0.5752261904761904, 10: 0.5752261904761904}\n"
     ]
    }
   ],
   "execution_count": 104
  },
  {
   "metadata": {
    "ExecuteTime": {
     "end_time": "2025-04-16T20:52:16.928025Z",
     "start_time": "2025-04-16T20:52:16.924764Z"
    }
   },
   "cell_type": "code",
   "source": [
    "def results_to_markdown_table(train_results, dev_results):\n",
    "    # Header\n",
    "    table = \"| Set   | Top-K | Score     |\\n\"\n",
    "    table += \"|--------|--------|------------|\\n\"\n",
    "\n",
    "    # Train rows\n",
    "    for k, score in train_results.items():\n",
    "        table += f\"| Train | {k}     | {score:.4f} |\\n\"\n",
    "\n",
    "    # Dev rows\n",
    "    for k, score in dev_results.items():\n",
    "        table += f\"| Dev   | {k}     | {score:.4f} |\\n\"\n",
    "\n",
    "    return table\n",
    "\n",
    "print(results_to_markdown_table(results_train, results_dev))"
   ],
   "outputs": [
    {
     "name": "stdout",
     "output_type": "stream",
     "text": [
      "| Set   | Top-K | Score     |\n",
      "|--------|--------|------------|\n",
      "| Train | 1     | 0.5259 |\n",
      "| Train | 5     | 0.5812 |\n",
      "| Train | 10     | 0.5812 |\n",
      "| Dev   | 1     | 0.5186 |\n",
      "| Dev   | 5     | 0.5752 |\n",
      "| Dev   | 10     | 0.5752 |\n",
      "\n"
     ]
    }
   ],
   "execution_count": 105
  },
  {
   "cell_type": "markdown",
   "metadata": {},
   "source": [
    "| Set   | Top-K | Score     |\n",
    "|--------|--------|-----------|\n",
    "| Train | 1     | 0.5221 |\n",
    "| Train | 5     | 0.5747 |\n",
    "| Train | 10    | 0.5747 |\n",
    "| Dev   | 1     | 0.5186 |\n",
    "| Dev   | 5     | 0.5740 |\n",
    "| Dev   | 10    | 0.5740 |\n"
   ]
  },
  {
   "metadata": {},
   "cell_type": "markdown",
   "source": "# 4) Evaluating different spaCy models"
  },
  {
   "metadata": {
    "ExecuteTime": {
     "end_time": "2025-04-16T20:32:34.504234Z",
     "start_time": "2025-04-16T20:29:44.627245Z"
    }
   },
   "cell_type": "code",
   "source": "!pip install -U scispacy",
   "outputs": [
    {
     "name": "stderr",
     "output_type": "stream",
     "text": [
      "Python(96810) MallocStackLogging: can't turn off malloc stack logging because it was not enabled.\n"
     ]
    },
    {
     "name": "stdout",
     "output_type": "stream",
     "text": [
      "Requirement already satisfied: scispacy in ./venv/lib/python3.11/site-packages (0.5.5)\r\n",
      "Collecting spacy-transformers\r\n",
      "  Downloading spacy_transformers-1.3.8-cp311-cp311-macosx_11_0_arm64.whl.metadata (7.0 kB)\r\n",
      "Requirement already satisfied: spacy<3.8.0,>=3.7.0 in ./venv/lib/python3.11/site-packages (from scispacy) (3.7.5)\r\n",
      "Requirement already satisfied: scipy in ./venv/lib/python3.11/site-packages (from scispacy) (1.15.2)\r\n",
      "Requirement already satisfied: requests<3.0.0,>=2.0.0 in ./venv/lib/python3.11/site-packages (from scispacy) (2.32.3)\r\n",
      "Requirement already satisfied: conllu in ./venv/lib/python3.11/site-packages (from scispacy) (6.0.0)\r\n",
      "Requirement already satisfied: numpy in ./venv/lib/python3.11/site-packages (from scispacy) (1.26.4)\r\n",
      "Requirement already satisfied: joblib in ./venv/lib/python3.11/site-packages (from scispacy) (1.4.2)\r\n",
      "Requirement already satisfied: scikit-learn>=0.20.3 in ./venv/lib/python3.11/site-packages (from scispacy) (1.6.1)\r\n",
      "Requirement already satisfied: pysbd in ./venv/lib/python3.11/site-packages (from scispacy) (0.3.4)\r\n",
      "Requirement already satisfied: nmslib-metabrainz==2.1.3 in ./venv/lib/python3.11/site-packages (from scispacy) (2.1.3)\r\n",
      "Requirement already satisfied: pybind11>=2.2.3 in ./venv/lib/python3.11/site-packages (from nmslib-metabrainz==2.1.3->scispacy) (2.13.6)\r\n",
      "Requirement already satisfied: psutil in ./venv/lib/python3.11/site-packages (from nmslib-metabrainz==2.1.3->scispacy) (7.0.0)\r\n",
      "Collecting transformers<4.50.0,>=3.4.0 (from spacy-transformers)\r\n",
      "  Downloading transformers-4.49.0-py3-none-any.whl.metadata (44 kB)\r\n",
      "Requirement already satisfied: torch>=1.8.0 in ./venv/lib/python3.11/site-packages (from spacy-transformers) (2.6.0)\r\n",
      "Requirement already satisfied: srsly<3.0.0,>=2.4.0 in ./venv/lib/python3.11/site-packages (from spacy-transformers) (2.5.1)\r\n",
      "Collecting spacy-alignments<1.0.0,>=0.7.2 (from spacy-transformers)\r\n",
      "  Downloading spacy_alignments-0.9.1-cp311-cp311-macosx_11_0_arm64.whl.metadata (2.7 kB)\r\n",
      "Requirement already satisfied: charset-normalizer<4,>=2 in ./venv/lib/python3.11/site-packages (from requests<3.0.0,>=2.0.0->scispacy) (3.4.1)\r\n",
      "Requirement already satisfied: idna<4,>=2.5 in ./venv/lib/python3.11/site-packages (from requests<3.0.0,>=2.0.0->scispacy) (3.10)\r\n",
      "Requirement already satisfied: urllib3<3,>=1.21.1 in ./venv/lib/python3.11/site-packages (from requests<3.0.0,>=2.0.0->scispacy) (2.4.0)\r\n",
      "Requirement already satisfied: certifi>=2017.4.17 in ./venv/lib/python3.11/site-packages (from requests<3.0.0,>=2.0.0->scispacy) (2025.1.31)\r\n",
      "Requirement already satisfied: threadpoolctl>=3.1.0 in ./venv/lib/python3.11/site-packages (from scikit-learn>=0.20.3->scispacy) (3.6.0)\r\n",
      "Requirement already satisfied: spacy-legacy<3.1.0,>=3.0.11 in ./venv/lib/python3.11/site-packages (from spacy<3.8.0,>=3.7.0->scispacy) (3.0.12)\r\n",
      "Requirement already satisfied: spacy-loggers<2.0.0,>=1.0.0 in ./venv/lib/python3.11/site-packages (from spacy<3.8.0,>=3.7.0->scispacy) (1.0.5)\r\n",
      "Requirement already satisfied: murmurhash<1.1.0,>=0.28.0 in ./venv/lib/python3.11/site-packages (from spacy<3.8.0,>=3.7.0->scispacy) (1.0.12)\r\n",
      "Requirement already satisfied: cymem<2.1.0,>=2.0.2 in ./venv/lib/python3.11/site-packages (from spacy<3.8.0,>=3.7.0->scispacy) (2.0.11)\r\n",
      "Requirement already satisfied: preshed<3.1.0,>=3.0.2 in ./venv/lib/python3.11/site-packages (from spacy<3.8.0,>=3.7.0->scispacy) (3.0.9)\r\n",
      "Requirement already satisfied: thinc<8.3.0,>=8.2.2 in ./venv/lib/python3.11/site-packages (from spacy<3.8.0,>=3.7.0->scispacy) (8.2.5)\r\n",
      "Requirement already satisfied: wasabi<1.2.0,>=0.9.1 in ./venv/lib/python3.11/site-packages (from spacy<3.8.0,>=3.7.0->scispacy) (0.10.1)\r\n",
      "Requirement already satisfied: catalogue<2.1.0,>=2.0.6 in ./venv/lib/python3.11/site-packages (from spacy<3.8.0,>=3.7.0->scispacy) (2.0.10)\r\n",
      "Requirement already satisfied: weasel<0.5.0,>=0.1.0 in ./venv/lib/python3.11/site-packages (from spacy<3.8.0,>=3.7.0->scispacy) (0.4.1)\r\n",
      "Requirement already satisfied: typer<1.0.0,>=0.3.0 in ./venv/lib/python3.11/site-packages (from spacy<3.8.0,>=3.7.0->scispacy) (0.7.0)\r\n",
      "Requirement already satisfied: tqdm<5.0.0,>=4.38.0 in ./venv/lib/python3.11/site-packages (from spacy<3.8.0,>=3.7.0->scispacy) (4.67.1)\r\n",
      "Requirement already satisfied: pydantic!=1.8,!=1.8.1,<3.0.0,>=1.7.4 in ./venv/lib/python3.11/site-packages (from spacy<3.8.0,>=3.7.0->scispacy) (1.10.21)\r\n",
      "Requirement already satisfied: jinja2 in ./venv/lib/python3.11/site-packages (from spacy<3.8.0,>=3.7.0->scispacy) (3.1.6)\r\n",
      "Requirement already satisfied: setuptools in ./venv/lib/python3.11/site-packages (from spacy<3.8.0,>=3.7.0->scispacy) (75.6.0)\r\n",
      "Requirement already satisfied: packaging>=20.0 in ./venv/lib/python3.11/site-packages (from spacy<3.8.0,>=3.7.0->scispacy) (24.2)\r\n",
      "Requirement already satisfied: langcodes<4.0.0,>=3.2.0 in ./venv/lib/python3.11/site-packages (from spacy<3.8.0,>=3.7.0->scispacy) (3.5.0)\r\n",
      "Requirement already satisfied: filelock in ./venv/lib/python3.11/site-packages (from torch>=1.8.0->spacy-transformers) (3.18.0)\r\n",
      "Requirement already satisfied: typing-extensions>=4.10.0 in ./venv/lib/python3.11/site-packages (from torch>=1.8.0->spacy-transformers) (4.13.2)\r\n",
      "Requirement already satisfied: networkx in ./venv/lib/python3.11/site-packages (from torch>=1.8.0->spacy-transformers) (3.4.2)\r\n",
      "Requirement already satisfied: fsspec in ./venv/lib/python3.11/site-packages (from torch>=1.8.0->spacy-transformers) (2025.3.2)\r\n",
      "Requirement already satisfied: sympy==1.13.1 in ./venv/lib/python3.11/site-packages (from torch>=1.8.0->spacy-transformers) (1.13.1)\r\n",
      "Requirement already satisfied: mpmath<1.4,>=1.1.0 in ./venv/lib/python3.11/site-packages (from sympy==1.13.1->torch>=1.8.0->spacy-transformers) (1.3.0)\r\n",
      "Collecting huggingface-hub<1.0,>=0.26.0 (from transformers<4.50.0,>=3.4.0->spacy-transformers)\r\n",
      "  Downloading huggingface_hub-0.30.2-py3-none-any.whl.metadata (13 kB)\r\n",
      "Requirement already satisfied: pyyaml>=5.1 in ./venv/lib/python3.11/site-packages (from transformers<4.50.0,>=3.4.0->spacy-transformers) (6.0.2)\r\n",
      "Requirement already satisfied: regex!=2019.12.17 in ./venv/lib/python3.11/site-packages (from transformers<4.50.0,>=3.4.0->spacy-transformers) (2024.11.6)\r\n",
      "Collecting tokenizers<0.22,>=0.21 (from transformers<4.50.0,>=3.4.0->spacy-transformers)\r\n",
      "  Downloading tokenizers-0.21.1-cp39-abi3-macosx_11_0_arm64.whl.metadata (6.8 kB)\r\n",
      "Collecting safetensors>=0.4.1 (from transformers<4.50.0,>=3.4.0->spacy-transformers)\r\n",
      "  Downloading safetensors-0.5.3-cp38-abi3-macosx_11_0_arm64.whl.metadata (3.8 kB)\r\n",
      "Requirement already satisfied: language-data>=1.2 in ./venv/lib/python3.11/site-packages (from langcodes<4.0.0,>=3.2.0->spacy<3.8.0,>=3.7.0->scispacy) (1.3.0)\r\n",
      "Requirement already satisfied: blis<0.8.0,>=0.7.8 in ./venv/lib/python3.11/site-packages (from thinc<8.3.0,>=8.2.2->spacy<3.8.0,>=3.7.0->scispacy) (0.7.11)\r\n",
      "Requirement already satisfied: confection<1.0.0,>=0.0.1 in ./venv/lib/python3.11/site-packages (from thinc<8.3.0,>=8.2.2->spacy<3.8.0,>=3.7.0->scispacy) (0.1.5)\r\n",
      "Requirement already satisfied: click<9.0.0,>=7.1.1 in ./venv/lib/python3.11/site-packages (from typer<1.0.0,>=0.3.0->spacy<3.8.0,>=3.7.0->scispacy) (8.1.8)\r\n",
      "Requirement already satisfied: cloudpathlib<1.0.0,>=0.7.0 in ./venv/lib/python3.11/site-packages (from weasel<0.5.0,>=0.1.0->spacy<3.8.0,>=3.7.0->scispacy) (0.21.0)\r\n",
      "Requirement already satisfied: smart-open<8.0.0,>=5.2.1 in ./venv/lib/python3.11/site-packages (from weasel<0.5.0,>=0.1.0->spacy<3.8.0,>=3.7.0->scispacy) (6.4.0)\r\n",
      "Requirement already satisfied: MarkupSafe>=2.0 in ./venv/lib/python3.11/site-packages (from jinja2->spacy<3.8.0,>=3.7.0->scispacy) (3.0.2)\r\n",
      "Requirement already satisfied: marisa-trie>=1.1.0 in ./venv/lib/python3.11/site-packages (from language-data>=1.2->langcodes<4.0.0,>=3.2.0->spacy<3.8.0,>=3.7.0->scispacy) (1.2.1)\r\n",
      "Downloading spacy_transformers-1.3.8-cp311-cp311-macosx_11_0_arm64.whl (171 kB)\r\n",
      "Downloading spacy_alignments-0.9.1-cp311-cp311-macosx_11_0_arm64.whl (317 kB)\r\n",
      "Downloading transformers-4.49.0-py3-none-any.whl (10.0 MB)\r\n",
      "\u001B[2K   \u001B[90m━━━━━━━━━━━━━━━━━━━━━━━━━━━━━━━━━━━━━━━━\u001B[0m \u001B[32m10.0/10.0 MB\u001B[0m \u001B[31m84.3 kB/s\u001B[0m eta \u001B[36m0:00:00\u001B[0m \u001B[36m0:00:04\u001B[0mm\r\n",
      "\u001B[?25hDownloading huggingface_hub-0.30.2-py3-none-any.whl (481 kB)\r\n",
      "Downloading safetensors-0.5.3-cp38-abi3-macosx_11_0_arm64.whl (418 kB)\r\n",
      "Downloading tokenizers-0.21.1-cp39-abi3-macosx_11_0_arm64.whl (2.7 MB)\r\n",
      "\u001B[2K   \u001B[90m━━━━━━━━━━━━━━━━━━━━━━━━━━━━━━━━━━━━━━━━\u001B[0m \u001B[32m2.7/2.7 MB\u001B[0m \u001B[31m76.7 kB/s\u001B[0m eta \u001B[36m0:00:00\u001B[0m00:01\u001B[0m00:04\u001B[0m\r\n",
      "\u001B[?25hInstalling collected packages: spacy-alignments, safetensors, huggingface-hub, tokenizers, transformers, spacy-transformers\r\n",
      "Successfully installed huggingface-hub-0.30.2 safetensors-0.5.3 spacy-alignments-0.9.1 spacy-transformers-1.3.8 tokenizers-0.21.1 transformers-4.49.0\r\n",
      "\r\n",
      "\u001B[1m[\u001B[0m\u001B[34;49mnotice\u001B[0m\u001B[1;39;49m]\u001B[0m\u001B[39;49m A new release of pip is available: \u001B[0m\u001B[31;49m24.3.1\u001B[0m\u001B[39;49m -> \u001B[0m\u001B[32;49m25.0.1\u001B[0m\r\n",
      "\u001B[1m[\u001B[0m\u001B[34;49mnotice\u001B[0m\u001B[1;39;49m]\u001B[0m\u001B[39;49m To update, run: \u001B[0m\u001B[32;49mpip install --upgrade pip\u001B[0m\r\n"
     ]
    }
   ],
   "execution_count": 80
  },
  {
   "metadata": {
    "ExecuteTime": {
     "end_time": "2025-04-16T20:32:38.913843Z",
     "start_time": "2025-04-16T20:32:38.908478Z"
    }
   },
   "cell_type": "code",
   "source": [
    "def compare_spacy_models(candidate_models):\n",
    "    results = {}\n",
    "\n",
    "    try:\n",
    "        for model_name in candidate_models:\n",
    "            print(f\"Testing model: {model_name}\")\n",
    "\n",
    "            # Install only if needed\n",
    "            try:\n",
    "                if not spacy.util.is_package(model_name):\n",
    "                    print(f\"Installing {model_name}...\")\n",
    "                    spacy.cli.download(model_name)\n",
    "                terms_extractor = spacy.load(model_name)\n",
    "            except Exception as e:\n",
    "                print(f\"❌ {model_name} failed: {e}\")\n",
    "                continue\n",
    "\n",
    "            # Process a sample with the new model\n",
    "            df_query_sample = df_query_train.head(100).copy()\n",
    "            df_query_sample['cleaned_tweet_text'], df_query_sample['entities_in_tweet_text'] = zip(\n",
    "                *df_query_sample['tweet_text'].parallel_apply(\n",
    "                    lambda x: preprocess_text(x, terms_extractor)\n",
    "                )\n",
    "            )\n",
    "\n",
    "            # Update get_top_cord_uids for this test\n",
    "            df_query_sample['final_query'] = df_query_sample['cleaned_tweet_text'] + ' ' + df_query_sample['entities_in_tweet_text']\n",
    "            df_query_sample['bm25_topk'] = df_query_sample['final_query'].parallel_apply(lambda x: get_top_cord_uids(x))\n",
    "\n",
    "            # Evaluate\n",
    "            mrr_result = get_performance_mrr(df_query_sample, 'cord_uid', 'bm25_topk')\n",
    "            results[model_name] = mrr_result\n",
    "    except Exception as e:\n",
    "        print(f\"Failed: {e}\")\n",
    "\n",
    "    # Display results as a table\n",
    "    df_results = pd.DataFrame(results).T\n",
    "    return df_results"
   ],
   "outputs": [],
   "execution_count": 81
  },
  {
   "metadata": {
    "ExecuteTime": {
     "end_time": "2025-04-16T20:39:31.268645Z",
     "start_time": "2025-04-16T20:32:47.100584Z"
    }
   },
   "cell_type": "code",
   "source": [
    "models = [\n",
    "    \"en_core_web_sm\",\n",
    "    \"en_core_web_md\",\n",
    "    \"en_core_web_lg\",\n",
    "    # \"en_core_web_trf\",  # problems with some dependencies\n",
    "    \"en_core_sci_md\",\n",
    "    # \"en_core_sci_lg\"  # the process is getting killed\n",
    "]\n",
    "compare_spacy_models(models)"
   ],
   "outputs": [
    {
     "name": "stdout",
     "output_type": "stream",
     "text": [
      "Testing model: en_core_web_sm\n"
     ]
    },
    {
     "name": "stderr",
     "output_type": "stream",
     "text": [
      "Python(96945) MallocStackLogging: can't turn off malloc stack logging because it was not enabled.\n"
     ]
    },
    {
     "data": {
      "text/plain": [
       "VBox(children=(HBox(children=(IntProgress(value=0, description='0.00%', max=13), Label(value='0 / 13'))), HBox…"
      ],
      "application/vnd.jupyter.widget-view+json": {
       "version_major": 2,
       "version_minor": 0,
       "model_id": "86f4fbecdefa42cda78cff90e41bcdb8"
      }
     },
     "metadata": {},
     "output_type": "display_data"
    },
    {
     "name": "stderr",
     "output_type": "stream",
     "text": [
      "Python(96946) MallocStackLogging: can't turn off malloc stack logging because it was not enabled.\n",
      "Python(96947) MallocStackLogging: can't turn off malloc stack logging because it was not enabled.\n",
      "Python(96948) MallocStackLogging: can't turn off malloc stack logging because it was not enabled.\n",
      "Python(96949) MallocStackLogging: can't turn off malloc stack logging because it was not enabled.\n",
      "Python(96950) MallocStackLogging: can't turn off malloc stack logging because it was not enabled.\n",
      "Python(96951) MallocStackLogging: can't turn off malloc stack logging because it was not enabled.\n",
      "Python(96952) MallocStackLogging: can't turn off malloc stack logging because it was not enabled.\n",
      "Python(96953) MallocStackLogging: can't turn off malloc stack logging because it was not enabled.\n",
      "Python(96954) MallocStackLogging: can't turn off malloc stack logging because it was not enabled.\n"
     ]
    },
    {
     "data": {
      "text/plain": [
       "VBox(children=(HBox(children=(IntProgress(value=0, description='0.00%', max=13), Label(value='0 / 13'))), HBox…"
      ],
      "application/vnd.jupyter.widget-view+json": {
       "version_major": 2,
       "version_minor": 0,
       "model_id": "63db099dc3984d2f80207318e3503e91"
      }
     },
     "metadata": {},
     "output_type": "display_data"
    },
    {
     "name": "stderr",
     "output_type": "stream",
     "text": [
      "Python(96955) MallocStackLogging: can't turn off malloc stack logging because it was not enabled.\n",
      "Python(96956) MallocStackLogging: can't turn off malloc stack logging because it was not enabled.\n",
      "Python(96957) MallocStackLogging: can't turn off malloc stack logging because it was not enabled.\n",
      "Python(96958) MallocStackLogging: can't turn off malloc stack logging because it was not enabled.\n",
      "Python(96959) MallocStackLogging: can't turn off malloc stack logging because it was not enabled.\n",
      "Python(96960) MallocStackLogging: can't turn off malloc stack logging because it was not enabled.\n",
      "Python(96961) MallocStackLogging: can't turn off malloc stack logging because it was not enabled.\n",
      "Python(96962) MallocStackLogging: can't turn off malloc stack logging because it was not enabled.\n"
     ]
    },
    {
     "name": "stdout",
     "output_type": "stream",
     "text": [
      "Testing model: en_core_web_md\n"
     ]
    },
    {
     "name": "stderr",
     "output_type": "stream",
     "text": [
      "Python(96968) MallocStackLogging: can't turn off malloc stack logging because it was not enabled.\n"
     ]
    },
    {
     "data": {
      "text/plain": [
       "VBox(children=(HBox(children=(IntProgress(value=0, description='0.00%', max=13), Label(value='0 / 13'))), HBox…"
      ],
      "application/vnd.jupyter.widget-view+json": {
       "version_major": 2,
       "version_minor": 0,
       "model_id": "e29316ec68ce4c72b5e0a4ef68066a9f"
      }
     },
     "metadata": {},
     "output_type": "display_data"
    },
    {
     "name": "stderr",
     "output_type": "stream",
     "text": [
      "Python(96969) MallocStackLogging: can't turn off malloc stack logging because it was not enabled.\n",
      "Python(96970) MallocStackLogging: can't turn off malloc stack logging because it was not enabled.\n",
      "Python(96971) MallocStackLogging: can't turn off malloc stack logging because it was not enabled.\n",
      "Python(96972) MallocStackLogging: can't turn off malloc stack logging because it was not enabled.\n",
      "Python(96973) MallocStackLogging: can't turn off malloc stack logging because it was not enabled.\n",
      "Python(96974) MallocStackLogging: can't turn off malloc stack logging because it was not enabled.\n",
      "Python(96975) MallocStackLogging: can't turn off malloc stack logging because it was not enabled.\n",
      "Python(96976) MallocStackLogging: can't turn off malloc stack logging because it was not enabled.\n",
      "Python(96983) MallocStackLogging: can't turn off malloc stack logging because it was not enabled.\n"
     ]
    },
    {
     "data": {
      "text/plain": [
       "VBox(children=(HBox(children=(IntProgress(value=0, description='0.00%', max=13), Label(value='0 / 13'))), HBox…"
      ],
      "application/vnd.jupyter.widget-view+json": {
       "version_major": 2,
       "version_minor": 0,
       "model_id": "2f85c3ae031c45d78189f7f23c95be3e"
      }
     },
     "metadata": {},
     "output_type": "display_data"
    },
    {
     "name": "stderr",
     "output_type": "stream",
     "text": [
      "Python(96984) MallocStackLogging: can't turn off malloc stack logging because it was not enabled.\n",
      "Python(96985) MallocStackLogging: can't turn off malloc stack logging because it was not enabled.\n",
      "Python(96986) MallocStackLogging: can't turn off malloc stack logging because it was not enabled.\n",
      "Python(96987) MallocStackLogging: can't turn off malloc stack logging because it was not enabled.\n",
      "Python(96988) MallocStackLogging: can't turn off malloc stack logging because it was not enabled.\n",
      "Python(96989) MallocStackLogging: can't turn off malloc stack logging because it was not enabled.\n",
      "Python(96990) MallocStackLogging: can't turn off malloc stack logging because it was not enabled.\n",
      "Python(96991) MallocStackLogging: can't turn off malloc stack logging because it was not enabled.\n"
     ]
    },
    {
     "name": "stdout",
     "output_type": "stream",
     "text": [
      "Testing model: en_core_web_lg\n"
     ]
    },
    {
     "name": "stderr",
     "output_type": "stream",
     "text": [
      "Python(96995) MallocStackLogging: can't turn off malloc stack logging because it was not enabled.\n"
     ]
    },
    {
     "data": {
      "text/plain": [
       "VBox(children=(HBox(children=(IntProgress(value=0, description='0.00%', max=13), Label(value='0 / 13'))), HBox…"
      ],
      "application/vnd.jupyter.widget-view+json": {
       "version_major": 2,
       "version_minor": 0,
       "model_id": "b702a7acd55446a589942134a52def01"
      }
     },
     "metadata": {},
     "output_type": "display_data"
    },
    {
     "name": "stderr",
     "output_type": "stream",
     "text": [
      "Python(96996) MallocStackLogging: can't turn off malloc stack logging because it was not enabled.\n",
      "Python(96997) MallocStackLogging: can't turn off malloc stack logging because it was not enabled.\n",
      "Python(96998) MallocStackLogging: can't turn off malloc stack logging because it was not enabled.\n",
      "Python(96999) MallocStackLogging: can't turn off malloc stack logging because it was not enabled.\n",
      "Python(97000) MallocStackLogging: can't turn off malloc stack logging because it was not enabled.\n",
      "Python(97001) MallocStackLogging: can't turn off malloc stack logging because it was not enabled.\n",
      "Python(97002) MallocStackLogging: can't turn off malloc stack logging because it was not enabled.\n",
      "Python(97003) MallocStackLogging: can't turn off malloc stack logging because it was not enabled.\n",
      "Python(97022) MallocStackLogging: can't turn off malloc stack logging because it was not enabled.\n"
     ]
    },
    {
     "data": {
      "text/plain": [
       "VBox(children=(HBox(children=(IntProgress(value=0, description='0.00%', max=13), Label(value='0 / 13'))), HBox…"
      ],
      "application/vnd.jupyter.widget-view+json": {
       "version_major": 2,
       "version_minor": 0,
       "model_id": "8642695fb1dd4c4facd1bf9359d0b14b"
      }
     },
     "metadata": {},
     "output_type": "display_data"
    },
    {
     "name": "stderr",
     "output_type": "stream",
     "text": [
      "Python(97023) MallocStackLogging: can't turn off malloc stack logging because it was not enabled.\n",
      "Python(97024) MallocStackLogging: can't turn off malloc stack logging because it was not enabled.\n",
      "Python(97025) MallocStackLogging: can't turn off malloc stack logging because it was not enabled.\n",
      "Python(97026) MallocStackLogging: can't turn off malloc stack logging because it was not enabled.\n",
      "Python(97027) MallocStackLogging: can't turn off malloc stack logging because it was not enabled.\n",
      "Python(97028) MallocStackLogging: can't turn off malloc stack logging because it was not enabled.\n",
      "Python(97029) MallocStackLogging: can't turn off malloc stack logging because it was not enabled.\n",
      "Python(97030) MallocStackLogging: can't turn off malloc stack logging because it was not enabled.\n"
     ]
    },
    {
     "name": "stdout",
     "output_type": "stream",
     "text": [
      "Testing model: en_core_web_trf\n",
      "❌ en_core_web_trf failed: [E002] Can't find factory for 'curated_transformer' for language English (en). This usually happens when spaCy calls `nlp.create_pipe` with a custom component name that's not registered on the current language class. If you're using a custom component, make sure you've added the decorator `@Language.component` (for function components) or `@Language.factory` (for class components).\n",
      "\n",
      "Available factories: attribute_ruler, tok2vec, merge_noun_chunks, merge_entities, merge_subtokens, token_splitter, doc_cleaner, parser, beam_parser, lemmatizer, trainable_lemmatizer, entity_linker, entity_ruler, tagger, morphologizer, ner, beam_ner, senter, sentencizer, spancat, spancat_singlelabel, span_finder, future_entity_ruler, span_ruler, textcat, textcat_multilabel, en.lemmatizer\n",
      "Testing model: en_core_sci_md\n"
     ]
    },
    {
     "name": "stderr",
     "output_type": "stream",
     "text": [
      "/Users/daniel.levin/Library/Mobile Documents/com~apple~CloudDocs/MA/Semester_2/Advanced Information Retrieval/AIR_SS25/venv/lib/python3.11/site-packages/spacy/util.py:910: UserWarning: [W095] Model 'en_core_sci_md' (0.5.1) was trained with spaCy v3.4.1 and may not be 100% compatible with the current version (3.7.5). If you see errors or degraded performance, download a newer compatible model or retrain your custom model with the current spaCy version. For more details and available updates, run: python -m spacy validate\n",
      "  warnings.warn(warn_msg)\n",
      "Python(97037) MallocStackLogging: can't turn off malloc stack logging because it was not enabled.\n"
     ]
    },
    {
     "data": {
      "text/plain": [
       "VBox(children=(HBox(children=(IntProgress(value=0, description='0.00%', max=13), Label(value='0 / 13'))), HBox…"
      ],
      "application/vnd.jupyter.widget-view+json": {
       "version_major": 2,
       "version_minor": 0,
       "model_id": "06bf891b1c0f41009b2bd76f46cc6196"
      }
     },
     "metadata": {},
     "output_type": "display_data"
    },
    {
     "name": "stderr",
     "output_type": "stream",
     "text": [
      "Python(97038) MallocStackLogging: can't turn off malloc stack logging because it was not enabled.\n",
      "Python(97039) MallocStackLogging: can't turn off malloc stack logging because it was not enabled.\n",
      "Python(97040) MallocStackLogging: can't turn off malloc stack logging because it was not enabled.\n",
      "Python(97041) MallocStackLogging: can't turn off malloc stack logging because it was not enabled.\n",
      "Python(97042) MallocStackLogging: can't turn off malloc stack logging because it was not enabled.\n",
      "Python(97043) MallocStackLogging: can't turn off malloc stack logging because it was not enabled.\n",
      "Python(97044) MallocStackLogging: can't turn off malloc stack logging because it was not enabled.\n",
      "Python(97045) MallocStackLogging: can't turn off malloc stack logging because it was not enabled.\n",
      "Python(97474) MallocStackLogging: can't turn off malloc stack logging because it was not enabled.\n"
     ]
    },
    {
     "data": {
      "text/plain": [
       "VBox(children=(HBox(children=(IntProgress(value=0, description='0.00%', max=13), Label(value='0 / 13'))), HBox…"
      ],
      "application/vnd.jupyter.widget-view+json": {
       "version_major": 2,
       "version_minor": 0,
       "model_id": "e02deb0bb70a4dc799cc0a8f4113f9fb"
      }
     },
     "metadata": {},
     "output_type": "display_data"
    },
    {
     "name": "stderr",
     "output_type": "stream",
     "text": [
      "Python(97475) MallocStackLogging: can't turn off malloc stack logging because it was not enabled.\n",
      "Python(97476) MallocStackLogging: can't turn off malloc stack logging because it was not enabled.\n",
      "Python(97477) MallocStackLogging: can't turn off malloc stack logging because it was not enabled.\n",
      "Python(97478) MallocStackLogging: can't turn off malloc stack logging because it was not enabled.\n",
      "Python(97479) MallocStackLogging: can't turn off malloc stack logging because it was not enabled.\n",
      "Python(97480) MallocStackLogging: can't turn off malloc stack logging because it was not enabled.\n",
      "Python(97482) MallocStackLogging: can't turn off malloc stack logging because it was not enabled.\n",
      "Python(97483) MallocStackLogging: can't turn off malloc stack logging because it was not enabled.\n"
     ]
    },
    {
     "data": {
      "text/plain": [
       "                  1         5         10\n",
       "en_core_web_sm  0.57  0.621500  0.621500\n",
       "en_core_web_md  0.58  0.621667  0.621667\n",
       "en_core_web_lg  0.58  0.611500  0.611500\n",
       "en_core_sci_md  0.55  0.616167  0.616167"
      ],
      "text/html": [
       "<div>\n",
       "<style scoped>\n",
       "    .dataframe tbody tr th:only-of-type {\n",
       "        vertical-align: middle;\n",
       "    }\n",
       "\n",
       "    .dataframe tbody tr th {\n",
       "        vertical-align: top;\n",
       "    }\n",
       "\n",
       "    .dataframe thead th {\n",
       "        text-align: right;\n",
       "    }\n",
       "</style>\n",
       "<table border=\"1\" class=\"dataframe\">\n",
       "  <thead>\n",
       "    <tr style=\"text-align: right;\">\n",
       "      <th></th>\n",
       "      <th>1</th>\n",
       "      <th>5</th>\n",
       "      <th>10</th>\n",
       "    </tr>\n",
       "  </thead>\n",
       "  <tbody>\n",
       "    <tr>\n",
       "      <th>en_core_web_sm</th>\n",
       "      <td>0.57</td>\n",
       "      <td>0.621500</td>\n",
       "      <td>0.621500</td>\n",
       "    </tr>\n",
       "    <tr>\n",
       "      <th>en_core_web_md</th>\n",
       "      <td>0.58</td>\n",
       "      <td>0.621667</td>\n",
       "      <td>0.621667</td>\n",
       "    </tr>\n",
       "    <tr>\n",
       "      <th>en_core_web_lg</th>\n",
       "      <td>0.58</td>\n",
       "      <td>0.611500</td>\n",
       "      <td>0.611500</td>\n",
       "    </tr>\n",
       "    <tr>\n",
       "      <th>en_core_sci_md</th>\n",
       "      <td>0.55</td>\n",
       "      <td>0.616167</td>\n",
       "      <td>0.616167</td>\n",
       "    </tr>\n",
       "  </tbody>\n",
       "</table>\n",
       "</div>"
      ]
     },
     "execution_count": 82,
     "metadata": {},
     "output_type": "execute_result"
    }
   ],
   "execution_count": 82
  },
  {
   "cell_type": "markdown",
   "metadata": {
    "id": "RazcRTV84KQC"
   },
   "source": "# 5) Exporting results to prepare the submission on Codalab"
  },
  {
   "cell_type": "code",
   "execution_count": 43,
   "metadata": {
    "executionInfo": {
     "elapsed": 39,
     "status": "ok",
     "timestamp": 1742976603546,
     "user": {
      "displayName": "Yavuz",
      "userId": "01318046262282431930"
     },
     "user_tz": -60
    },
    "id": "DFng4ocDw3Hk"
   },
   "outputs": [],
   "source": [
    "df_query_dev['preds'] = df_query_dev['bm25_topk'].apply(lambda x: x[:5])"
   ]
  },
  {
   "cell_type": "code",
   "execution_count": 44,
   "metadata": {
    "executionInfo": {
     "elapsed": 13,
     "status": "ok",
     "timestamp": 1742976608184,
     "user": {
      "displayName": "Yavuz",
      "userId": "01318046262282431930"
     },
     "user_tz": -60
    },
    "id": "nAVBQYh_xP8O"
   },
   "outputs": [],
   "source": [
    "df_query_dev[['post_id', 'preds']].to_csv('predictions.tsv', index=None, sep='\\t')"
   ]
  }
 ],
 "metadata": {
  "colab": {
   "provenance": []
  },
  "kernelspec": {
   "display_name": "Python 3 (ipykernel)",
   "name": "python3",
   "language": "python"
  },
  "language_info": {
   "codemirror_mode": {
    "name": "ipython",
    "version": 3
   },
   "file_extension": ".py",
   "mimetype": "text/x-python",
   "name": "python",
   "nbconvert_exporter": "python",
   "pygments_lexer": "ipython3",
   "version": "3.11.5"
  }
 },
 "nbformat": 4,
 "nbformat_minor": 0
}
