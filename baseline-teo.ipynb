{
  "nbformat": 4,
  "nbformat_minor": 0,
  "metadata": {
    "colab": {
      "provenance": [],
      "authorship_tag": "ABX9TyNZEohcQiVxTINkC42q7mmR",
      "include_colab_link": true
    },
    "kernelspec": {
      "name": "python3",
      "display_name": "Python 3"
    },
    "language_info": {
      "name": "python"
    }
  },
  "cells": [
    {
      "cell_type": "markdown",
      "metadata": {
        "id": "view-in-github",
        "colab_type": "text"
      },
      "source": [
        "<a href=\"https://colab.research.google.com/github/ikc-arya/AIR_SS25/blob/main/baseline-teo.ipynb\" target=\"_parent\"><img src=\"https://colab.research.google.com/assets/colab-badge.svg\" alt=\"Open In Colab\"/></a>"
      ]
    },
    {
      "cell_type": "markdown",
      "metadata": {
        "id": "MfnQvGfvtH1w"
      },
      "source": [
        "# Getting started\n",
        "\n",
        "### CLEF 2025 - CheckThat! Lab  - Task 4 Scientific Web Discourse - Subtask 4b (Scientific Claim Source Retrieval)\n",
        "\n",
        "This notebook enables participants of subtask 4b to quickly get started. It includes the following:\n",
        "- Code to upload data, including:\n",
        "    - code to upload the collection set (CORD-19 academic papers' metadata)\n",
        "    - code to upload the query set (tweets with implicit references to CORD-19 papers)\n",
        "- Code to run a baseline retrieval model (BM25)\n",
        "- Code to evaluate the baseline model\n",
        "\n",
        "Participants are free to use this notebook and add their own models for the competition."
      ]
    },
    {
      "cell_type": "markdown",
      "metadata": {
        "id": "vpDCfBMouNAL"
      },
      "source": [
        "# 1) Importing data"
      ]
    },
    {
      "cell_type": "code",
      "execution_count": null,
      "metadata": {
        "id": "rQPqDKP_QHFM"
      },
      "outputs": [],
      "source": [
        "import numpy as np\n",
        "import pandas as pd"
      ]
    },
    {
      "cell_type": "markdown",
      "metadata": {
        "id": "u8N7h9BhQI5m"
      },
      "source": [
        "## 1.a) Import the collection set\n",
        "The collection set contains metadata of CORD-19 academic papers.\n",
        "\n",
        "The preprocessed and filtered CORD-19 dataset is available on the Gitlab repository here: https://gitlab.com/checkthat_lab/clef2025-checkthat-lab/-/tree/main/task4/subtask_4b\n",
        "\n",
        "Participants should first download the file then upload it on the Google Colab session with the following steps.\n"
      ]
    },
    {
      "cell_type": "code",
      "execution_count": null,
      "metadata": {
        "id": "2GQI4HcKR6hS"
      },
      "outputs": [],
      "source": [
        "# 1) Download the collection set from the Gitlab repository: https://gitlab.com/checkthat_lab/clef2025-checkthat-lab/-/tree/main/task4/subtask_4b\n",
        "# 2) Drag and drop the downloaded file to the \"Files\" section (left vertical menu on Colab)\n",
        "# 3) Modify the path to your local file path\n",
        "PATH_COLLECTION_DATA = './sample_data/subtask4b_collection_data.pkl' #MODIFY PATH"
      ]
    },
    {
      "cell_type": "code",
      "execution_count": null,
      "metadata": {
        "id": "SYBB3UYbMwTA"
      },
      "outputs": [],
      "source": [
        "df_collection = pd.read_pickle(PATH_COLLECTION_DATA)"
      ]
    },
    {
      "cell_type": "code",
      "execution_count": null,
      "metadata": {
        "colab": {
          "base_uri": "https://localhost:8080/"
        },
        "id": "4v3lygNOQQSn",
        "outputId": "e5e939aa-2d7a-4190-acbd-b80c27a50f73"
      },
      "outputs": [
        {
          "output_type": "stream",
          "name": "stdout",
          "text": [
            "<class 'pandas.core.frame.DataFrame'>\n",
            "Index: 7718 entries, 162 to 1056448\n",
            "Data columns (total 17 columns):\n",
            " #   Column            Non-Null Count  Dtype         \n",
            "---  ------            --------------  -----         \n",
            " 0   cord_uid          7718 non-null   object        \n",
            " 1   source_x          7718 non-null   object        \n",
            " 2   title             7718 non-null   object        \n",
            " 3   doi               7677 non-null   object        \n",
            " 4   pmcid             4959 non-null   object        \n",
            " 5   pubmed_id         6233 non-null   object        \n",
            " 6   license           7718 non-null   object        \n",
            " 7   abstract          7718 non-null   object        \n",
            " 8   publish_time      7715 non-null   object        \n",
            " 9   authors           7674 non-null   object        \n",
            " 10  journal           6668 non-null   object        \n",
            " 11  mag_id            0 non-null      float64       \n",
            " 12  who_covidence_id  528 non-null    object        \n",
            " 13  arxiv_id          20 non-null     object        \n",
            " 14  label             7718 non-null   object        \n",
            " 15  time              7715 non-null   datetime64[ns]\n",
            " 16  timet             7718 non-null   int64         \n",
            "dtypes: datetime64[ns](1), float64(1), int64(1), object(14)\n",
            "memory usage: 1.1+ MB\n"
          ]
        }
      ],
      "source": [
        "df_collection.info()"
      ]
    },
    {
      "cell_type": "code",
      "execution_count": null,
      "metadata": {
        "colab": {
          "base_uri": "https://localhost:8080/",
          "height": 608
        },
        "id": "9veNFFGDZRx7",
        "outputId": "4bb11f5f-cc2b-458b-ad9d-5c2aa7f6dc2d"
      },
      "outputs": [
        {
          "output_type": "execute_result",
          "data": {
            "text/plain": [
              "      cord_uid source_x                                              title  \\\n",
              "162   umvrwgaw      PMC  Professional and Home-Made Face Masks Reduce E...   \n",
              "611   spiud6ok      PMC                               The Failure of R (0)   \n",
              "918   aclzp3iy      PMC  Pulmonary sequelae in a patient recovered from...   \n",
              "993   ycxyn2a2      PMC  What was the primary mode of smallpox transmis...   \n",
              "1053  zxe95qy9      PMC  Lessons from the History of Quarantine, from P...   \n",
              "\n",
              "                               doi       pmcid pubmed_id      license  \\\n",
              "162   10.1371/journal.pone.0002618  PMC2440799  18612429        cc-by   \n",
              "611            10.1155/2011/527610  PMC3157160  21860658        cc-by   \n",
              "918        10.4103/0970-2113.99118  PMC3424870  22919170  cc-by-nc-sa   \n",
              "993       10.3389/fcimb.2012.00150  PMC3509329  23226686        cc-by   \n",
              "1053        10.3201/eid1902.120312  PMC3559034  23343512        no-cc   \n",
              "\n",
              "                                               abstract publish_time  \\\n",
              "162   BACKGROUND: Governments are preparing for a po...   2008-07-09   \n",
              "611   The basic reproductive ratio, R (0), is one of...   2011-08-16   \n",
              "918   The pandemic of swine flu (H1N1) influenza spr...         2012   \n",
              "993   The mode of infection transmission has profoun...   2012-11-29   \n",
              "1053  In the new millennium, the centuries-old strat...   2013-02-03   \n",
              "\n",
              "                                                authors  \\\n",
              "162   van der Sande, Marianne; Teunis, Peter; Sabel,...   \n",
              "611       Li, Jing; Blakeley, Daniel; Smith?, Robert J.   \n",
              "918   Singh, Virendra; Sharma, Bharat Bhushan; Patel...   \n",
              "993                                   Milton, Donald K.   \n",
              "1053                                  Tognotti, Eugenia   \n",
              "\n",
              "                          journal  mag_id who_covidence_id arxiv_id     label  \\\n",
              "162                      PLoS One     NaN              NaN      NaN  umvrwgaw   \n",
              "611       Comput Math Methods Med     NaN              NaN      NaN  spiud6ok   \n",
              "918                    Lung India     NaN              NaN      NaN  aclzp3iy   \n",
              "993   Front Cell Infect Microbiol     NaN              NaN      NaN  ycxyn2a2   \n",
              "1053             Emerg Infect Dis     NaN              NaN      NaN  zxe95qy9   \n",
              "\n",
              "           time       timet  \n",
              "162  2008-07-09  1215561600  \n",
              "611  2011-08-16  1313452800  \n",
              "918  2012-01-01  1325376000  \n",
              "993  2012-11-29  1354147200  \n",
              "1053 2013-02-03  1359849600  "
            ],
            "text/html": [
              "\n",
              "  <div id=\"df-9f98e169-8a7a-42f9-bef7-6253a46270d7\" class=\"colab-df-container\">\n",
              "    <div>\n",
              "<style scoped>\n",
              "    .dataframe tbody tr th:only-of-type {\n",
              "        vertical-align: middle;\n",
              "    }\n",
              "\n",
              "    .dataframe tbody tr th {\n",
              "        vertical-align: top;\n",
              "    }\n",
              "\n",
              "    .dataframe thead th {\n",
              "        text-align: right;\n",
              "    }\n",
              "</style>\n",
              "<table border=\"1\" class=\"dataframe\">\n",
              "  <thead>\n",
              "    <tr style=\"text-align: right;\">\n",
              "      <th></th>\n",
              "      <th>cord_uid</th>\n",
              "      <th>source_x</th>\n",
              "      <th>title</th>\n",
              "      <th>doi</th>\n",
              "      <th>pmcid</th>\n",
              "      <th>pubmed_id</th>\n",
              "      <th>license</th>\n",
              "      <th>abstract</th>\n",
              "      <th>publish_time</th>\n",
              "      <th>authors</th>\n",
              "      <th>journal</th>\n",
              "      <th>mag_id</th>\n",
              "      <th>who_covidence_id</th>\n",
              "      <th>arxiv_id</th>\n",
              "      <th>label</th>\n",
              "      <th>time</th>\n",
              "      <th>timet</th>\n",
              "    </tr>\n",
              "  </thead>\n",
              "  <tbody>\n",
              "    <tr>\n",
              "      <th>162</th>\n",
              "      <td>umvrwgaw</td>\n",
              "      <td>PMC</td>\n",
              "      <td>Professional and Home-Made Face Masks Reduce E...</td>\n",
              "      <td>10.1371/journal.pone.0002618</td>\n",
              "      <td>PMC2440799</td>\n",
              "      <td>18612429</td>\n",
              "      <td>cc-by</td>\n",
              "      <td>BACKGROUND: Governments are preparing for a po...</td>\n",
              "      <td>2008-07-09</td>\n",
              "      <td>van der Sande, Marianne; Teunis, Peter; Sabel,...</td>\n",
              "      <td>PLoS One</td>\n",
              "      <td>NaN</td>\n",
              "      <td>NaN</td>\n",
              "      <td>NaN</td>\n",
              "      <td>umvrwgaw</td>\n",
              "      <td>2008-07-09</td>\n",
              "      <td>1215561600</td>\n",
              "    </tr>\n",
              "    <tr>\n",
              "      <th>611</th>\n",
              "      <td>spiud6ok</td>\n",
              "      <td>PMC</td>\n",
              "      <td>The Failure of R (0)</td>\n",
              "      <td>10.1155/2011/527610</td>\n",
              "      <td>PMC3157160</td>\n",
              "      <td>21860658</td>\n",
              "      <td>cc-by</td>\n",
              "      <td>The basic reproductive ratio, R (0), is one of...</td>\n",
              "      <td>2011-08-16</td>\n",
              "      <td>Li, Jing; Blakeley, Daniel; Smith?, Robert J.</td>\n",
              "      <td>Comput Math Methods Med</td>\n",
              "      <td>NaN</td>\n",
              "      <td>NaN</td>\n",
              "      <td>NaN</td>\n",
              "      <td>spiud6ok</td>\n",
              "      <td>2011-08-16</td>\n",
              "      <td>1313452800</td>\n",
              "    </tr>\n",
              "    <tr>\n",
              "      <th>918</th>\n",
              "      <td>aclzp3iy</td>\n",
              "      <td>PMC</td>\n",
              "      <td>Pulmonary sequelae in a patient recovered from...</td>\n",
              "      <td>10.4103/0970-2113.99118</td>\n",
              "      <td>PMC3424870</td>\n",
              "      <td>22919170</td>\n",
              "      <td>cc-by-nc-sa</td>\n",
              "      <td>The pandemic of swine flu (H1N1) influenza spr...</td>\n",
              "      <td>2012</td>\n",
              "      <td>Singh, Virendra; Sharma, Bharat Bhushan; Patel...</td>\n",
              "      <td>Lung India</td>\n",
              "      <td>NaN</td>\n",
              "      <td>NaN</td>\n",
              "      <td>NaN</td>\n",
              "      <td>aclzp3iy</td>\n",
              "      <td>2012-01-01</td>\n",
              "      <td>1325376000</td>\n",
              "    </tr>\n",
              "    <tr>\n",
              "      <th>993</th>\n",
              "      <td>ycxyn2a2</td>\n",
              "      <td>PMC</td>\n",
              "      <td>What was the primary mode of smallpox transmis...</td>\n",
              "      <td>10.3389/fcimb.2012.00150</td>\n",
              "      <td>PMC3509329</td>\n",
              "      <td>23226686</td>\n",
              "      <td>cc-by</td>\n",
              "      <td>The mode of infection transmission has profoun...</td>\n",
              "      <td>2012-11-29</td>\n",
              "      <td>Milton, Donald K.</td>\n",
              "      <td>Front Cell Infect Microbiol</td>\n",
              "      <td>NaN</td>\n",
              "      <td>NaN</td>\n",
              "      <td>NaN</td>\n",
              "      <td>ycxyn2a2</td>\n",
              "      <td>2012-11-29</td>\n",
              "      <td>1354147200</td>\n",
              "    </tr>\n",
              "    <tr>\n",
              "      <th>1053</th>\n",
              "      <td>zxe95qy9</td>\n",
              "      <td>PMC</td>\n",
              "      <td>Lessons from the History of Quarantine, from P...</td>\n",
              "      <td>10.3201/eid1902.120312</td>\n",
              "      <td>PMC3559034</td>\n",
              "      <td>23343512</td>\n",
              "      <td>no-cc</td>\n",
              "      <td>In the new millennium, the centuries-old strat...</td>\n",
              "      <td>2013-02-03</td>\n",
              "      <td>Tognotti, Eugenia</td>\n",
              "      <td>Emerg Infect Dis</td>\n",
              "      <td>NaN</td>\n",
              "      <td>NaN</td>\n",
              "      <td>NaN</td>\n",
              "      <td>zxe95qy9</td>\n",
              "      <td>2013-02-03</td>\n",
              "      <td>1359849600</td>\n",
              "    </tr>\n",
              "  </tbody>\n",
              "</table>\n",
              "</div>\n",
              "    <div class=\"colab-df-buttons\">\n",
              "\n",
              "  <div class=\"colab-df-container\">\n",
              "    <button class=\"colab-df-convert\" onclick=\"convertToInteractive('df-9f98e169-8a7a-42f9-bef7-6253a46270d7')\"\n",
              "            title=\"Convert this dataframe to an interactive table.\"\n",
              "            style=\"display:none;\">\n",
              "\n",
              "  <svg xmlns=\"http://www.w3.org/2000/svg\" height=\"24px\" viewBox=\"0 -960 960 960\">\n",
              "    <path d=\"M120-120v-720h720v720H120Zm60-500h600v-160H180v160Zm220 220h160v-160H400v160Zm0 220h160v-160H400v160ZM180-400h160v-160H180v160Zm440 0h160v-160H620v160ZM180-180h160v-160H180v160Zm440 0h160v-160H620v160Z\"/>\n",
              "  </svg>\n",
              "    </button>\n",
              "\n",
              "  <style>\n",
              "    .colab-df-container {\n",
              "      display:flex;\n",
              "      gap: 12px;\n",
              "    }\n",
              "\n",
              "    .colab-df-convert {\n",
              "      background-color: #E8F0FE;\n",
              "      border: none;\n",
              "      border-radius: 50%;\n",
              "      cursor: pointer;\n",
              "      display: none;\n",
              "      fill: #1967D2;\n",
              "      height: 32px;\n",
              "      padding: 0 0 0 0;\n",
              "      width: 32px;\n",
              "    }\n",
              "\n",
              "    .colab-df-convert:hover {\n",
              "      background-color: #E2EBFA;\n",
              "      box-shadow: 0px 1px 2px rgba(60, 64, 67, 0.3), 0px 1px 3px 1px rgba(60, 64, 67, 0.15);\n",
              "      fill: #174EA6;\n",
              "    }\n",
              "\n",
              "    .colab-df-buttons div {\n",
              "      margin-bottom: 4px;\n",
              "    }\n",
              "\n",
              "    [theme=dark] .colab-df-convert {\n",
              "      background-color: #3B4455;\n",
              "      fill: #D2E3FC;\n",
              "    }\n",
              "\n",
              "    [theme=dark] .colab-df-convert:hover {\n",
              "      background-color: #434B5C;\n",
              "      box-shadow: 0px 1px 3px 1px rgba(0, 0, 0, 0.15);\n",
              "      filter: drop-shadow(0px 1px 2px rgba(0, 0, 0, 0.3));\n",
              "      fill: #FFFFFF;\n",
              "    }\n",
              "  </style>\n",
              "\n",
              "    <script>\n",
              "      const buttonEl =\n",
              "        document.querySelector('#df-9f98e169-8a7a-42f9-bef7-6253a46270d7 button.colab-df-convert');\n",
              "      buttonEl.style.display =\n",
              "        google.colab.kernel.accessAllowed ? 'block' : 'none';\n",
              "\n",
              "      async function convertToInteractive(key) {\n",
              "        const element = document.querySelector('#df-9f98e169-8a7a-42f9-bef7-6253a46270d7');\n",
              "        const dataTable =\n",
              "          await google.colab.kernel.invokeFunction('convertToInteractive',\n",
              "                                                    [key], {});\n",
              "        if (!dataTable) return;\n",
              "\n",
              "        const docLinkHtml = 'Like what you see? Visit the ' +\n",
              "          '<a target=\"_blank\" href=https://colab.research.google.com/notebooks/data_table.ipynb>data table notebook</a>'\n",
              "          + ' to learn more about interactive tables.';\n",
              "        element.innerHTML = '';\n",
              "        dataTable['output_type'] = 'display_data';\n",
              "        await google.colab.output.renderOutput(dataTable, element);\n",
              "        const docLink = document.createElement('div');\n",
              "        docLink.innerHTML = docLinkHtml;\n",
              "        element.appendChild(docLink);\n",
              "      }\n",
              "    </script>\n",
              "  </div>\n",
              "\n",
              "\n",
              "<div id=\"df-6fef49cf-05a4-449e-9f8c-4e9586f237c8\">\n",
              "  <button class=\"colab-df-quickchart\" onclick=\"quickchart('df-6fef49cf-05a4-449e-9f8c-4e9586f237c8')\"\n",
              "            title=\"Suggest charts\"\n",
              "            style=\"display:none;\">\n",
              "\n",
              "<svg xmlns=\"http://www.w3.org/2000/svg\" height=\"24px\"viewBox=\"0 0 24 24\"\n",
              "     width=\"24px\">\n",
              "    <g>\n",
              "        <path d=\"M19 3H5c-1.1 0-2 .9-2 2v14c0 1.1.9 2 2 2h14c1.1 0 2-.9 2-2V5c0-1.1-.9-2-2-2zM9 17H7v-7h2v7zm4 0h-2V7h2v10zm4 0h-2v-4h2v4z\"/>\n",
              "    </g>\n",
              "</svg>\n",
              "  </button>\n",
              "\n",
              "<style>\n",
              "  .colab-df-quickchart {\n",
              "      --bg-color: #E8F0FE;\n",
              "      --fill-color: #1967D2;\n",
              "      --hover-bg-color: #E2EBFA;\n",
              "      --hover-fill-color: #174EA6;\n",
              "      --disabled-fill-color: #AAA;\n",
              "      --disabled-bg-color: #DDD;\n",
              "  }\n",
              "\n",
              "  [theme=dark] .colab-df-quickchart {\n",
              "      --bg-color: #3B4455;\n",
              "      --fill-color: #D2E3FC;\n",
              "      --hover-bg-color: #434B5C;\n",
              "      --hover-fill-color: #FFFFFF;\n",
              "      --disabled-bg-color: #3B4455;\n",
              "      --disabled-fill-color: #666;\n",
              "  }\n",
              "\n",
              "  .colab-df-quickchart {\n",
              "    background-color: var(--bg-color);\n",
              "    border: none;\n",
              "    border-radius: 50%;\n",
              "    cursor: pointer;\n",
              "    display: none;\n",
              "    fill: var(--fill-color);\n",
              "    height: 32px;\n",
              "    padding: 0;\n",
              "    width: 32px;\n",
              "  }\n",
              "\n",
              "  .colab-df-quickchart:hover {\n",
              "    background-color: var(--hover-bg-color);\n",
              "    box-shadow: 0 1px 2px rgba(60, 64, 67, 0.3), 0 1px 3px 1px rgba(60, 64, 67, 0.15);\n",
              "    fill: var(--button-hover-fill-color);\n",
              "  }\n",
              "\n",
              "  .colab-df-quickchart-complete:disabled,\n",
              "  .colab-df-quickchart-complete:disabled:hover {\n",
              "    background-color: var(--disabled-bg-color);\n",
              "    fill: var(--disabled-fill-color);\n",
              "    box-shadow: none;\n",
              "  }\n",
              "\n",
              "  .colab-df-spinner {\n",
              "    border: 2px solid var(--fill-color);\n",
              "    border-color: transparent;\n",
              "    border-bottom-color: var(--fill-color);\n",
              "    animation:\n",
              "      spin 1s steps(1) infinite;\n",
              "  }\n",
              "\n",
              "  @keyframes spin {\n",
              "    0% {\n",
              "      border-color: transparent;\n",
              "      border-bottom-color: var(--fill-color);\n",
              "      border-left-color: var(--fill-color);\n",
              "    }\n",
              "    20% {\n",
              "      border-color: transparent;\n",
              "      border-left-color: var(--fill-color);\n",
              "      border-top-color: var(--fill-color);\n",
              "    }\n",
              "    30% {\n",
              "      border-color: transparent;\n",
              "      border-left-color: var(--fill-color);\n",
              "      border-top-color: var(--fill-color);\n",
              "      border-right-color: var(--fill-color);\n",
              "    }\n",
              "    40% {\n",
              "      border-color: transparent;\n",
              "      border-right-color: var(--fill-color);\n",
              "      border-top-color: var(--fill-color);\n",
              "    }\n",
              "    60% {\n",
              "      border-color: transparent;\n",
              "      border-right-color: var(--fill-color);\n",
              "    }\n",
              "    80% {\n",
              "      border-color: transparent;\n",
              "      border-right-color: var(--fill-color);\n",
              "      border-bottom-color: var(--fill-color);\n",
              "    }\n",
              "    90% {\n",
              "      border-color: transparent;\n",
              "      border-bottom-color: var(--fill-color);\n",
              "    }\n",
              "  }\n",
              "</style>\n",
              "\n",
              "  <script>\n",
              "    async function quickchart(key) {\n",
              "      const quickchartButtonEl =\n",
              "        document.querySelector('#' + key + ' button');\n",
              "      quickchartButtonEl.disabled = true;  // To prevent multiple clicks.\n",
              "      quickchartButtonEl.classList.add('colab-df-spinner');\n",
              "      try {\n",
              "        const charts = await google.colab.kernel.invokeFunction(\n",
              "            'suggestCharts', [key], {});\n",
              "      } catch (error) {\n",
              "        console.error('Error during call to suggestCharts:', error);\n",
              "      }\n",
              "      quickchartButtonEl.classList.remove('colab-df-spinner');\n",
              "      quickchartButtonEl.classList.add('colab-df-quickchart-complete');\n",
              "    }\n",
              "    (() => {\n",
              "      let quickchartButtonEl =\n",
              "        document.querySelector('#df-6fef49cf-05a4-449e-9f8c-4e9586f237c8 button');\n",
              "      quickchartButtonEl.style.display =\n",
              "        google.colab.kernel.accessAllowed ? 'block' : 'none';\n",
              "    })();\n",
              "  </script>\n",
              "</div>\n",
              "\n",
              "    </div>\n",
              "  </div>\n"
            ],
            "application/vnd.google.colaboratory.intrinsic+json": {
              "type": "dataframe",
              "variable_name": "df_collection",
              "repr_error": "0"
            }
          },
          "metadata": {},
          "execution_count": 7
        }
      ],
      "source": [
        "df_collection.head()"
      ]
    },
    {
      "cell_type": "markdown",
      "metadata": {
        "id": "AAUiDU0xXLBt"
      },
      "source": [
        "## 1.b) Import the query set\n",
        "\n",
        "The query set contains tweets with implicit references to academic papers from the collection set.\n",
        "\n",
        "The preprocessed query set is available on the Gitlab repository here: https://gitlab.com/checkthat_lab/clef2025-checkthat-lab/-/tree/main/task4/subtask_4b\n",
        "\n",
        "Participants should first download the file then upload it on the Google Colab session with the following steps."
      ]
    },
    {
      "cell_type": "code",
      "execution_count": null,
      "metadata": {
        "id": "v8gwkZDSXPsd"
      },
      "outputs": [],
      "source": [
        "# 1) Download the query tweets from the Gitlab repository: https://gitlab.com/checkthat_lab/clef2025-checkthat-lab/-/tree/main/task4/subtask_4b?ref_type=heads\n",
        "# 2) Drag and drop the downloaded file to the \"Files\" section (left vertical menu on Colab)\n",
        "# 3) Modify the path to your local file path\n",
        "PATH_QUERY_TRAIN_DATA = './sample_data/subtask4b_query_tweets_train.tsv' #MODIFY PATH\n",
        "PATH_QUERY_DEV_DATA = './sample_data/subtask4b_query_tweets_dev.tsv' #MODIFY PATH"
      ]
    },
    {
      "cell_type": "code",
      "execution_count": null,
      "metadata": {
        "id": "VqxjYq2tYDmE"
      },
      "outputs": [],
      "source": [
        "df_query_train = pd.read_csv(PATH_QUERY_TRAIN_DATA, sep = '\\t')\n",
        "df_query_dev = pd.read_csv(PATH_QUERY_DEV_DATA, sep = '\\t')"
      ]
    },
    {
      "cell_type": "code",
      "execution_count": null,
      "metadata": {
        "id": "szMEK3OkYLvX",
        "colab": {
          "base_uri": "https://localhost:8080/",
          "height": 206
        },
        "outputId": "cb521faa-b3b9-4d5b-81a5-020751aaf7e8"
      },
      "outputs": [
        {
          "output_type": "execute_result",
          "data": {
            "text/plain": [
              "   post_id                                         tweet_text  cord_uid\n",
              "0        0  Oral care in rehabilitation medicine: oral vul...  htlvpvz5\n",
              "1        1  this study isn't receiving sufficient attentio...  4kfl29ul\n",
              "2        2  thanks, xi jinping. a reminder that this study...  jtwb17u8\n",
              "3        3  Taiwan - a population of 23 million has had ju...  0w9k8iy1\n",
              "4        4  Obtaining a diagnosis of autism in lower incom...  tiqksd69"
            ],
            "text/html": [
              "\n",
              "  <div id=\"df-2a469330-92ca-44aa-8697-21e8530a6e8a\" class=\"colab-df-container\">\n",
              "    <div>\n",
              "<style scoped>\n",
              "    .dataframe tbody tr th:only-of-type {\n",
              "        vertical-align: middle;\n",
              "    }\n",
              "\n",
              "    .dataframe tbody tr th {\n",
              "        vertical-align: top;\n",
              "    }\n",
              "\n",
              "    .dataframe thead th {\n",
              "        text-align: right;\n",
              "    }\n",
              "</style>\n",
              "<table border=\"1\" class=\"dataframe\">\n",
              "  <thead>\n",
              "    <tr style=\"text-align: right;\">\n",
              "      <th></th>\n",
              "      <th>post_id</th>\n",
              "      <th>tweet_text</th>\n",
              "      <th>cord_uid</th>\n",
              "    </tr>\n",
              "  </thead>\n",
              "  <tbody>\n",
              "    <tr>\n",
              "      <th>0</th>\n",
              "      <td>0</td>\n",
              "      <td>Oral care in rehabilitation medicine: oral vul...</td>\n",
              "      <td>htlvpvz5</td>\n",
              "    </tr>\n",
              "    <tr>\n",
              "      <th>1</th>\n",
              "      <td>1</td>\n",
              "      <td>this study isn't receiving sufficient attentio...</td>\n",
              "      <td>4kfl29ul</td>\n",
              "    </tr>\n",
              "    <tr>\n",
              "      <th>2</th>\n",
              "      <td>2</td>\n",
              "      <td>thanks, xi jinping. a reminder that this study...</td>\n",
              "      <td>jtwb17u8</td>\n",
              "    </tr>\n",
              "    <tr>\n",
              "      <th>3</th>\n",
              "      <td>3</td>\n",
              "      <td>Taiwan - a population of 23 million has had ju...</td>\n",
              "      <td>0w9k8iy1</td>\n",
              "    </tr>\n",
              "    <tr>\n",
              "      <th>4</th>\n",
              "      <td>4</td>\n",
              "      <td>Obtaining a diagnosis of autism in lower incom...</td>\n",
              "      <td>tiqksd69</td>\n",
              "    </tr>\n",
              "  </tbody>\n",
              "</table>\n",
              "</div>\n",
              "    <div class=\"colab-df-buttons\">\n",
              "\n",
              "  <div class=\"colab-df-container\">\n",
              "    <button class=\"colab-df-convert\" onclick=\"convertToInteractive('df-2a469330-92ca-44aa-8697-21e8530a6e8a')\"\n",
              "            title=\"Convert this dataframe to an interactive table.\"\n",
              "            style=\"display:none;\">\n",
              "\n",
              "  <svg xmlns=\"http://www.w3.org/2000/svg\" height=\"24px\" viewBox=\"0 -960 960 960\">\n",
              "    <path d=\"M120-120v-720h720v720H120Zm60-500h600v-160H180v160Zm220 220h160v-160H400v160Zm0 220h160v-160H400v160ZM180-400h160v-160H180v160Zm440 0h160v-160H620v160ZM180-180h160v-160H180v160Zm440 0h160v-160H620v160Z\"/>\n",
              "  </svg>\n",
              "    </button>\n",
              "\n",
              "  <style>\n",
              "    .colab-df-container {\n",
              "      display:flex;\n",
              "      gap: 12px;\n",
              "    }\n",
              "\n",
              "    .colab-df-convert {\n",
              "      background-color: #E8F0FE;\n",
              "      border: none;\n",
              "      border-radius: 50%;\n",
              "      cursor: pointer;\n",
              "      display: none;\n",
              "      fill: #1967D2;\n",
              "      height: 32px;\n",
              "      padding: 0 0 0 0;\n",
              "      width: 32px;\n",
              "    }\n",
              "\n",
              "    .colab-df-convert:hover {\n",
              "      background-color: #E2EBFA;\n",
              "      box-shadow: 0px 1px 2px rgba(60, 64, 67, 0.3), 0px 1px 3px 1px rgba(60, 64, 67, 0.15);\n",
              "      fill: #174EA6;\n",
              "    }\n",
              "\n",
              "    .colab-df-buttons div {\n",
              "      margin-bottom: 4px;\n",
              "    }\n",
              "\n",
              "    [theme=dark] .colab-df-convert {\n",
              "      background-color: #3B4455;\n",
              "      fill: #D2E3FC;\n",
              "    }\n",
              "\n",
              "    [theme=dark] .colab-df-convert:hover {\n",
              "      background-color: #434B5C;\n",
              "      box-shadow: 0px 1px 3px 1px rgba(0, 0, 0, 0.15);\n",
              "      filter: drop-shadow(0px 1px 2px rgba(0, 0, 0, 0.3));\n",
              "      fill: #FFFFFF;\n",
              "    }\n",
              "  </style>\n",
              "\n",
              "    <script>\n",
              "      const buttonEl =\n",
              "        document.querySelector('#df-2a469330-92ca-44aa-8697-21e8530a6e8a button.colab-df-convert');\n",
              "      buttonEl.style.display =\n",
              "        google.colab.kernel.accessAllowed ? 'block' : 'none';\n",
              "\n",
              "      async function convertToInteractive(key) {\n",
              "        const element = document.querySelector('#df-2a469330-92ca-44aa-8697-21e8530a6e8a');\n",
              "        const dataTable =\n",
              "          await google.colab.kernel.invokeFunction('convertToInteractive',\n",
              "                                                    [key], {});\n",
              "        if (!dataTable) return;\n",
              "\n",
              "        const docLinkHtml = 'Like what you see? Visit the ' +\n",
              "          '<a target=\"_blank\" href=https://colab.research.google.com/notebooks/data_table.ipynb>data table notebook</a>'\n",
              "          + ' to learn more about interactive tables.';\n",
              "        element.innerHTML = '';\n",
              "        dataTable['output_type'] = 'display_data';\n",
              "        await google.colab.output.renderOutput(dataTable, element);\n",
              "        const docLink = document.createElement('div');\n",
              "        docLink.innerHTML = docLinkHtml;\n",
              "        element.appendChild(docLink);\n",
              "      }\n",
              "    </script>\n",
              "  </div>\n",
              "\n",
              "\n",
              "<div id=\"df-c9235f70-1361-4f48-b351-bac79c9fd901\">\n",
              "  <button class=\"colab-df-quickchart\" onclick=\"quickchart('df-c9235f70-1361-4f48-b351-bac79c9fd901')\"\n",
              "            title=\"Suggest charts\"\n",
              "            style=\"display:none;\">\n",
              "\n",
              "<svg xmlns=\"http://www.w3.org/2000/svg\" height=\"24px\"viewBox=\"0 0 24 24\"\n",
              "     width=\"24px\">\n",
              "    <g>\n",
              "        <path d=\"M19 3H5c-1.1 0-2 .9-2 2v14c0 1.1.9 2 2 2h14c1.1 0 2-.9 2-2V5c0-1.1-.9-2-2-2zM9 17H7v-7h2v7zm4 0h-2V7h2v10zm4 0h-2v-4h2v4z\"/>\n",
              "    </g>\n",
              "</svg>\n",
              "  </button>\n",
              "\n",
              "<style>\n",
              "  .colab-df-quickchart {\n",
              "      --bg-color: #E8F0FE;\n",
              "      --fill-color: #1967D2;\n",
              "      --hover-bg-color: #E2EBFA;\n",
              "      --hover-fill-color: #174EA6;\n",
              "      --disabled-fill-color: #AAA;\n",
              "      --disabled-bg-color: #DDD;\n",
              "  }\n",
              "\n",
              "  [theme=dark] .colab-df-quickchart {\n",
              "      --bg-color: #3B4455;\n",
              "      --fill-color: #D2E3FC;\n",
              "      --hover-bg-color: #434B5C;\n",
              "      --hover-fill-color: #FFFFFF;\n",
              "      --disabled-bg-color: #3B4455;\n",
              "      --disabled-fill-color: #666;\n",
              "  }\n",
              "\n",
              "  .colab-df-quickchart {\n",
              "    background-color: var(--bg-color);\n",
              "    border: none;\n",
              "    border-radius: 50%;\n",
              "    cursor: pointer;\n",
              "    display: none;\n",
              "    fill: var(--fill-color);\n",
              "    height: 32px;\n",
              "    padding: 0;\n",
              "    width: 32px;\n",
              "  }\n",
              "\n",
              "  .colab-df-quickchart:hover {\n",
              "    background-color: var(--hover-bg-color);\n",
              "    box-shadow: 0 1px 2px rgba(60, 64, 67, 0.3), 0 1px 3px 1px rgba(60, 64, 67, 0.15);\n",
              "    fill: var(--button-hover-fill-color);\n",
              "  }\n",
              "\n",
              "  .colab-df-quickchart-complete:disabled,\n",
              "  .colab-df-quickchart-complete:disabled:hover {\n",
              "    background-color: var(--disabled-bg-color);\n",
              "    fill: var(--disabled-fill-color);\n",
              "    box-shadow: none;\n",
              "  }\n",
              "\n",
              "  .colab-df-spinner {\n",
              "    border: 2px solid var(--fill-color);\n",
              "    border-color: transparent;\n",
              "    border-bottom-color: var(--fill-color);\n",
              "    animation:\n",
              "      spin 1s steps(1) infinite;\n",
              "  }\n",
              "\n",
              "  @keyframes spin {\n",
              "    0% {\n",
              "      border-color: transparent;\n",
              "      border-bottom-color: var(--fill-color);\n",
              "      border-left-color: var(--fill-color);\n",
              "    }\n",
              "    20% {\n",
              "      border-color: transparent;\n",
              "      border-left-color: var(--fill-color);\n",
              "      border-top-color: var(--fill-color);\n",
              "    }\n",
              "    30% {\n",
              "      border-color: transparent;\n",
              "      border-left-color: var(--fill-color);\n",
              "      border-top-color: var(--fill-color);\n",
              "      border-right-color: var(--fill-color);\n",
              "    }\n",
              "    40% {\n",
              "      border-color: transparent;\n",
              "      border-right-color: var(--fill-color);\n",
              "      border-top-color: var(--fill-color);\n",
              "    }\n",
              "    60% {\n",
              "      border-color: transparent;\n",
              "      border-right-color: var(--fill-color);\n",
              "    }\n",
              "    80% {\n",
              "      border-color: transparent;\n",
              "      border-right-color: var(--fill-color);\n",
              "      border-bottom-color: var(--fill-color);\n",
              "    }\n",
              "    90% {\n",
              "      border-color: transparent;\n",
              "      border-bottom-color: var(--fill-color);\n",
              "    }\n",
              "  }\n",
              "</style>\n",
              "\n",
              "  <script>\n",
              "    async function quickchart(key) {\n",
              "      const quickchartButtonEl =\n",
              "        document.querySelector('#' + key + ' button');\n",
              "      quickchartButtonEl.disabled = true;  // To prevent multiple clicks.\n",
              "      quickchartButtonEl.classList.add('colab-df-spinner');\n",
              "      try {\n",
              "        const charts = await google.colab.kernel.invokeFunction(\n",
              "            'suggestCharts', [key], {});\n",
              "      } catch (error) {\n",
              "        console.error('Error during call to suggestCharts:', error);\n",
              "      }\n",
              "      quickchartButtonEl.classList.remove('colab-df-spinner');\n",
              "      quickchartButtonEl.classList.add('colab-df-quickchart-complete');\n",
              "    }\n",
              "    (() => {\n",
              "      let quickchartButtonEl =\n",
              "        document.querySelector('#df-c9235f70-1361-4f48-b351-bac79c9fd901 button');\n",
              "      quickchartButtonEl.style.display =\n",
              "        google.colab.kernel.accessAllowed ? 'block' : 'none';\n",
              "    })();\n",
              "  </script>\n",
              "</div>\n",
              "\n",
              "    </div>\n",
              "  </div>\n"
            ],
            "application/vnd.google.colaboratory.intrinsic+json": {
              "type": "dataframe",
              "variable_name": "df_query_train",
              "summary": "{\n  \"name\": \"df_query_train\",\n  \"rows\": 12853,\n  \"fields\": [\n    {\n      \"column\": \"post_id\",\n      \"properties\": {\n        \"dtype\": \"number\",\n        \"std\": 4116,\n        \"min\": 0,\n        \"max\": 14252,\n        \"num_unique_values\": 12853,\n        \"samples\": [\n          13037,\n          8,\n          13886\n        ],\n        \"semantic_type\": \"\",\n        \"description\": \"\"\n      }\n    },\n    {\n      \"column\": \"tweet_text\",\n      \"properties\": {\n        \"dtype\": \"string\",\n        \"num_unique_values\": 12842,\n        \"samples\": [\n          \"Recent research: immunization doesn't stop prolonged covid.  19% of vaccinated healthcare professionals who contracted breakthrough illnesses developed prolonged covid\\u2014about the same percentage as those who aren't vaccinated.\",\n          \"so here\\u2019s the thing\\u2026. fabric masks don\\u2019t really work and medical masks, according to nature magazine, contain tio2 which is a banned substance and carcinogen. educate yourself.\",\n          \"if you take the \\ud83d\\udc89, your body makes spike protein that was designed to replicate the spike of the pathogen.  your body responds the same way to the \\ud83d\\udc89or the pathogen.  many people believe (because of media) that the pathogen is deadly but the \\ud83d\\udc89is harmless.  no!\"\n        ],\n        \"semantic_type\": \"\",\n        \"description\": \"\"\n      }\n    },\n    {\n      \"column\": \"cord_uid\",\n      \"properties\": {\n        \"dtype\": \"string\",\n        \"num_unique_values\": 6946,\n        \"samples\": [\n          \"swaf5pao\",\n          \"bqgifset\",\n          \"p3cxk8gd\"\n        ],\n        \"semantic_type\": \"\",\n        \"description\": \"\"\n      }\n    }\n  ]\n}"
            }
          },
          "metadata": {},
          "execution_count": 10
        }
      ],
      "source": [
        "df_query_train.head()"
      ]
    },
    {
      "cell_type": "code",
      "execution_count": null,
      "metadata": {
        "id": "aslmTTJQyL2X",
        "colab": {
          "base_uri": "https://localhost:8080/"
        },
        "outputId": "6c7d654a-c84a-4950-d6dd-6373fe756061"
      },
      "outputs": [
        {
          "output_type": "stream",
          "name": "stdout",
          "text": [
            "<class 'pandas.core.frame.DataFrame'>\n",
            "RangeIndex: 12853 entries, 0 to 12852\n",
            "Data columns (total 3 columns):\n",
            " #   Column      Non-Null Count  Dtype \n",
            "---  ------      --------------  ----- \n",
            " 0   post_id     12853 non-null  int64 \n",
            " 1   tweet_text  12853 non-null  object\n",
            " 2   cord_uid    12853 non-null  object\n",
            "dtypes: int64(1), object(2)\n",
            "memory usage: 301.4+ KB\n"
          ]
        }
      ],
      "source": [
        "df_query_train.info()"
      ]
    },
    {
      "cell_type": "code",
      "source": [
        "df_query_dev.head()"
      ],
      "metadata": {
        "colab": {
          "base_uri": "https://localhost:8080/",
          "height": 206
        },
        "id": "B5X8FwLhLY3u",
        "outputId": "26b7e120-db95-4614-e011-95a56fa75157"
      },
      "execution_count": null,
      "outputs": [
        {
          "output_type": "execute_result",
          "data": {
            "text/plain": [
              "   post_id                                         tweet_text  cord_uid\n",
              "0       16  covid recovery: this study from the usa reveal...  3qvh482o\n",
              "1       69  \"Among 139 clients exposed to two symptomatic ...  r58aohnu\n",
              "2       73  I recall early on reading that researchers who...  sts48u9i\n",
              "3       93  You know you're credible when NIH website has ...  3sr2exq9\n",
              "4       96  Resistance to antifungal medications is a grow...  ybwwmyqy"
            ],
            "text/html": [
              "\n",
              "  <div id=\"df-8636e801-df4f-4624-9339-2dddc503d3c1\" class=\"colab-df-container\">\n",
              "    <div>\n",
              "<style scoped>\n",
              "    .dataframe tbody tr th:only-of-type {\n",
              "        vertical-align: middle;\n",
              "    }\n",
              "\n",
              "    .dataframe tbody tr th {\n",
              "        vertical-align: top;\n",
              "    }\n",
              "\n",
              "    .dataframe thead th {\n",
              "        text-align: right;\n",
              "    }\n",
              "</style>\n",
              "<table border=\"1\" class=\"dataframe\">\n",
              "  <thead>\n",
              "    <tr style=\"text-align: right;\">\n",
              "      <th></th>\n",
              "      <th>post_id</th>\n",
              "      <th>tweet_text</th>\n",
              "      <th>cord_uid</th>\n",
              "    </tr>\n",
              "  </thead>\n",
              "  <tbody>\n",
              "    <tr>\n",
              "      <th>0</th>\n",
              "      <td>16</td>\n",
              "      <td>covid recovery: this study from the usa reveal...</td>\n",
              "      <td>3qvh482o</td>\n",
              "    </tr>\n",
              "    <tr>\n",
              "      <th>1</th>\n",
              "      <td>69</td>\n",
              "      <td>\"Among 139 clients exposed to two symptomatic ...</td>\n",
              "      <td>r58aohnu</td>\n",
              "    </tr>\n",
              "    <tr>\n",
              "      <th>2</th>\n",
              "      <td>73</td>\n",
              "      <td>I recall early on reading that researchers who...</td>\n",
              "      <td>sts48u9i</td>\n",
              "    </tr>\n",
              "    <tr>\n",
              "      <th>3</th>\n",
              "      <td>93</td>\n",
              "      <td>You know you're credible when NIH website has ...</td>\n",
              "      <td>3sr2exq9</td>\n",
              "    </tr>\n",
              "    <tr>\n",
              "      <th>4</th>\n",
              "      <td>96</td>\n",
              "      <td>Resistance to antifungal medications is a grow...</td>\n",
              "      <td>ybwwmyqy</td>\n",
              "    </tr>\n",
              "  </tbody>\n",
              "</table>\n",
              "</div>\n",
              "    <div class=\"colab-df-buttons\">\n",
              "\n",
              "  <div class=\"colab-df-container\">\n",
              "    <button class=\"colab-df-convert\" onclick=\"convertToInteractive('df-8636e801-df4f-4624-9339-2dddc503d3c1')\"\n",
              "            title=\"Convert this dataframe to an interactive table.\"\n",
              "            style=\"display:none;\">\n",
              "\n",
              "  <svg xmlns=\"http://www.w3.org/2000/svg\" height=\"24px\" viewBox=\"0 -960 960 960\">\n",
              "    <path d=\"M120-120v-720h720v720H120Zm60-500h600v-160H180v160Zm220 220h160v-160H400v160Zm0 220h160v-160H400v160ZM180-400h160v-160H180v160Zm440 0h160v-160H620v160ZM180-180h160v-160H180v160Zm440 0h160v-160H620v160Z\"/>\n",
              "  </svg>\n",
              "    </button>\n",
              "\n",
              "  <style>\n",
              "    .colab-df-container {\n",
              "      display:flex;\n",
              "      gap: 12px;\n",
              "    }\n",
              "\n",
              "    .colab-df-convert {\n",
              "      background-color: #E8F0FE;\n",
              "      border: none;\n",
              "      border-radius: 50%;\n",
              "      cursor: pointer;\n",
              "      display: none;\n",
              "      fill: #1967D2;\n",
              "      height: 32px;\n",
              "      padding: 0 0 0 0;\n",
              "      width: 32px;\n",
              "    }\n",
              "\n",
              "    .colab-df-convert:hover {\n",
              "      background-color: #E2EBFA;\n",
              "      box-shadow: 0px 1px 2px rgba(60, 64, 67, 0.3), 0px 1px 3px 1px rgba(60, 64, 67, 0.15);\n",
              "      fill: #174EA6;\n",
              "    }\n",
              "\n",
              "    .colab-df-buttons div {\n",
              "      margin-bottom: 4px;\n",
              "    }\n",
              "\n",
              "    [theme=dark] .colab-df-convert {\n",
              "      background-color: #3B4455;\n",
              "      fill: #D2E3FC;\n",
              "    }\n",
              "\n",
              "    [theme=dark] .colab-df-convert:hover {\n",
              "      background-color: #434B5C;\n",
              "      box-shadow: 0px 1px 3px 1px rgba(0, 0, 0, 0.15);\n",
              "      filter: drop-shadow(0px 1px 2px rgba(0, 0, 0, 0.3));\n",
              "      fill: #FFFFFF;\n",
              "    }\n",
              "  </style>\n",
              "\n",
              "    <script>\n",
              "      const buttonEl =\n",
              "        document.querySelector('#df-8636e801-df4f-4624-9339-2dddc503d3c1 button.colab-df-convert');\n",
              "      buttonEl.style.display =\n",
              "        google.colab.kernel.accessAllowed ? 'block' : 'none';\n",
              "\n",
              "      async function convertToInteractive(key) {\n",
              "        const element = document.querySelector('#df-8636e801-df4f-4624-9339-2dddc503d3c1');\n",
              "        const dataTable =\n",
              "          await google.colab.kernel.invokeFunction('convertToInteractive',\n",
              "                                                    [key], {});\n",
              "        if (!dataTable) return;\n",
              "\n",
              "        const docLinkHtml = 'Like what you see? Visit the ' +\n",
              "          '<a target=\"_blank\" href=https://colab.research.google.com/notebooks/data_table.ipynb>data table notebook</a>'\n",
              "          + ' to learn more about interactive tables.';\n",
              "        element.innerHTML = '';\n",
              "        dataTable['output_type'] = 'display_data';\n",
              "        await google.colab.output.renderOutput(dataTable, element);\n",
              "        const docLink = document.createElement('div');\n",
              "        docLink.innerHTML = docLinkHtml;\n",
              "        element.appendChild(docLink);\n",
              "      }\n",
              "    </script>\n",
              "  </div>\n",
              "\n",
              "\n",
              "<div id=\"df-c58f93d5-9f69-4838-91fc-a6c56efb13ca\">\n",
              "  <button class=\"colab-df-quickchart\" onclick=\"quickchart('df-c58f93d5-9f69-4838-91fc-a6c56efb13ca')\"\n",
              "            title=\"Suggest charts\"\n",
              "            style=\"display:none;\">\n",
              "\n",
              "<svg xmlns=\"http://www.w3.org/2000/svg\" height=\"24px\"viewBox=\"0 0 24 24\"\n",
              "     width=\"24px\">\n",
              "    <g>\n",
              "        <path d=\"M19 3H5c-1.1 0-2 .9-2 2v14c0 1.1.9 2 2 2h14c1.1 0 2-.9 2-2V5c0-1.1-.9-2-2-2zM9 17H7v-7h2v7zm4 0h-2V7h2v10zm4 0h-2v-4h2v4z\"/>\n",
              "    </g>\n",
              "</svg>\n",
              "  </button>\n",
              "\n",
              "<style>\n",
              "  .colab-df-quickchart {\n",
              "      --bg-color: #E8F0FE;\n",
              "      --fill-color: #1967D2;\n",
              "      --hover-bg-color: #E2EBFA;\n",
              "      --hover-fill-color: #174EA6;\n",
              "      --disabled-fill-color: #AAA;\n",
              "      --disabled-bg-color: #DDD;\n",
              "  }\n",
              "\n",
              "  [theme=dark] .colab-df-quickchart {\n",
              "      --bg-color: #3B4455;\n",
              "      --fill-color: #D2E3FC;\n",
              "      --hover-bg-color: #434B5C;\n",
              "      --hover-fill-color: #FFFFFF;\n",
              "      --disabled-bg-color: #3B4455;\n",
              "      --disabled-fill-color: #666;\n",
              "  }\n",
              "\n",
              "  .colab-df-quickchart {\n",
              "    background-color: var(--bg-color);\n",
              "    border: none;\n",
              "    border-radius: 50%;\n",
              "    cursor: pointer;\n",
              "    display: none;\n",
              "    fill: var(--fill-color);\n",
              "    height: 32px;\n",
              "    padding: 0;\n",
              "    width: 32px;\n",
              "  }\n",
              "\n",
              "  .colab-df-quickchart:hover {\n",
              "    background-color: var(--hover-bg-color);\n",
              "    box-shadow: 0 1px 2px rgba(60, 64, 67, 0.3), 0 1px 3px 1px rgba(60, 64, 67, 0.15);\n",
              "    fill: var(--button-hover-fill-color);\n",
              "  }\n",
              "\n",
              "  .colab-df-quickchart-complete:disabled,\n",
              "  .colab-df-quickchart-complete:disabled:hover {\n",
              "    background-color: var(--disabled-bg-color);\n",
              "    fill: var(--disabled-fill-color);\n",
              "    box-shadow: none;\n",
              "  }\n",
              "\n",
              "  .colab-df-spinner {\n",
              "    border: 2px solid var(--fill-color);\n",
              "    border-color: transparent;\n",
              "    border-bottom-color: var(--fill-color);\n",
              "    animation:\n",
              "      spin 1s steps(1) infinite;\n",
              "  }\n",
              "\n",
              "  @keyframes spin {\n",
              "    0% {\n",
              "      border-color: transparent;\n",
              "      border-bottom-color: var(--fill-color);\n",
              "      border-left-color: var(--fill-color);\n",
              "    }\n",
              "    20% {\n",
              "      border-color: transparent;\n",
              "      border-left-color: var(--fill-color);\n",
              "      border-top-color: var(--fill-color);\n",
              "    }\n",
              "    30% {\n",
              "      border-color: transparent;\n",
              "      border-left-color: var(--fill-color);\n",
              "      border-top-color: var(--fill-color);\n",
              "      border-right-color: var(--fill-color);\n",
              "    }\n",
              "    40% {\n",
              "      border-color: transparent;\n",
              "      border-right-color: var(--fill-color);\n",
              "      border-top-color: var(--fill-color);\n",
              "    }\n",
              "    60% {\n",
              "      border-color: transparent;\n",
              "      border-right-color: var(--fill-color);\n",
              "    }\n",
              "    80% {\n",
              "      border-color: transparent;\n",
              "      border-right-color: var(--fill-color);\n",
              "      border-bottom-color: var(--fill-color);\n",
              "    }\n",
              "    90% {\n",
              "      border-color: transparent;\n",
              "      border-bottom-color: var(--fill-color);\n",
              "    }\n",
              "  }\n",
              "</style>\n",
              "\n",
              "  <script>\n",
              "    async function quickchart(key) {\n",
              "      const quickchartButtonEl =\n",
              "        document.querySelector('#' + key + ' button');\n",
              "      quickchartButtonEl.disabled = true;  // To prevent multiple clicks.\n",
              "      quickchartButtonEl.classList.add('colab-df-spinner');\n",
              "      try {\n",
              "        const charts = await google.colab.kernel.invokeFunction(\n",
              "            'suggestCharts', [key], {});\n",
              "      } catch (error) {\n",
              "        console.error('Error during call to suggestCharts:', error);\n",
              "      }\n",
              "      quickchartButtonEl.classList.remove('colab-df-spinner');\n",
              "      quickchartButtonEl.classList.add('colab-df-quickchart-complete');\n",
              "    }\n",
              "    (() => {\n",
              "      let quickchartButtonEl =\n",
              "        document.querySelector('#df-c58f93d5-9f69-4838-91fc-a6c56efb13ca button');\n",
              "      quickchartButtonEl.style.display =\n",
              "        google.colab.kernel.accessAllowed ? 'block' : 'none';\n",
              "    })();\n",
              "  </script>\n",
              "</div>\n",
              "\n",
              "    </div>\n",
              "  </div>\n"
            ],
            "application/vnd.google.colaboratory.intrinsic+json": {
              "type": "dataframe",
              "variable_name": "df_query_dev",
              "summary": "{\n  \"name\": \"df_query_dev\",\n  \"rows\": 1400,\n  \"fields\": [\n    {\n      \"column\": \"post_id\",\n      \"properties\": {\n        \"dtype\": \"number\",\n        \"std\": 4098,\n        \"min\": 16,\n        \"max\": 14236,\n        \"num_unique_values\": 1400,\n        \"samples\": [\n          6890,\n          6417,\n          1144\n        ],\n        \"semantic_type\": \"\",\n        \"description\": \"\"\n      }\n    },\n    {\n      \"column\": \"tweet_text\",\n      \"properties\": {\n        \"dtype\": \"string\",\n        \"num_unique_values\": 1399,\n        \"samples\": [\n          \"Individuals without symptoms aren't the primary drivers of disease. assuming that the test is a true (+), they might be infected but they present no symptoms most likely due to built up immunity from prior viruses. secondary transmission is minimal with a low viral load.9/n\",\n          \"Covid-19: the pharmaceutical heparin blocks entry of sars-cov-2 in live viral tests. #covid19 #coronavirus #glycotime\",\n          \"A very intriguing study out from acog: the sars-cov-2 infection rate in pregnancy was 19.1/1,000 deliveries compared to 7.3/1,000 in 20-39 year old adults in washington state. the weight of these infections was borne predominantly by people of colour.\"\n        ],\n        \"semantic_type\": \"\",\n        \"description\": \"\"\n      }\n    },\n    {\n      \"column\": \"cord_uid\",\n      \"properties\": {\n        \"dtype\": \"string\",\n        \"num_unique_values\": 772,\n        \"samples\": [\n          \"fa05sovj\",\n          \"01h205jf\",\n          \"4hog76lx\"\n        ],\n        \"semantic_type\": \"\",\n        \"description\": \"\"\n      }\n    }\n  ]\n}"
            }
          },
          "metadata": {},
          "execution_count": 12
        }
      ]
    },
    {
      "cell_type": "code",
      "source": [
        "df_query_dev.info()"
      ],
      "metadata": {
        "colab": {
          "base_uri": "https://localhost:8080/"
        },
        "id": "t6gDlBZnLcdH",
        "outputId": "c6c01ee2-ad58-4c14-a780-e90170ae4051"
      },
      "execution_count": null,
      "outputs": [
        {
          "output_type": "stream",
          "name": "stdout",
          "text": [
            "<class 'pandas.core.frame.DataFrame'>\n",
            "RangeIndex: 1400 entries, 0 to 1399\n",
            "Data columns (total 3 columns):\n",
            " #   Column      Non-Null Count  Dtype \n",
            "---  ------      --------------  ----- \n",
            " 0   post_id     1400 non-null   int64 \n",
            " 1   tweet_text  1400 non-null   object\n",
            " 2   cord_uid    1400 non-null   object\n",
            "dtypes: int64(1), object(2)\n",
            "memory usage: 32.9+ KB\n"
          ]
        }
      ]
    },
    {
      "cell_type": "markdown",
      "metadata": {
        "id": "jr_BDzufPmmP"
      },
      "source": [
        "# 2) Running the baseline\n",
        "The following code runs a BM25 baseline.\n"
      ]
    },
    {
      "cell_type": "code",
      "execution_count": null,
      "metadata": {
        "colab": {
          "base_uri": "https://localhost:8080/"
        },
        "id": "BHfJ7ItxO8u8",
        "outputId": "a3327d4c-385a-40cb-c061-a82975bb3461"
      },
      "outputs": [
        {
          "output_type": "stream",
          "name": "stdout",
          "text": [
            "Collecting rank_bm25\n",
            "  Downloading rank_bm25-0.2.2-py3-none-any.whl.metadata (3.2 kB)\n",
            "Requirement already satisfied: numpy in /usr/local/lib/python3.11/dist-packages (from rank_bm25) (2.0.2)\n",
            "Downloading rank_bm25-0.2.2-py3-none-any.whl (8.6 kB)\n",
            "Installing collected packages: rank_bm25\n",
            "Successfully installed rank_bm25-0.2.2\n"
          ]
        }
      ],
      "source": [
        "!pip install rank_bm25\n",
        "from rank_bm25 import BM25Okapi\n"
      ]
    },
    {
      "cell_type": "code",
      "execution_count": null,
      "metadata": {
        "id": "jXCC7K_ZPQL2"
      },
      "outputs": [],
      "source": [
        "# Create the BM25 corpus\n",
        "corpus = df_collection[:][['title', 'abstract']].apply(lambda x: f\"{x['title']} {x['abstract']}\", axis=1).tolist()\n",
        "cord_uids = df_collection[:]['cord_uid'].tolist()\n",
        "tokenized_corpus = [doc.split(' ') for doc in corpus]\n",
        "bm25 = BM25Okapi(tokenized_corpus)"
      ]
    },
    {
      "cell_type": "code",
      "execution_count": null,
      "metadata": {
        "id": "e8NeJWGYPQZG"
      },
      "outputs": [],
      "source": [
        "def get_top_cord_uids(query):\n",
        "  text2bm25top = {}\n",
        "  if query in text2bm25top.keys():\n",
        "      return text2bm25top[query]\n",
        "  else:\n",
        "      tokenized_query = query.split(' ')\n",
        "      doc_scores = bm25.get_scores(tokenized_query)\n",
        "      indices = np.argsort(-doc_scores)[:5]\n",
        "      bm25_topk = [cord_uids[x] for x in indices]\n",
        "\n",
        "      text2bm25top[query] = bm25_topk\n",
        "      return bm25_topk\n"
      ]
    },
    {
      "cell_type": "code",
      "execution_count": null,
      "metadata": {
        "id": "Fk4-BqEtTgUj"
      },
      "outputs": [],
      "source": [
        "# Retrieve topk candidates using the BM25 model\n",
        "df_query_train['bm25_topk'] = df_query_train['tweet_text'].apply(lambda x: get_top_cord_uids(x))\n",
        "df_query_dev['bm25_topk'] = df_query_dev['tweet_text'].apply(lambda x: get_top_cord_uids(x))"
      ]
    },
    {
      "cell_type": "markdown",
      "metadata": {
        "id": "QVKBlTCZUMSc"
      },
      "source": [
        "# 3) Evaluating the baseline\n",
        "The following code evaluates the BM25 retrieval baseline on the query set using the Mean Reciprocal Rank score (MRR@5)."
      ]
    },
    {
      "cell_type": "code",
      "execution_count": null,
      "metadata": {
        "id": "c-vdGWXXTgjZ"
      },
      "outputs": [],
      "source": [
        "# Evaluate retrieved candidates using MRR@k\n",
        "def get_performance_mrr(data, col_gold, col_pred, list_k = [1, 5, 10]):\n",
        "    d_performance = {}\n",
        "    for k in list_k:\n",
        "        data[\"in_topx\"] = data.apply(lambda x: (1/([i for i in x[col_pred][:k]].index(x[col_gold]) + 1) if x[col_gold] in [i for i in x[col_pred][:k]] else 0), axis=1)\n",
        "        #performances.append(data[\"in_topx\"].mean())\n",
        "        d_performance[k] = data[\"in_topx\"].mean()\n",
        "    return d_performance\n"
      ]
    },
    {
      "cell_type": "code",
      "execution_count": null,
      "metadata": {
        "colab": {
          "base_uri": "https://localhost:8080/"
        },
        "id": "xLX9SMg5USkH",
        "outputId": "fe1143f8-d420-4600-870e-95b511b1e726"
      },
      "outputs": [
        {
          "output_type": "stream",
          "name": "stdout",
          "text": [
            "Results on the train set: {1: np.float64(0.5081303975725512), 5: np.float64(0.5509777224513084), 10: np.float64(0.5509777224513084)}\n",
            "Results on the dev set: {1: np.float64(0.5057142857142857), 5: np.float64(0.5522738095238094), 10: np.float64(0.5522738095238094)}\n"
          ]
        }
      ],
      "source": [
        "results_train = get_performance_mrr(df_query_train, 'cord_uid', 'bm25_topk')\n",
        "results_dev = get_performance_mrr(df_query_dev, 'cord_uid', 'bm25_topk')\n",
        "# Printed MRR@k results in the following format: {k: MRR@k}\n",
        "print(f\"Results on the train set: {results_train}\")\n",
        "print(f\"Results on the dev set: {results_dev}\")"
      ]
    },
    {
      "cell_type": "markdown",
      "source": [
        "#**Improvment on the baseline**\n",
        "\n",
        "An improvment on the baseline could be to use a thesaurus to look up synonyms for words in both the tweets and the scientific articles, and set all these to the same word. By doint this the words used does not have to match exactly, and the matching can be done more on the meaning behind the word that was used."
      ],
      "metadata": {
        "id": "CSNNsX5neMys"
      }
    },
    {
      "cell_type": "markdown",
      "source": [
        "The first step is to read in the file containing synonyms for comonly used words in relation to covid-19."
      ],
      "metadata": {
        "id": "GUxQcqXJTpK8"
      }
    },
    {
      "cell_type": "code",
      "source": [
        "thesaurus_file = pd.read_csv(\"./sample_data/Thesaurus_covid19_formatted_flattend.csv\", delimiter=';', encoding='cp1252')\n",
        "thesaurus_file.head()\n",
        "\n",
        "\n",
        "thesaurus = {\n",
        "    row['prefLabel_en']: row['altLabel_en'].strip('[]').split(', ')\n",
        "    for _, row in thesaurus_file.iterrows()\n",
        "}"
      ],
      "metadata": {
        "id": "MOGK7ezwhIyO"
      },
      "execution_count": null,
      "outputs": []
    },
    {
      "cell_type": "markdown",
      "source": [
        "To make lookup easier, the dictonary is also reversed, where data previously stored as the value is now the key and the key becomes the value.  "
      ],
      "metadata": {
        "id": "u90LTGcBT_rK"
      }
    },
    {
      "cell_type": "code",
      "source": [
        "reverse_thesaurus = {}\n",
        "\n",
        "for main_term, synonyms in thesaurus.items():\n",
        "    for synonym in synonyms:\n",
        "        reverse_thesaurus[synonym.lower()] = main_term.lower()\n",
        "    reverse_thesaurus[main_term.lower()] = main_term.lower()"
      ],
      "metadata": {
        "id": "5etC9bRXt1__"
      },
      "execution_count": null,
      "outputs": []
    },
    {
      "cell_type": "markdown",
      "source": [
        "A function is defined for converting the words in a text to the word that has been set as the value in the dictionary, if the word is in the key. In other words converting all words with the same meaning to a specific word."
      ],
      "metadata": {
        "id": "TGFNixKVUd5N"
      }
    },
    {
      "cell_type": "code",
      "source": [
        "def normalize_text(text, reverse_thesaurus):\n",
        "    words = text.lower().split()\n",
        "    normalized_words = [reverse_thesaurus.get(word, word) for word in words]\n",
        "    return ' '.join(normalized_words)"
      ],
      "metadata": {
        "id": "qPjSJ4hr7Ip4"
      },
      "execution_count": null,
      "outputs": []
    },
    {
      "cell_type": "markdown",
      "source": [
        "The corpus is created from the data frame and all documents are passed through the normalize_text function so that all synonyms of a word gets replaced with the same on."
      ],
      "metadata": {
        "id": "FarOcsL6dlP5"
      }
    },
    {
      "cell_type": "code",
      "source": [
        "corpus = df_collection[['title', 'abstract']].apply(\n",
        "    lambda x: f\"{x['title']} {x['abstract']}\", axis=1\n",
        ").tolist()\n",
        "\n",
        "normalized_corpus = [normalize_text(doc, reverse_thesaurus) for doc in corpus]\n",
        "cord_uids = df_collection[:]['cord_uid'].tolist()\n",
        "tokenized_corpus_using_thesaurus = [doc.split() for doc in normalized_corpus]\n",
        "\n",
        "bm25_improved = BM25Okapi(tokenized_corpus_using_thesaurus)"
      ],
      "metadata": {
        "id": "p8h0dogXeLhA"
      },
      "execution_count": null,
      "outputs": []
    },
    {
      "cell_type": "markdown",
      "source": [
        "Define the function for getting the scores for a specific query. Here the words of the query is passed through the same normalize_text function as the corpus."
      ],
      "metadata": {
        "id": "5m4Qb6mld3fE"
      }
    },
    {
      "cell_type": "code",
      "source": [
        "def get_top_cord_uids_improved(query,reverse_thesaurus):\n",
        "  text2bm25top = {}\n",
        "  if query in text2bm25top.keys():\n",
        "      return text2bm25top[query]\n",
        "  else:\n",
        "      normalized_query = normalize_text(query, reverse_thesaurus)\n",
        "      tokenized_query = normalized_query.split(' ')\n",
        "      doc_scores = bm25_improved.get_scores(tokenized_query)\n",
        "      indices = np.argsort(-doc_scores)[:5]\n",
        "      bm25_topk = [cord_uids[x] for x in indices]\n",
        "\n",
        "      text2bm25top[query] = bm25_topk\n",
        "      return bm25_topk"
      ],
      "metadata": {
        "id": "NIFd2q7jC32X"
      },
      "execution_count": null,
      "outputs": []
    },
    {
      "cell_type": "code",
      "source": [
        "# Retrieve topk candidates using the BM25 model\n",
        "df_query_train['bm25_topk_improved'] = df_query_train['tweet_text'].apply(lambda x: get_top_cord_uids_improved(x, reverse_thesaurus))\n",
        "df_query_dev['bm25_topk_improved'] = df_query_dev['tweet_text'].apply(lambda x: get_top_cord_uids_improved(x, reverse_thesaurus))"
      ],
      "metadata": {
        "id": "nEhFI9Qs944T"
      },
      "execution_count": null,
      "outputs": []
    },
    {
      "cell_type": "markdown",
      "source": [
        "# Evaluating the improvment on the baseline"
      ],
      "metadata": {
        "id": "eMNHxxXSe0K-"
      }
    },
    {
      "cell_type": "code",
      "source": [
        "# Evaluate retrieved candidates using MRR@k\n",
        "def get_performance_mrr(data, col_gold, col_pred, list_k = [1, 5, 10]):\n",
        "    d_performance = {}\n",
        "    for k in list_k:\n",
        "        data[\"in_topx\"] = data.apply(lambda x: (1/([i for i in x[col_pred][:k]].index(x[col_gold]) + 1) if x[col_gold] in [i for i in x[col_pred][:k]] else 0), axis=1)\n",
        "        #performances.append(data[\"in_topx\"].mean())\n",
        "        d_performance[k] = data[\"in_topx\"].mean()\n",
        "    return d_performance\n"
      ],
      "metadata": {
        "id": "E8wfVYK2e7oF"
      },
      "execution_count": null,
      "outputs": []
    },
    {
      "cell_type": "code",
      "source": [
        "results_train = get_performance_mrr(df_query_train, 'cord_uid', 'bm25_topk_improved')\n",
        "results_dev = get_performance_mrr(df_query_dev, 'cord_uid', 'bm25_topk_improved')\n",
        "# Printed MRR@k results in the following format: {k: MRR@k}\n",
        "print(f\"Results on the train set: {results_train}\")\n",
        "print(f\"Results on the dev set: {results_dev}\")"
      ],
      "metadata": {
        "colab": {
          "base_uri": "https://localhost:8080/"
        },
        "id": "CsWtHRXLfAVs",
        "outputId": "77538b37-9d9f-4ed5-c307-747fc59afb01"
      },
      "execution_count": null,
      "outputs": [
        {
          "output_type": "stream",
          "name": "stdout",
          "text": [
            "Results on the train set: {1: np.float64(0.5479654555356726), 5: np.float64(0.5898519152467647), 10: np.float64(0.5898519152467647)}\n",
            "Results on the dev set: {1: np.float64(0.5421428571428571), 5: np.float64(0.5870238095238095), 10: np.float64(0.5870238095238095)}\n"
          ]
        }
      ]
    },
    {
      "cell_type": "markdown",
      "source": [
        "# 4) Exporting results to prepare the submission on Codalab"
      ],
      "metadata": {
        "id": "RazcRTV84KQC"
      }
    },
    {
      "cell_type": "code",
      "source": [
        "df_query_dev['preds'] = df_query_dev['bm25_topk'].apply(lambda x: x[:5])"
      ],
      "metadata": {
        "id": "DFng4ocDw3Hk"
      },
      "execution_count": null,
      "outputs": []
    },
    {
      "cell_type": "code",
      "source": [
        "df_query_dev[['post_id', 'preds']].to_csv('predictions.tsv', index=None, sep='\\t')"
      ],
      "metadata": {
        "id": "nAVBQYh_xP8O"
      },
      "execution_count": null,
      "outputs": []
    },
    {
      "cell_type": "code",
      "source": [],
      "metadata": {
        "id": "opGI1H1h4Og5"
      },
      "execution_count": null,
      "outputs": []
    }
  ]
}